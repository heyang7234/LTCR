{
 "cells": [
  {
   "cell_type": "code",
   "execution_count": 1,
   "metadata": {
    "ExecuteTime": {
     "end_time": "2023-11-09T02:35:01.905296300Z",
     "start_time": "2023-11-09T02:35:01.403052900Z"
    },
    "collapsed": false
   },
   "outputs": [],
   "source": [
    "# !pip install -r requirements.txt"
   ]
  },
  {
   "cell_type": "code",
   "execution_count": 2,
   "metadata": {
    "ExecuteTime": {
     "end_time": "2023-11-09T02:35:01.920926500Z",
     "start_time": "2023-11-09T02:35:01.654602Z"
    },
    "collapsed": false
   },
   "outputs": [],
   "source": [
    "from AD_TSTCC import COMET\n",
    "from models.encoder import FTClassifier\n",
    "# import datautils\n",
    "from tasks.fine_tuning import finetune_fit\n",
    "from tasks.fine_tuning import finetune_predict\n",
    "from tasks.linear_evaluation import eval_classification\n",
    "from dataloading.ad_preprocessing import load_ad\n",
    "from config_files.AD_Configs import Config as Configs\n",
    "from dct_func import FFT_for_Period\n",
    "import os\n",
    "import torch\n",
    "import numpy as np\n",
    "import pandas as pd\n",
    "import torch.nn as nn\n",
    "import matplotlib.pyplot as plt\n",
    "import random\n",
    "import copy\n",
    "import sklearn\n",
    "from utils_cpc import plot_channels # \n",
    "from utils_cpc import process_batch_ts\n",
    "from utils_cpc import split_data_label\n",
    "from utils_cpc import start_logging\n",
    "from utils_cpc import stop_logging\n",
    "from utils_cpc import seed_everything\n",
    "\n",
    "from datetime import datetime"
   ]
  },
  {
   "cell_type": "code",
   "execution_count": 3,
   "metadata": {
    "ExecuteTime": {
     "end_time": "2023-11-09T02:35:02.102295400Z",
     "start_time": "2023-11-09T02:35:01.842412500Z"
    },
    "executionInfo": {
     "elapsed": 46,
     "status": "ok",
     "timestamp": 1676328072870,
     "user": {
      "displayName": "Lucian",
      "userId": "17113640720459928730"
     },
     "user_tz": 300
    },
    "id": "T5Qnm0ILMZJQ"
   },
   "outputs": [],
   "source": [
    "configs = Configs()\n",
    "RANDOM_SEED = configs.RANDOM_SEED\n",
    "\n",
    "# Autoload the modified python file\n",
    "%reload_ext autoreload\n",
    "%autoreload 2\n",
    "\n",
    "# Ignore warnings\n",
    "import warnings\n",
    "warnings.filterwarnings(\"ignore\")"
   ]
  },
  {
   "cell_type": "markdown",
   "metadata": {
    "collapsed": false
   },
   "source": [
    "#### Specify saving and logging directory"
   ]
  },
  {
   "cell_type": "code",
   "execution_count": 4,
   "metadata": {
    "ExecuteTime": {
     "end_time": "2023-11-09T02:35:02.278596700Z",
     "start_time": "2023-11-09T02:35:02.067331100Z"
    },
    "collapsed": false
   },
   "outputs": [],
   "source": [
    "working_directory = configs.working_directory\n",
    "dataset_save_path = working_directory\n",
    "if not os.path.exists(working_directory):\n",
    "    os.makedirs(working_directory)\n",
    "\n",
    "logging_directory = configs.logging_directory\n",
    "if not os.path.exists(logging_directory):\n",
    "    os.makedirs(logging_directory)"
   ]
  },
  {
   "cell_type": "markdown",
   "metadata": {
    "collapsed": false
   },
   "source": [
    "#### Load and preprocessing data"
   ]
  },
  {
   "cell_type": "code",
   "execution_count": 5,
   "metadata": {
    "ExecuteTime": {
     "end_time": "2023-11-09T02:35:03.036742900Z",
     "start_time": "2023-11-09T02:35:02.278596700Z"
    },
    "colab": {
     "base_uri": "https://localhost:8080/"
    },
    "executionInfo": {
     "elapsed": 6758,
     "status": "ok",
     "timestamp": 1676328080495,
     "user": {
      "displayName": "Lucian",
      "userId": "17113640720459928730"
     },
     "user_tz": 300
    },
    "id": "SFlMhpSe5IWB",
    "outputId": "c395125c-ce87-4d3d-a1da-e771028212b3"
   },
   "outputs": [
    {
     "name": "stdout",
     "output_type": "stream",
     "text": [
      "Validation subjects:  [17, 18]\n",
      "Test subjects:  [19, 20]\n",
      "(481, 1280, 16)\n",
      "(481, 2)\n",
      "(99, 1280, 16)\n",
      "(99, 2)\n",
      "(83, 1280, 16)\n",
      "(83, 2)\n"
     ]
    }
   ],
   "source": [
    "data_path = \"datasets/AD/Feature/\"\n",
    "label_path = \"datasets/AD/Label/label.npy\"\n",
    "val_ids = [17,18]  # specify patient ID for validation and test set\n",
    "test_ids = [19,20]\n",
    "X_trial_train, X_trial_val, X_trial_test, y_trial_train, y_trial_val, y_trial_test = load_ad(val_ids, test_ids, data_path, label_path)\n",
    "print(X_trial_train.shape)\n",
    "print(y_trial_train.shape)\n",
    "print(X_trial_val.shape)\n",
    "print(y_trial_val.shape)\n",
    "print(X_trial_test.shape)\n",
    "print(y_trial_test.shape)"
   ]
  },
  {
   "cell_type": "code",
   "execution_count": 6,
   "metadata": {
    "ExecuteTime": {
     "end_time": "2023-11-09T02:35:03.569229500Z",
     "start_time": "2023-11-09T02:35:02.862963700Z"
    },
    "collapsed": false
   },
   "outputs": [
    {
     "name": "stdout",
     "output_type": "stream",
     "text": [
      "(481, 1280, 16)\n",
      "(99, 1280, 16)\n",
      "(83, 1280, 16)\n"
     ]
    }
   ],
   "source": [
    "# normalize data\n",
    "X_trial_train = process_batch_ts(X_trial_train, normalized=True, bandpass_filter=False)\n",
    "X_trial_val = process_batch_ts(X_trial_val, normalized=True, bandpass_filter=False)\n",
    "X_trial_test = process_batch_ts(X_trial_test, normalized=True, bandpass_filter=False)\n",
    "print(X_trial_train.shape)\n",
    "print(X_trial_val.shape)\n",
    "print(X_trial_test.shape)"
   ]
  },
  {
   "cell_type": "code",
   "execution_count": 7,
   "metadata": {},
   "outputs": [],
   "source": [
    "# periodicity, freq_list = FFT_for_Period(torch.tensor(X_trial_train), 8) # \n",
    "# periodicity = torch.from_numpy(np.array([periodicity]))\n",
    "# # periodicity = periodicity.item()\n",
    "# periodicity\n",
    "# tensor([[1280,  640,  426,  320,  256,  213,  182,  160]])"
   ]
  },
  {
   "cell_type": "code",
   "execution_count": 8,
   "metadata": {
    "ExecuteTime": {
     "end_time": "2023-11-09T02:35:03.969197400Z",
     "start_time": "2023-11-09T02:35:03.569229500Z"
    },
    "collapsed": false
   },
   "outputs": [
    {
     "name": "stdout",
     "output_type": "stream",
     "text": [
      "(4329, 4)\n",
      "(891, 4)\n",
      "(747, 4)\n",
      "(4329, 256, 16)\n",
      "(891, 256, 16)\n",
      "(747, 256, 16)\n",
      "(4329, 4)\n",
      "(891, 4)\n",
      "(747, 4)\n"
     ]
    }
   ],
   "source": [
    "# Split trail-level data into sample-level data\n",
    "X_train, y_train = split_data_label(X_trial_train,y_trial_train, sample_timestamps=configs.S_TIMESTAMPS, overlapping=configs.S_OVERLAPPING)\n",
    "X_val, y_val = split_data_label(X_trial_val,y_trial_val, sample_timestamps=configs.S_TIMESTAMPS, overlapping=configs.S_OVERLAPPING)\n",
    "X_test, y_test = split_data_label(X_trial_test,y_trial_test, sample_timestamps=configs.S_TIMESTAMPS, overlapping=configs.S_OVERLAPPING)\n",
    "print(X_train.shape)\n",
    "print(X_val.shape)\n",
    "print(X_test.shape)\n",
    "print(y_train.shape)\n",
    "print(y_val.shape)\n",
    "print(y_test.shape)"
   ]
  },
  {
   "cell_type": "code",
   "execution_count": 9,
   "metadata": {},
   "outputs": [],
   "source": [
    "del X_trial_train\n",
    "del X_trial_val\n",
    "del X_trial_test"
   ]
  },
  {
   "cell_type": "code",
   "execution_count": 12,
   "metadata": {},
   "outputs": [
    {
     "name": "stdout",
     "output_type": "stream",
     "text": [
      "PyTorch version: 2.1.2+cu121\n",
      "GPU available: True\n",
      "cuDNN available: True\n"
     ]
    }
   ],
   "source": [
    "import torch\n",
    "\n",
    "# \n",
    "print(\"PyTorch version:\", torch.__version__)\n",
    "print(\"GPU available:\", torch.cuda.is_available())\n",
    "\n",
    "#\n",
    "print(\"cuDNN available:\", torch.backends.cudnn.enabled)\n"
   ]
  },
  {
   "cell_type": "markdown",
   "metadata": {
    "id": "Gzsn8WX82O5c"
   },
   "source": [
    "## Train model"
   ]
  },
  {
   "cell_type": "code",
   "execution_count": 13,
   "metadata": {
    "ExecuteTime": {
     "end_time": "2023-11-09T02:35:04.569609300Z",
     "start_time": "2023-11-09T02:35:04.329058300Z"
    },
    "collapsed": false
   },
   "outputs": [
    {
     "name": "stdout",
     "output_type": "stream",
     "text": [
      "The program will run on cuda!\n"
     ]
    }
   ],
   "source": [
    "device = \"cuda\" if torch.cuda.is_available() else \"cpu\"\n",
    "print(f\"The program will run on {device}!\")\n",
    "# device = \"cuda\""
   ]
  },
  {
   "cell_type": "markdown",
   "metadata": {
    "collapsed": false
   },
   "source": [
    "### Callback functions"
   ]
  },
  {
   "cell_type": "code",
   "execution_count": 14,
   "metadata": {
    "ExecuteTime": {
     "end_time": "2023-11-09T02:35:04.758668200Z",
     "start_time": "2023-11-09T02:35:04.569609300Z"
    },
    "collapsed": false
   },
   "outputs": [],
   "source": [
    "def pretrain_callback(model, loss):\n",
    "    n = model.n_epochs\n",
    "    metrics_dict = {}\n",
    "    if n % 1 == 0:\n",
    "        metrics_dict = eval_classification(model, X_train, y_train[:, 0], X_val, y_val[:, 0], fraction=1)\n",
    "        print(metrics_dict)\n",
    "        model.save(f\"{working_directory}seed{RANDOM_SEED}_pretrain_model.pt\")\n",
    "    return metrics_dict['F1']"
   ]
  },
  {
   "cell_type": "code",
   "execution_count": 15,
   "metadata": {
    "ExecuteTime": {
     "end_time": "2023-11-09T02:35:04.947506400Z",
     "start_time": "2023-11-09T02:35:04.758668200Z"
    },
    "collapsed": false
   },
   "outputs": [],
   "source": [
    "def finetune_callback(model, f1, fraction=1.0):\n",
    "    n = model.n_epochs\n",
    "    if model.n_epochs == 1:\n",
    "        model.finetune_f1 = f1\n",
    "        torch.save(model.state_dict(), f\"{working_directory}seed{RANDOM_SEED}_max_f1_{fraction}_finetune_model.pt\")\n",
    "    # control the saving frequency\n",
    "    if n % 1 == 0:\n",
    "        if f1 > model.finetune_f1:\n",
    "            model.finetune_f1 = f1\n",
    "            torch.save(model.state_dict(), f\"{working_directory}seed{RANDOM_SEED}_max_f1_{fraction}_finetune_model.pt\")\n",
    "    return finetune_callback"
   ]
  },
  {
   "cell_type": "markdown",
   "metadata": {
    "collapsed": false
   },
   "source": [
    "## Self-Supervised"
   ]
  },
  {
   "cell_type": "code",
   "execution_count": 16,
   "metadata": {
    "ExecuteTime": {
     "end_time": "2023-11-09T02:36:10.310784300Z",
     "start_time": "2023-11-09T02:35:04.947506400Z"
    },
    "colab": {
     "base_uri": "https://localhost:8080/"
    },
    "executionInfo": {
     "elapsed": 262193,
     "status": "ok",
     "timestamp": 1675656463615,
     "user": {
      "displayName": "Lucian",
      "userId": "17113640720459928730"
     },
     "user_tz": 300
    },
    "id": "27wjLpD237VR",
    "outputId": "cc4d88e7-1cfe-4bb5-d642-cbd3a879d335"
   },
   "outputs": [
    {
     "name": "stdout",
     "output_type": "stream",
     "text": [
      "Epoch #1: loss=18.200166914198135\n",
      "{'Accuracy': 0.7654320987654321, 'Precision': 0.7918501170960188, 'Recall': 0.7933615819209039, 'F1': 0.7654214613684032, 'AUROC': 0.9297970286670852, 'AUPRC': 0.9282265347935252}\n",
      "Epoch #2: loss=15.021133793724907\n",
      "{'Accuracy': 0.8092031425364759, 'Precision': 0.8212814750030508, 'Recall': 0.8305320150659133, 'F1': 0.8087577269605268, 'AUROC': 0.9392079933040386, 'AUPRC': 0.938827166844266}\n",
      "Epoch #3: loss=14.236398643917507\n",
      "{'Accuracy': 0.7890011223344556, 'Precision': 0.8030394966295802, 'Recall': 0.8108992467043314, 'F1': 0.7886366389404829, 'AUROC': 0.919590918602218, 'AUPRC': 0.9183717820828301}\n",
      "Epoch #4: loss=13.526692443423801\n",
      "{'Accuracy': 0.7789001122334456, 'Precision': 0.7954398894518655, 'Recall': 0.8019774011299435, 'F1': 0.7786491731832162, 'AUROC': 0.9171636325591128, 'AUPRC': 0.9166619536724434}\n",
      "Epoch #5: loss=13.260795063442654\n",
      "{'Accuracy': 0.7867564534231201, 'Precision': 0.8022624850547226, 'Recall': 0.8094632768361583, 'F1': 0.7864635364635364, 'AUROC': 0.9142550742833229, 'AUPRC': 0.913217797799789}\n",
      "Epoch #6: loss=13.006672541300455\n",
      "{'Accuracy': 0.7789001122334456, 'Precision': 0.7970143128302467, 'Recall': 0.8028719397363465, 'F1': 0.7787116823519771, 'AUROC': 0.9127798702657459, 'AUPRC': 0.910128184805147}\n",
      "Epoch #7: loss=12.55583381652832\n",
      "{'Accuracy': 0.7676767676767676, 'Precision': 0.7871892325574219, 'Recall': 0.7921139359698681, 'F1': 0.7675350423558446, 'AUROC': 0.9060472902280812, 'AUPRC': 0.901621621760601}\n",
      "Epoch #8: loss=12.286040518018934\n",
      "{'Accuracy': 0.7631874298540965, 'Precision': 0.7842522974101922, 'Recall': 0.7883474576271186, 'F1': 0.763090742063897, 'AUROC': 0.8983417032852061, 'AUPRC': 0.8932475412373808}\n",
      "Epoch #9: loss=11.722406281365288\n",
      "{'Accuracy': 0.7665544332210998, 'Precision': 0.7810432829726419, 'Recall': 0.7880414312617703, 'F1': 0.7661936577784058, 'AUROC': 0.8976354885959407, 'AUPRC': 0.892649479746642}\n",
      "Epoch #10: loss=11.311895264519585\n",
      "{'Accuracy': 0.7598204264870931, 'Precision': 0.775685421994885, 'Recall': 0.7819444444444444, 'F1': 0.7595293346113101, 'AUROC': 0.8950041849759365, 'AUPRC': 0.8907457408128925}\n",
      "Epoch #11: loss=10.725986586676704\n",
      "{'Accuracy': 0.7564534231200898, 'Precision': 0.7718983886139625, 'Recall': 0.7782250470809793, 'F1': 0.7561388749799776, 'AUROC': 0.8913423310315967, 'AUPRC': 0.8877699947985018}\n",
      "Epoch #12: loss=10.379573610093859\n",
      "{'Accuracy': 0.7721661054994389, 'Precision': 0.7856447552162436, 'Recall': 0.7931967984934087, 'F1': 0.7717509404533105, 'AUROC': 0.8944235195647625, 'AUPRC': 0.890385669627285}\n",
      "Epoch #13: loss=10.12916538450453\n",
      "{'Accuracy': 0.7789001122334456, 'Precision': 0.7931818181818182, 'Recall': 0.800635593220339, 'F1': 0.7785385794583546, 'AUROC': 0.903436911487759, 'AUPRC': 0.8995775607438936}\n",
      "Epoch #14: loss=9.99073796802097\n",
      "{'Accuracy': 0.7822671156004489, 'Precision': 0.7977099236641221, 'Recall': 0.8048022598870057, 'F1': 0.781968031968032, 'AUROC': 0.9071824649508267, 'AUPRC': 0.904042101534704}\n",
      "Epoch #15: loss=9.430005841785007\n",
      "{'Accuracy': 0.7800224466891134, 'Precision': 0.7939531302583138, 'Recall': 0.8015772128060263, 'F1': 0.7796424533634823, 'AUROC': 0.9044046871730487, 'AUPRC': 0.9022504718635151}\n",
      "Epoch #16: loss=9.103088802761501\n",
      "{'Accuracy': 0.7833894500561167, 'Precision': 0.7928958977739466, 'Recall': 0.8021657250470811, 'F1': 0.7827051698233847, 'AUROC': 0.9006591337099812, 'AUPRC': 0.8983556809643605}\n",
      "Epoch #17: loss=8.854896969265408\n",
      "{'Accuracy': 0.7901234567901234, 'Precision': 0.7943471064370926, 'Recall': 0.8051318267419962, 'F1': 0.7888938584010025, 'AUROC': 0.8993356350700983, 'AUPRC': 0.8965318053515083}\n",
      "Epoch #18: loss=8.608979013231066\n",
      "{'Accuracy': 0.7991021324354658, 'Precision': 0.8003325942350332, 'Recall': 0.8117702448210923, 'F1': 0.7974693992616965, 'AUROC': 0.9000575434191254, 'AUPRC': 0.8967265860748195}\n",
      "Epoch #19: loss=8.378877666261461\n",
      "{'Accuracy': 0.8024691358024691, 'Precision': 0.801330376940133, 'Recall': 0.8128060263653485, 'F1': 0.8003869653767821, 'AUROC': 0.9004184975936388, 'AUPRC': 0.8969427717485812}\n",
      "Epoch #20: loss=8.044934378729927\n",
      "{'Accuracy': 0.8013468013468014, 'Precision': 0.8000105831838249, 'Recall': 0.8114171374764596, 'F1': 0.7992060268621637, 'AUROC': 0.8987863569784473, 'AUPRC': 0.8950665976981835}\n",
      "Epoch #21: loss=7.800184620751275\n",
      "{'Accuracy': 0.7991021324354658, 'Precision': 0.7977654363295503, 'Recall': 0.8090866290018832, 'F1': 0.7969371684086288, 'AUROC': 0.8930529399455953, 'AUPRC': 0.8891177800185386}\n",
      "Epoch #22: loss=7.759419573677911\n",
      "{'Accuracy': 0.7901234567901234, 'Precision': 0.7891836734693878, 'Recall': 0.8002118644067797, 'F1': 0.7879600041232863, 'AUROC': 0.8858913998744506, 'AUPRC': 0.8814853448973586}\n",
      "Epoch #23: loss=7.661029709710015\n",
      "{'Accuracy': 0.7833894500561167, 'Precision': 0.7820494083496281, 'Recall': 0.7927730696798494, 'F1': 0.7810551592338847, 'AUROC': 0.8778614772965054, 'AUPRC': 0.8726906283012614}\n",
      "Epoch #24: loss=7.551876333024767\n",
      "{'Accuracy': 0.77665544332211, 'Precision': 0.7761256449532409, 'Recall': 0.7866760828625236, 'F1': 0.7744553430254524, 'AUROC': 0.8721175978238125, 'AUPRC': 0.8660328578050316}\n",
      "Epoch #25: loss=7.353532791137695\n",
      "{'Accuracy': 0.7732884399551067, 'Precision': 0.7721452328159646, 'Recall': 0.7825094161958569, 'F1': 0.7708986761710794, 'AUROC': 0.8693398200460347, 'AUPRC': 0.8628535995853097}\n",
      "Epoch #26: loss=7.264559454388088\n",
      "{'Accuracy': 0.7699214365881033, 'Precision': 0.7689795918367347, 'Recall': 0.7792372881355931, 'F1': 0.767549737140501, 'AUROC': 0.8671897886587152, 'AUPRC': 0.860648620610337}\n",
      "Epoch #27: loss=7.186181253857082\n",
      "{'Accuracy': 0.7721661054994389, 'Precision': 0.7704336737265497, 'Recall': 0.7806732580037665, 'F1': 0.7696017425752664, 'AUROC': 0.8655001046243985, 'AUPRC': 0.8588009188946627}\n",
      "Epoch #28: loss=6.934545358022054\n",
      "{'Accuracy': 0.7744107744107744, 'Precision': 0.7719323900481055, 'Recall': 0.7821092278719397, 'F1': 0.7716482824308248, 'AUROC': 0.8646264908976773, 'AUPRC': 0.8577190451012312}\n",
      "Epoch #29: loss=6.847928762435913\n",
      "{'Accuracy': 0.7665544332210998, 'Precision': 0.765410199556541, 'Recall': 0.7755178907721281, 'F1': 0.7640936863543788, 'AUROC': 0.8629054195438377, 'AUPRC': 0.8557665348668537}\n",
      "Epoch #30: loss=6.733588854471843\n",
      "{'Accuracy': 0.7598204264870931, 'Precision': 0.7595002720841647, 'Recall': 0.7694209039548022, 'F1': 0.7575084699203369, 'AUROC': 0.86314605566018, 'AUPRC': 0.8561293168821107}\n",
      "Epoch #31: loss=6.542088402642144\n",
      "{'Accuracy': 0.7620650953984287, 'Precision': 0.7605234509661617, 'Recall': 0.770409604519774, 'F1': 0.7594443425637264, 'AUROC': 0.8628217200251098, 'AUPRC': 0.8555104635238815}\n",
      "Epoch #32: loss=6.381509489483303\n",
      "{'Accuracy': 0.7620650953984287, 'Precision': 0.7613273337431598, 'Recall': 0.771304143126177, 'F1': 0.7596671586340271, 'AUROC': 0.8641295250052312, 'AUPRC': 0.856361182880663}\n",
      "Epoch #33: loss=6.337528493669298\n",
      "{'Accuracy': 0.7699214365881033, 'Precision': 0.7681881873809212, 'Recall': 0.7783427495291901, 'F1': 0.7673318090045793, 'AUROC': 0.8647258840761666, 'AUPRC': 0.8565990578933118}\n",
      "Epoch #34: loss=6.272526105244954\n",
      "{'Accuracy': 0.7631874298540965, 'Precision': 0.7622448979591836, 'Recall': 0.7722457627118644, 'F1': 0.7607463148129059, 'AUROC': 0.8647206528562461, 'AUPRC': 0.8565758074107642}\n",
      "Epoch #35: loss=6.10720059606764\n",
      "{'Accuracy': 0.7643097643097643, 'Precision': 0.7631651884700665, 'Recall': 0.7731873822975518, 'F1': 0.7618253564154787, 'AUROC': 0.8659081397781963, 'AUPRC': 0.8574201163458645}\n",
      "Epoch #36: loss=5.931842697991265\n",
      "{'Accuracy': 0.7687991021324355, 'Precision': 0.7672593667785539, 'Recall': 0.7774011299435029, 'F1': 0.7662525215477718, 'AUROC': 0.8681994141033689, 'AUPRC': 0.8597193112980583}\n",
      "Epoch #37: loss=5.926594654719035\n",
      "{'Accuracy': 0.7676767676767676, 'Precision': 0.76756940595556, 'Recall': 0.7778013182674199, 'F1': 0.765492030998684, 'AUROC': 0.871238752877171, 'AUPRC': 0.8634344209136249}\n",
      "Epoch #38: loss=5.987900257110596\n",
      "{'Accuracy': 0.7744107744107744, 'Precision': 0.774736985307455, 'Recall': 0.7852401129943503, 'F1': 0.7723877609379468, 'AUROC': 0.8731743042477507, 'AUPRC': 0.8658550732187001}\n",
      "Epoch #39: loss=5.853470272488064\n",
      "{'Accuracy': 0.7687991021324355, 'Precision': 0.7702567178019231, 'Recall': 0.7805320150659134, 'F1': 0.7669671423492966, 'AUROC': 0.8754551161330821, 'AUPRC': 0.8681966038620778}\n",
      "Epoch #40: loss=5.768697685665554\n",
      "{'Accuracy': 0.7631874298540965, 'Precision': 0.7653543704002419, 'Recall': 0.775376647834275, 'F1': 0.7614518370014148, 'AUROC': 0.8772180372462859, 'AUPRC': 0.870187021543847}\n",
      "Epoch #41: loss=5.7946006589465675\n",
      "{'Accuracy': 0.7631874298540965, 'Precision': 0.7658416440621565, 'Recall': 0.7758239171374764, 'F1': 0.7615426081772693, 'AUROC': 0.8797028667085164, 'AUPRC': 0.8728555414387977}\n",
      "Epoch #42: loss=5.637626436021593\n",
      "{'Accuracy': 0.7609427609427609, 'Precision': 0.764093137254902, 'Recall': 0.7739406779661018, 'F1': 0.7593714696518434, 'AUROC': 0.8811937643858547, 'AUPRC': 0.8744166840965679}\n",
      "Epoch #43: loss=5.641987244288127\n",
      "{'Accuracy': 0.7643097643097643, 'Precision': 0.7667196007259528, 'Recall': 0.7767655367231638, 'F1': 0.7626278772378516, 'AUROC': 0.8827317430424775, 'AUPRC': 0.8764805632657828}\n",
      "Epoch #44: loss=5.451113767094082\n",
      "{'Accuracy': 0.7643097643097643, 'Precision': 0.7667196007259528, 'Recall': 0.7767655367231638, 'F1': 0.7626278772378516, 'AUROC': 0.884138941201088, 'AUPRC': 0.8784053642105434}\n",
      "Epoch #45: loss=5.3814839124679565\n",
      "{'Accuracy': 0.7676767676767676, 'Precision': 0.7703339753350342, 'Recall': 0.780484934086629, 'F1': 0.7660631274535297, 'AUROC': 0.8848922368696379, 'AUPRC': 0.8793668100991601}\n",
      "Epoch #46: loss=5.302954143948025\n",
      "{'Accuracy': 0.7665544332210998, 'Precision': 0.7704795204795205, 'Recall': 0.7804378531073446, 'F1': 0.7651459854014598, 'AUROC': 0.8851328729859803, 'AUPRC': 0.8800347740243988}\n",
      "Epoch #47: loss=5.27968086136712\n",
      "{'Accuracy': 0.7710437710437711, 'Precision': 0.7760439283009342, 'Recall': 0.7859934086629001, 'F1': 0.7698187565218273, 'AUROC': 0.8856507637581084, 'AUPRC': 0.8807592464275057}\n",
      "Epoch #48: loss=5.242391188939412\n",
      "{'Accuracy': 0.7699214365881033, 'Precision': 0.7751934265282211, 'Recall': 0.7850517890772128, 'F1': 0.7687281981805175, 'AUROC': 0.8874973843900398, 'AUPRC': 0.8827871621278579}\n",
      "Epoch #49: loss=5.204042222764757\n",
      "{'Accuracy': 0.7710437710437711, 'Precision': 0.7749750249750249, 'Recall': 0.7850988700564971, 'F1': 0.7696624087591241, 'AUROC': 0.8892393806235614, 'AUPRC': 0.885008077144166}\n",
      "Epoch #50: loss=5.201280170016819\n",
      "{'Accuracy': 0.7710437710437711, 'Precision': 0.7744577827095733, 'Recall': 0.7846516007532957, 'F1': 0.769580650068455, 'AUROC': 0.8909342958777987, 'AUPRC': 0.8870317494636242}\n",
      "Epoch #51: loss=5.053675757514106\n",
      "{'Accuracy': 0.7732884399551067, 'Precision': 0.7761983521082727, 'Recall': 0.7865348399246704, 'F1': 0.771756333127048, 'AUROC': 0.8920537769407826, 'AUPRC': 0.8884573429545448}\n",
      "Epoch #52: loss=5.038440836800469\n",
      "{'Accuracy': 0.7777777777777778, 'Precision': 0.7806912270439808, 'Recall': 0.791195856873823, 'F1': 0.7762760096987897, 'AUROC': 0.893351119481063, 'AUPRC': 0.8899323315660848}\n",
      "Epoch #53: loss=4.908413463168674\n",
      "{'Accuracy': 0.7800224466891134, 'Precision': 0.7834459800262281, 'Recall': 0.7939736346516008, 'F1': 0.7786167030069469, 'AUROC': 0.8952291274325174, 'AUPRC': 0.8919476548446847}\n",
      "Epoch #54: loss=4.879089925024244\n",
      "{'Accuracy': 0.7833894500561167, 'Precision': 0.7870756192301871, 'Recall': 0.7976930320150659, 'F1': 0.7820441810385801, 'AUROC': 0.8967775685289809, 'AUPRC': 0.893778119853526}\n",
      "Epoch #55: loss=4.855994462966919\n",
      "{'Accuracy': 0.7890011223344556, 'Precision': 0.7924341773428831, 'Recall': 0.8032956685499058, 'F1': 0.7876527559454389, 'AUROC': 0.8982056915672735, 'AUPRC': 0.8949597219011196}\n",
      "Epoch #56: loss=4.833819230397542\n",
      "{'Accuracy': 0.7890011223344556, 'Precision': 0.792957042957043, 'Recall': 0.8037429378531074, 'F1': 0.7877281021897811, 'AUROC': 0.8993670223896213, 'AUPRC': 0.896301254453781}\n",
      "Epoch #57: loss=4.768918964597914\n",
      "{'Accuracy': 0.7890011223344556, 'Precision': 0.792957042957043, 'Recall': 0.8037429378531074, 'F1': 0.7877281021897811, 'AUROC': 0.9008526888470392, 'AUPRC': 0.8979371296209547}\n",
      "Epoch #58: loss=4.8371856742435035\n",
      "{'Accuracy': 0.7934904601571269, 'Precision': 0.7964162893189588, 'Recall': 0.8075094161958569, 'F1': 0.7920948776998853, 'AUROC': 0.9025266792215945, 'AUPRC': 0.8996920373811383}\n",
      "Epoch #59: loss=4.704594161775377\n",
      "{'Accuracy': 0.7968574635241302, 'Precision': 0.7995341286087386, 'Recall': 0.8107815442561206, 'F1': 0.7954465027492215, 'AUROC': 0.9043680686336053, 'AUPRC': 0.901694620333581}\n",
      "Epoch #60: loss=4.624739289283752\n",
      "{'Accuracy': 0.8024691358024691, 'Precision': 0.8044108307543423, 'Recall': 0.8159369114877589, 'F1': 0.8009828009828011, 'AUROC': 0.9063454697635489, 'AUPRC': 0.9038599338228939}\n",
      "Epoch #61: loss=4.668838832113478\n",
      "{'Accuracy': 0.8103254769921436, 'Precision': 0.8110985699745035, 'Recall': 0.8229755178907721, 'F1': 0.8087052519383046, 'AUROC': 0.9081345469763549, 'AUPRC': 0.9056698324773056}\n",
      "Epoch #62: loss=4.582584447330898\n",
      "{'Accuracy': 0.8092031425364759, 'Precision': 0.8111472897912277, 'Recall': 0.8229284369114878, 'F1': 0.8077674782220237, 'AUROC': 0.9100596359070936, 'AUPRC': 0.9075446394353315}\n",
      "Epoch #63: loss=4.572632908821106\n",
      "{'Accuracy': 0.8148148148148148, 'Precision': 0.817005242463958, 'Recall': 0.8289783427495292, 'F1': 0.8134575976551348, 'AUROC': 0.9110692613517473, 'AUPRC': 0.9084900512520692}\n",
      "Epoch #64: loss=4.526968505647448\n",
      "{'Accuracy': 0.813692480359147, 'Precision': 0.8146938775510204, 'Recall': 0.8266949152542373, 'F1': 0.8121399176954732, 'AUROC': 0.9122148985143336, 'AUPRC': 0.9094889008240441}\n",
      "Epoch #65: loss=4.5415747695499\n",
      "{'Accuracy': 0.8181818181818182, 'Precision': 0.8187303490809417, 'Recall': 0.8309086629001883, 'F1': 0.8165902575883872, 'AUROC': 0.9132088302992258, 'AUPRC': 0.9106050353363706}\n",
      "Epoch #66: loss=4.523976723353068\n",
      "{'Accuracy': 0.8159371492704826, 'Precision': 0.8160452461329168, 'Recall': 0.8281308851224105, 'F1': 0.8142466338526624, 'AUROC': 0.9136796400920695, 'AUPRC': 0.9110064836469407}\n",
      "Epoch #67: loss=4.462840186225043\n",
      "{'Accuracy': 0.8170594837261503, 'Precision': 0.8169521842092003, 'Recall': 0.829072504708098, 'F1': 0.8153391355207029, 'AUROC': 0.9145009416195857, 'AUPRC': 0.9120775116300817}\n",
      "Epoch #68: loss=4.394533448749119\n",
      "{'Accuracy': 0.8170594837261503, 'Precision': 0.8169521842092003, 'Recall': 0.829072504708098, 'F1': 0.8153391355207029, 'AUROC': 0.9148514333542581, 'AUPRC': 0.9123553561271135}\n",
      "Epoch #69: loss=4.455052733421326\n",
      "{'Accuracy': 0.813692480359147, 'Precision': 0.8146938775510204, 'Recall': 0.8266949152542373, 'F1': 0.8121399176954732, 'AUROC': 0.9152019250889307, 'AUPRC': 0.9125672150910547}\n",
      "Epoch #70: loss=4.42972567346361\n",
      "{'Accuracy': 0.8170594837261503, 'Precision': 0.8178329923711818, 'Recall': 0.829967043314501, 'F1': 0.8154967814552878, 'AUROC': 0.9161592383343795, 'AUPRC': 0.9134586916697716}\n",
      "Epoch #71: loss=4.47202385796441\n",
      "{'Accuracy': 0.8181818181818182, 'Precision': 0.8191836734693878, 'Recall': 0.8313559322033899, 'F1': 0.8166666666666667, 'AUROC': 0.9168445281439632, 'AUPRC': 0.9141286704256573}\n",
      "Epoch #72: loss=4.383421699206035\n",
      "{'Accuracy': 0.8237934904601572, 'Precision': 0.8245674147678602, 'Recall': 0.8369585687382297, 'F1': 0.8222883109722712, 'AUROC': 0.9181366394643231, 'AUPRC': 0.9155688479761278}\n",
      "Epoch #73: loss=4.290050294664171\n",
      "{'Accuracy': 0.8237934904601572, 'Precision': 0.8245674147678602, 'Recall': 0.8369585687382297, 'F1': 0.8222883109722712, 'AUROC': 0.9196118434819001, 'AUPRC': 0.9170051807668469}\n",
      "Epoch #74: loss=4.303420199288262\n",
      "{'Accuracy': 0.8271604938271605, 'Precision': 0.8281632653061224, 'Recall': 0.840677966101695, 'F1': 0.8257201646090535, 'AUROC': 0.9206528562460766, 'AUPRC': 0.9181601888257904}\n",
      "Epoch #75: loss=4.22386974758572\n",
      "{'Accuracy': 0.8294051627384961, 'Precision': 0.8299540470815865, 'Recall': 0.8425612052730697, 'F1': 0.827911846626141, 'AUROC': 0.9216677129106507, 'AUPRC': 0.9193191784216406}\n",
      "Epoch #76: loss=4.258667084905836\n",
      "{'Accuracy': 0.8249158249158249, 'Precision': 0.8259183673469388, 'Recall': 0.8383474576271186, 'F1': 0.8234567901234568, 'AUROC': 0.9224157773592802, 'AUPRC': 0.9201326829686561}\n",
      "Epoch #77: loss=4.209223800235325\n",
      "{'Accuracy': 0.8282828282828283, 'Precision': 0.8281755429032096, 'Recall': 0.8407250470809793, 'F1': 0.8266680229120709, 'AUROC': 0.9230853735091024, 'AUPRC': 0.9207654148294917}\n",
      "Epoch #78: loss=4.220518642001682\n",
      "{'Accuracy': 0.8271604938271605, 'Precision': 0.8268411028478142, 'Recall': 0.8393361581920904, 'F1': 0.8254967493819247, 'AUROC': 0.9231272232684662, 'AUPRC': 0.9208660435278718}\n",
      "Epoch #79: loss=4.257637924618191\n",
      "{'Accuracy': 0.8282828282828283, 'Precision': 0.8277546557562077, 'Recall': 0.8402777777777778, 'F1': 0.8265912938838904, 'AUROC': 0.9241473111529609, 'AUPRC': 0.9219139172728494}\n",
      "Epoch #80: loss=4.203905648655361\n",
      "{'Accuracy': 0.8271604938271605, 'Precision': 0.8268411028478142, 'Recall': 0.8393361581920904, 'F1': 0.8254967493819247, 'AUROC': 0.9244454906884285, 'AUPRC': 0.9220586030899887}\n",
      "Epoch #81: loss=4.158536963992649\n",
      "{'Accuracy': 0.8282828282828283, 'Precision': 0.8277546557562077, 'Recall': 0.8402777777777778, 'F1': 0.8265912938838904, 'AUROC': 0.9242414731115295, 'AUPRC': 0.9215505773433823}\n",
      "Epoch #82: loss=4.1566557089487715\n",
      "{'Accuracy': 0.8271604938271605, 'Precision': 0.8260254988913526, 'Recall': 0.8384416195856874, 'F1': 0.8253385947046843, 'AUROC': 0.9240165306549488, 'AUPRC': 0.921123393145559}\n",
      "Epoch #83: loss=4.146365510092841\n",
      "{'Accuracy': 0.8260381593714927, 'Precision': 0.8251020408163265, 'Recall': 0.8375, 'F1': 0.8242449232037934, 'AUROC': 0.9234724837832182, 'AUPRC': 0.9204491273198023}\n",
      "Epoch #84: loss=4.105892035696241\n",
      "{'Accuracy': 0.8271604938271605, 'Precision': 0.8264267502443842, 'Recall': 0.8388888888888889, 'F1': 0.8254185963662273, 'AUROC': 0.9229545930110902, 'AUPRC': 0.9198085582374924}\n",
      "Epoch #85: loss=4.039314892556932\n",
      "{'Accuracy': 0.8249158249158249, 'Precision': 0.8241819427788247, 'Recall': 0.8365583804143126, 'F1': 0.8231513054099445, 'AUROC': 0.9232946223059217, 'AUPRC': 0.9201393576734092}\n",
      "Epoch #86: loss=4.042849050627814\n",
      "{'Accuracy': 0.8226711560044894, 'Precision': 0.8223517141302377, 'Recall': 0.8346751412429378, 'F1': 0.8209641974178188, 'AUROC': 0.9230644486294204, 'AUPRC': 0.9198109210293155}\n",
      "Epoch #87: loss=4.062482251061334\n",
      "{'Accuracy': 0.8181818181818182, 'Precision': 0.817862325412661, 'Recall': 0.8300141242937853, 'F1': 0.816431645453713, 'AUROC': 0.9227871939736347, 'AUPRC': 0.9192885529400439}\n",
      "Epoch #88: loss=4.0186952749888105\n",
      "{'Accuracy': 0.819304152637486, 'Precision': 0.8191968559480022, 'Recall': 0.8314030131826742, 'F1': 0.8176049129989764, 'AUROC': 0.9231010671688638, 'AUPRC': 0.9192583786299742}\n",
      "Epoch #89: loss=4.023064904742771\n",
      "{'Accuracy': 0.8170594837261503, 'Precision': 0.8169521842092003, 'Recall': 0.829072504708098, 'F1': 0.8153391355207029, 'AUROC': 0.9227505754341911, 'AUPRC': 0.9185359113722127}\n",
      "Epoch #90: loss=4.055417365498013\n",
      "{'Accuracy': 0.8170594837261503, 'Precision': 0.8169521842092003, 'Recall': 0.829072504708098, 'F1': 0.8153391355207029, 'AUROC': 0.9225360954174513, 'AUPRC': 0.9182414788610895}\n",
      "Epoch #91: loss=4.003771331575182\n",
      "{'Accuracy': 0.8159371492704826, 'Precision': 0.8160452461329168, 'Recall': 0.8281308851224105, 'F1': 0.8142466338526624, 'AUROC': 0.9226930320150659, 'AUPRC': 0.9183387125180336}\n",
      "Epoch #92: loss=3.9845246341493397\n",
      "{'Accuracy': 0.8148148148148148, 'Precision': 0.8147075124703985, 'Recall': 0.8267419962335216, 'F1': 0.8130733580424292, 'AUROC': 0.9222012973425403, 'AUPRC': 0.9173362926485076}\n",
      "Epoch #93: loss=3.9705485767788358\n",
      "{'Accuracy': 0.8159371492704826, 'Precision': 0.8156176310538726, 'Recall': 0.827683615819209, 'F1': 0.8141653694716602, 'AUROC': 0.9218978865871521, 'AUPRC': 0.9168613326728319}\n",
      "Epoch #94: loss=3.9514469835493298\n",
      "{'Accuracy': 0.8148148148148148, 'Precision': 0.8142862181554338, 'Recall': 0.8262947269303201, 'F1': 0.8129906110512544, 'AUROC': 0.921725256329776, 'AUPRC': 0.9162437513909136}\n",
      "Epoch #95: loss=3.9500509368048773\n",
      "{'Accuracy': 0.8181818181818182, 'Precision': 0.817862325412661, 'Recall': 0.8300141242937853, 'F1': 0.816431645453713, 'AUROC': 0.9212649089767734, 'AUPRC': 0.9155651723060106}\n",
      "Epoch #96: loss=3.928146137131585\n",
      "{'Accuracy': 0.8148148148148148, 'Precision': 0.8151414837656448, 'Recall': 0.8271892655367232, 'F1': 0.81315413211324, 'AUROC': 0.9215369324126386, 'AUPRC': 0.9157732294490364}\n",
      "Epoch #97: loss=3.983906004163954\n",
      "{'Accuracy': 0.8181818181818182, 'Precision': 0.817862325412661, 'Recall': 0.8300141242937853, 'F1': 0.816431645453713, 'AUROC': 0.9214270767943085, 'AUPRC': 0.9152008603585488}\n",
      "Epoch #98: loss=3.9503122170766196\n",
      "{'Accuracy': 0.8181818181818182, 'Precision': 0.817862325412661, 'Recall': 0.8300141242937853, 'F1': 0.816431645453713, 'AUROC': 0.9208673362628165, 'AUPRC': 0.9146231405492342}\n",
      "Epoch #99: loss=3.9171833594640098\n",
      "{'Accuracy': 0.819304152637486, 'Precision': 0.8196308724832215, 'Recall': 0.8318502824858758, 'F1': 0.8176837289104947, 'AUROC': 0.9211812094580456, 'AUPRC': 0.9146158643554545}\n",
      "Duration: 0:23:59.017820\n"
     ]
    }
   ],
   "source": [
    "start_time = datetime.now()\n",
    "# Train a COMET model\n",
    "seed_everything(RANDOM_SEED)\n",
    "model = COMET(\n",
    "    input_dims=configs.input_dims,\n",
    "    device=device,\n",
    "    lr=configs.pretrain_lr,\n",
    "    depth=configs.depth,\n",
    "    batch_size=configs.pretrain_batch_size,\n",
    "    output_dims=configs.output_dims,\n",
    "    flag_use_multi_gpu=configs.flag_use_multi_gpu,\n",
    "    after_epoch_callback=pretrain_callback,\n",
    "    top_k_list = [640, 426],\n",
    "    contrast_cycle = True,\n",
    "    contrast_trend = True,\n",
    "    sample_len = 256,\n",
    "    overlap_len = 128\n",
    ")\n",
    "\n",
    "epoch_loss_list, epoch_f1_list = model.fit(\n",
    "    X_train,\n",
    "    y_train,\n",
    "    shuffle_function = configs.shuffle_function,\n",
    "    verbose=configs.verbose,\n",
    "    n_epochs=configs.n_epochs,\n",
    "    masks = configs.masks,\n",
    "    factors = configs.factors\n",
    ")\n",
    "\n",
    "end_time = datetime.now()\n",
    "print(f'Duration: {end_time - start_time}')"
   ]
  },
  {
   "cell_type": "markdown",
   "metadata": {},
   "source": [
    "                                test"
   ]
  },
  {
   "cell_type": "code",
   "execution_count": 22,
   "metadata": {
    "ExecuteTime": {
     "end_time": "2023-11-09T02:36:10.785911900Z",
     "start_time": "2023-11-09T02:36:10.263917300Z"
    },
    "collapsed": false
   },
   "outputs": [
    {
     "data": {
      "image/png": "[encoded data removed]",
      "text/plain": [
       "<Figure size 800x800 with 2 Axes>"
      ]
     },
     "metadata": {},
     "output_type": "display_data"
    }
   ],
   "source": [
    "plt.figure(1, figsize=(8, 8))\n",
    "plt.subplot(121)\n",
    "plt.plot(epoch_loss_list)\n",
    "plt.title('Loss')\n",
    "plt.subplot(122)\n",
    "plt.plot(epoch_f1_list)\n",
    "plt.title('Accuracy')\n",
    "plt.show()"
   ]
  },
  {
   "cell_type": "markdown",
   "metadata": {
    "collapsed": false
   },
   "source": [
    "## Linear evaluation"
   ]
  },
  {
   "cell_type": "code",
   "execution_count": 23,
   "metadata": {
    "ExecuteTime": {
     "end_time": "2023-11-09T02:36:12.384162700Z",
     "start_time": "2023-11-09T02:36:10.770265300Z"
    },
    "executionInfo": {
     "elapsed": 151,
     "status": "ok",
     "timestamp": 1676328695263,
     "user": {
      "displayName": "Lucian",
      "userId": "17113640720459928730"
     },
     "user_tz": 300
    },
    "id": "1nZhs42So9i5"
   },
   "outputs": [
    {
     "name": "stdout",
     "output_type": "stream",
     "text": [
      "Linear evaluation for validation set\n",
      " {'Accuracy': 0.819304152637486, 'Precision': 0.8196308724832215, 'Recall': 0.8318502824858758, 'F1': 0.8176837289104947, 'AUROC': 0.9211812094580456, 'AUPRC': 0.9146158643554545}\n"
     ]
    }
   ],
   "source": [
    "start_time = datetime.now()\n",
    "seed_everything(RANDOM_SEED)\n",
    "pretrain_model = COMET(\n",
    "    input_dims=configs.input_dims,\n",
    "    device=device,\n",
    "    lr=configs.pretrain_lr,\n",
    "    depth=configs.depth,\n",
    "    batch_size=configs.pretrain_batch_size,\n",
    "    output_dims=configs.output_dims,\n",
    "    flag_use_multi_gpu=configs.flag_use_multi_gpu,\n",
    "    after_epoch_callback=pretrain_callback,\n",
    ")\n",
    "\n",
    "pretrain_model.load(f\"{working_directory}seed{RANDOM_SEED}_pretrain_model.pt\")\n",
    "\n",
    "start_logging(RANDOM_SEED, logging_directory)\n",
    "val_metrics_dict = eval_classification(pretrain_model, X_train, y_train[:, 0], X_val, y_val[:, 0])\n",
    "print(\"Linear evaluation for validation set\\n\",val_metrics_dict)\n",
    "test_metrics_dict = eval_classification(pretrain_model, X_train, y_train[:, 0], X_test, y_test[:, 0])\n",
    "print(\"Linear evaluation for test set\\n\",test_metrics_dict)\n",
    "print()\n",
    "stop_logging()"
   ]
  },
  {
   "cell_type": "markdown",
   "metadata": {
    "collapsed": false
   },
   "source": [
    "## Full fine-tuning"
   ]
  },
  {
   "cell_type": "code",
   "execution_count": 24,
   "metadata": {
    "ExecuteTime": {
     "end_time": "2023-11-09T02:36:12.619992800Z",
     "start_time": "2023-11-09T02:36:12.368890200Z"
    },
    "collapsed": false
   },
   "outputs": [
    {
     "name": "stdout",
     "output_type": "stream",
     "text": [
      "Linear evaluation for test set\n",
      " {'Accuracy': 0.5903614457831325, 'Precision': 0.657193375884078, 'Recall': 0.6189776733254995, 'F1': 0.5738590604026845, 'AUROC': 0.7323482903193048, 'AUPRC': 0.7301145892414558}\n",
      "\n",
      "Epoch number: 0\n",
      "Loss: 0.6722978125600254\n",
      "{'Accuracy': 0.8013468013468014, 'Precision': 0.7956888686131387, 'Recall': 0.8051553672316384, 'F1': 0.7976769157939706, 'AUROC': 0.870603159656832, 'AUPRC': 0.8802220339731247}\n",
      "Epoch number: 1\n",
      "Loss: 0.6630674136035583\n",
      "{'Accuracy': 0.8282828282828283, 'Precision': 0.8462414853215987, 'Recall': 0.8004708097928437, 'F1': 0.8114807260155574, 'AUROC': 0.9075041849759364, 'AUPRC': 0.9073676271076889}\n",
      "Epoch number: 2\n",
      "Loss: 0.6576758845179689\n",
      "{'Accuracy': 0.8552188552188552, 'Precision': 0.8486982097186702, 'Recall': 0.8566148775894539, 'F1': 0.8515538932248111, 'AUROC': 0.9291588198367859, 'AUPRC': 0.9294161653651154}\n",
      "Epoch number: 3\n",
      "Loss: 0.6532594390651759\n",
      "{'Accuracy': 0.8294051627384961, 'Precision': 0.8232713928477037, 'Recall': 0.8327212806026365, 'F1': 0.8258673716043161, 'AUROC': 0.9104258213015275, 'AUPRC': 0.9105410158676184}\n",
      "Epoch number: 4\n",
      "Loss: 0.6494152991210713\n",
      "{'Accuracy': 0.9102132435465768, 'Precision': 0.9206689536878216, 'Recall': 0.89515065913371, 'F1': 0.9042131177501371, 'AUROC': 0.959363883657669, 'AUPRC': 0.9602828357182318}\n",
      "Epoch number: 5\n",
      "Loss: 0.6455429193435931\n",
      "{'Accuracy': 0.8855218855218855, 'Precision': 0.916691950145026, 'Recall': 0.8592278719397364, 'F1': 0.8740409136267879, 'AUROC': 0.9677573760200878, 'AUPRC': 0.9690108267814292}\n",
      "Epoch number: 6\n",
      "Loss: 0.64196270228434\n",
      "{'Accuracy': 0.856341189674523, 'Precision': 0.8995795057575365, 'Recall': 0.8231167608286252, 'F1': 0.8386545491585273, 'AUROC': 0.9726328729859803, 'AUPRC': 0.9733679733599234}\n",
      "Epoch number: 7\n",
      "Loss: 0.6388954467633191\n",
      "{'Accuracy': 0.9281705948372615, 'Precision': 0.9251193223950119, 'Recall': 0.9258709981167608, 'F1': 0.9254899911148278, 'AUROC': 0.9694627537141661, 'AUPRC': 0.9708723118675351}\n",
      "Epoch number: 8\n",
      "Loss: 0.6360363492778703\n",
      "{'Accuracy': 0.8877665544332211, 'Precision': 0.8843025897319401, 'Recall': 0.8982344632768362, 'F1': 0.8861859652349857, 'AUROC': 0.9777699309478971, 'AUPRC': 0.9788368131336229}\n",
      "Epoch number: 9\n",
      "Loss: 0.6335188038208905\n",
      "{'Accuracy': 0.941638608305275, 'Precision': 0.9455299454950064, 'Recall': 0.9335922787193973, 'F1': 0.9386389642312256, 'AUROC': 0.9770401757689894, 'AUPRC': 0.9781713011255846}\n",
      "Epoch number: 10\n",
      "Loss: 0.6313571263762081\n",
      "{'Accuracy': 0.9113355780022446, 'Precision': 0.9060593255277045, 'Recall': 0.9121939736346516, 'F1': 0.9086778666203066, 'AUROC': 0.9729153588616866, 'AUPRC': 0.9741438097543818}\n",
      "Epoch number: 11\n",
      "Loss: 0.6294189868312255\n",
      "{'Accuracy': 0.9124579124579124, 'Precision': 0.9068517027327305, 'Recall': 0.917608286252354, 'F1': 0.9104628751649076, 'AUROC': 0.9767210713538397, 'AUPRC': 0.9779299595397256}\n",
      "Epoch number: 12\n",
      "Loss: 0.6276690660558675\n",
      "{'Accuracy': 0.8260381593714927, 'Precision': 0.8371971966888426, 'Recall': 0.8473399246704332, 'F1': 0.8255732445864619, 'AUROC': 0.9689527097719188, 'AUPRC': 0.9702877886305161}\n",
      "Epoch number: 13\n",
      "Loss: 0.6260874049753702\n",
      "{'Accuracy': 0.9124579124579124, 'Precision': 0.9068008465911415, 'Recall': 0.9162664783427495, 'F1': 0.9102742202024375, 'AUROC': 0.9783872148985143, 'AUPRC': 0.9794333066225855}\n",
      "Epoch number: 14\n",
      "Loss: 0.6246442029289171\n",
      "{'Accuracy': 0.8540965207631874, 'Precision': 0.8610821770963958, 'Recall': 0.8735640301318267, 'F1': 0.8534539473684211, 'AUROC': 0.9788449466415567, 'AUPRC': 0.9798486861374922}\n",
      "Epoch number: 15\n",
      "Loss: 0.6233640724026105\n",
      "{'Accuracy': 0.9124579124579124, 'Precision': 0.9068517027327305, 'Recall': 0.917608286252354, 'F1': 0.9104628751649076, 'AUROC': 0.9812303829252982, 'AUPRC': 0.9820747171609004}\n",
      "Epoch number: 16\n",
      "Loss: 0.6221788188371691\n",
      "{'Accuracy': 0.8664421997755332, 'Precision': 0.870783795240306, 'Recall': 0.8843691148775894, 'F1': 0.8656597280733652, 'AUROC': 0.9831397781962753, 'AUPRC': 0.9837500069684488}\n",
      "Epoch number: 17\n",
      "Loss: 0.6209987338656694\n",
      "{'Accuracy': 0.8945005611672279, 'Precision': 0.891334954885852, 'Recall': 0.9056732580037665, 'F1': 0.8930716277359589, 'AUROC': 0.981994141033689, 'AUPRC': 0.9823507005476384}\n",
      "Epoch number: 18\n",
      "Loss: 0.6199425941465809\n",
      "{'Accuracy': 0.8417508417508418, 'Precision': 0.8516302418741444, 'Recall': 0.862758945386064, 'F1': 0.8412509271766697, 'AUROC': 0.9783244402594685, 'AUPRC': 0.9790167638190799}\n",
      "Epoch number: 19\n",
      "Loss: 0.6189723893123514\n",
      "{'Accuracy': 0.9124579124579124, 'Precision': 0.9075465674848491, 'Recall': 0.9207391713747646, 'F1': 0.9108680038988355, 'AUROC': 0.9864040594266583, 'AUPRC': 0.9869149226062457}\n",
      "Epoch number: 20\n",
      "Loss: 0.6180832051262468\n",
      "{'Accuracy': 0.8720538720538721, 'Precision': 0.8745235934664246, 'Recall': 0.8886299435028249, 'F1': 0.8711408476434053, 'AUROC': 0.9821563088512241, 'AUPRC': 0.982820998027333}\n",
      "Epoch number: 21\n",
      "Loss: 0.617211363452641\n",
      "{'Accuracy': 0.8204264870931538, 'Precision': 0.8432974847505909, 'Recall': 0.8479990583804143, 'F1': 0.8203610923497213, 'AUROC': 0.9846751412429378, 'AUPRC': 0.9850872898542735}\n",
      "Epoch number: 22\n",
      "Loss: 0.6164599016042012\n",
      "{'Accuracy': 0.8619528619528619, 'Precision': 0.868653321201092, 'Recall': 0.8814971751412429, 'F1': 0.8613240100673052, 'AUROC': 0.9852715003138732, 'AUPRC': 0.9856152697708436}\n",
      "Epoch number: 23\n",
      "Loss: 0.6157638867403946\n",
      "{'Accuracy': 0.8529741863075196, 'Precision': 0.8578600636074512, 'Recall': 0.8708333333333333, 'F1': 0.8521630094043887, 'AUROC': 0.9797473320778406, 'AUPRC': 0.9802305175894919}\n",
      "Epoch number: 24\n",
      "Loss: 0.6151066104804769\n",
      "{'Accuracy': 0.8911335578002245, 'Precision': 0.8881118881118881, 'Recall': 0.9024011299435029, 'F1': 0.8896878912846198, 'AUROC': 0.9797394852479597, 'AUPRC': 0.9802324961136725}\n",
      "Epoch number: 25\n",
      "Loss: 0.6144895498299491\n",
      "{'Accuracy': 0.856341189674523, 'Precision': 0.8639695838266096, 'Recall': 0.8763418079096045, 'F1': 0.8557508423640834, 'AUROC': 0.9800455116133082, 'AUPRC': 0.9804034208802083}\n",
      "Epoch number: 26\n",
      "Loss: 0.6139140231676871\n",
      "{'Accuracy': 0.9236812570145904, 'Precision': 0.9181884176516297, 'Recall': 0.9279190207156309, 'F1': 0.9217775253046891, 'AUROC': 0.9833372567482737, 'AUPRC': 0.983936340027288}\n",
      "Epoch number: 27\n",
      "Loss: 0.6133734252648193\n",
      "{'Accuracy': 0.8585858585858586, 'Precision': 0.8668750632783233, 'Recall': 0.8791195856873824, 'F1': 0.8580449538221877, 'AUROC': 0.9819810629838879, 'AUPRC': 0.9824629500379805}\n",
      "Epoch number: 28\n",
      "Loss: 0.6128318569118546\n",
      "{'Accuracy': 0.9304152637485971, 'Precision': 0.925, 'Recall': 0.9358050847457627, 'F1': 0.9287802840434419, 'AUROC': 0.9878897258840762, 'AUPRC': 0.9881066854892142}\n",
      "Epoch number: 29\n",
      "Loss: 0.612339341231421\n",
      "{'Accuracy': 0.8540965207631874, 'Precision': 0.859860883797054, 'Recall': 0.8726694915254237, 'F1': 0.853363412633306, 'AUROC': 0.9776313036200042, 'AUPRC': 0.978162386934128}\n",
      "Epoch number: 30\n",
      "Loss: 0.6118691937973196\n",
      "{'Accuracy': 0.8237934904601572, 'Precision': 0.8444697024244232, 'Recall': 0.8503766478342749, 'F1': 0.8236859983085392, 'AUROC': 0.9791823603264281, 'AUPRC': 0.9795505942309479}\n",
      "Epoch number: 31\n",
      "Loss: 0.6114214545334963\n",
      "{'Accuracy': 0.9382716049382716, 'Precision': 0.9422406277244987, 'Recall': 0.9298728813559322, 'F1': 0.935064935064935, 'AUROC': 0.9868617911697009, 'AUPRC': 0.9871685970637071}\n",
      "Epoch number: 32\n",
      "Loss: 0.610982529407304\n",
      "{'Accuracy': 0.898989898989899, 'Precision': 0.8947907188353048, 'Recall': 0.908545197740113, 'F1': 0.8973975126669738, 'AUROC': 0.98200460347353, 'AUPRC': 0.982432035105474}\n",
      "Epoch number: 33\n",
      "Loss: 0.6105590873111079\n",
      "{'Accuracy': 0.9472502805836139, 'Precision': 0.9436087497408252, 'Recall': 0.9476930320150658, 'F1': 0.9454925997128655, 'AUROC': 0.9883160703075957, 'AUPRC': 0.9886505167943901}\n",
      "Epoch number: 34\n",
      "Loss: 0.6101707030745114\n",
      "{'Accuracy': 0.9147025813692481, 'Precision': 0.909315469534633, 'Recall': 0.9212806026365349, 'F1': 0.912933685802158, 'AUROC': 0.9829017576898933, 'AUPRC': 0.9834376060274086}\n",
      "Epoch number: 35\n",
      "Loss: 0.6098097459553113\n",
      "{'Accuracy': 0.8608305274971941, 'Precision': 0.868477370002732, 'Recall': 0.8810028248587571, 'F1': 0.8602586285402058, 'AUROC': 0.982726511822557, 'AUPRC': 0.983094918348888}\n",
      "Epoch number: 36\n",
      "Loss: 0.6094340742676739\n",
      "{'Accuracy': 0.8698092031425365, 'Precision': 0.8738761238761239, 'Recall': 0.8876412429378531, 'F1': 0.8690237226277372, 'AUROC': 0.9820046034735301, 'AUPRC': 0.9823919720623415}\n",
      "Epoch number: 37\n",
      "Loss: 0.6090966295623927\n",
      "{'Accuracy': 0.8877665544332211, 'Precision': 0.8874478505350989, 'Recall': 0.9022598870056497, 'F1': 0.8866862008973537, 'AUROC': 0.9850151705377694, 'AUPRC': 0.9855054126771625}\n",
      "Epoch number: 38\n",
      "Loss: 0.6087720012053465\n",
      "{'Accuracy': 0.8720538720538721, 'Precision': 0.873061224489796, 'Recall': 0.8872881355932203, 'F1': 0.8709876543209877, 'AUROC': 0.9791797447164678, 'AUPRC': 0.9798130576178128}\n",
      "Epoch number: 39\n",
      "Loss: 0.6084665415479856\n",
      "{'Accuracy': 0.8978675645342312, 'Precision': 0.8942867962635699, 'Recall': 0.9084981167608286, 'F1': 0.8964013058283129, 'AUROC': 0.9801893701611215, 'AUPRC': 0.9807313077579647}\n",
      "Epoch number: 40\n",
      "Loss: 0.6081705269974308\n",
      "{'Accuracy': 0.8900112233445566, 'Precision': 0.8885058514016149, 'Recall': 0.9032485875706215, 'F1': 0.8887997432605905, 'AUROC': 0.9847719188114669, 'AUPRC': 0.9852739490655746}\n",
      "Epoch number: 41\n",
      "Loss: 0.6078611587275978\n",
      "{'Accuracy': 0.8821548821548821, 'Precision': 0.8824823145292944, 'Recall': 0.8971045197740113, 'F1': 0.8810980840720618, 'AUROC': 0.9837779870265746, 'AUPRC': 0.9842768038215841}\n",
      "Epoch number: 42\n",
      "Loss: 0.6075852923451958\n",
      "{'Accuracy': 0.9057239057239057, 'Precision': 0.9017800301134813, 'Recall': 0.9159839924670433, 'F1': 0.9042915601023018, 'AUROC': 0.98329671479389, 'AUPRC': 0.9837930185954037}\n",
      "Epoch number: 43\n",
      "Loss: 0.6073336340686216\n",
      "{'Accuracy': 0.9517396184062851, 'Precision': 0.9484861227922623, 'Recall': 0.951906779661017, 'F1': 0.9500896908304315, 'AUROC': 0.988805189370161, 'AUPRC': 0.9892362611103106}\n",
      "Epoch number: 44\n",
      "Loss: 0.6070825578340517\n",
      "{'Accuracy': 0.9113355780022446, 'Precision': 0.9066720664169282, 'Recall': 0.9202448210922787, 'F1': 0.9098068360188358, 'AUROC': 0.985914940364093, 'AUPRC': 0.9864287063475357}\n",
      "Epoch number: 45\n",
      "Loss: 0.6068420711609409\n",
      "{'Accuracy': 0.9180695847362514, 'Precision': 0.9127572016460905, 'Recall': 0.925, 'F1': 0.9163977095262884, 'AUROC': 0.9874372253609541, 'AUPRC': 0.9877435756787671}\n",
      "Epoch number: 46\n",
      "Loss: 0.6066079566789061\n",
      "{'Accuracy': 0.8720538720538721, 'Precision': 0.8740209074688252, 'Recall': 0.8881826741996233, 'F1': 0.8710911324547688, 'AUROC': 0.9826192718141871, 'AUPRC': 0.9830830357802801}\n",
      "Epoch number: 47\n",
      "Loss: 0.6063838754141447\n",
      "{'Accuracy': 0.8843995510662177, 'Precision': 0.8851772163379656, 'Recall': 0.8998822975517891, 'F1': 0.8834120766251206, 'AUROC': 0.9865217618748692, 'AUPRC': 0.9868687560372223}\n",
      "Epoch number: 48\n",
      "Loss: 0.6061828687411397\n",
      "{'Accuracy': 0.8518518518518519, 'Precision': 0.8607722856534998, 'Recall': 0.872575329566855, 'F1': 0.8513257958820436, 'AUROC': 0.9802050638208831, 'AUPRC': 0.9807224566308602}\n",
      "Epoch number: 49\n",
      "Loss: 0.6059703288008185\n",
      "{'Accuracy': 0.9236812570145904, 'Precision': 0.9182041036827138, 'Recall': 0.9292608286252354, 'F1': 0.9219419937335092, 'AUROC': 0.9842854153588617, 'AUPRC': 0.9846750892831423}\n",
      "Finetune for 1.0 fraction of validation set\n",
      "{'Accuracy': 0.9517396184062851, 'Precision': 0.9484861227922623, 'Recall': 0.951906779661017, 'F1': 0.9500896908304315, 'AUROC': 0.988805189370161, 'AUPRC': 0.9892362611103106}\n",
      "Finetune for 1.0 fraction of test set\n",
      "{'Accuracy': 0.856760374832664, 'Precision': 0.8636124180931213, 'Recall': 0.865485050267659, 'F1': 0.8567347004619033, 'AUROC': 0.9602319711015364, 'AUPRC': 0.9607715321994819}\n",
      "\n",
      "Epoch number: 0\n",
      "Loss: 0.6862580180168152\n",
      "{'Accuracy': 0.7070707070707071, 'Precision': 0.7804431422816334, 'Recall': 0.6442090395480227, 'F1': 0.6322007601098885, 'AUROC': 0.5080743879472693, 'AUPRC': 0.6930692215604548}\n",
      "Epoch number: 1\n",
      "Loss: 0.6802923232316971\n",
      "{'Accuracy': 0.7721661054994389, 'Precision': 0.7822433321154549, 'Recall': 0.7909604519774012, 'F1': 0.771502961809148, 'AUROC': 0.6436296819418288, 'AUPRC': 0.7408100460733043}\n",
      "Epoch number: 2\n",
      "Loss: 0.6760638356208801\n",
      "{'Accuracy': 0.7822671156004489, 'Precision': 0.805093023255814, 'Recall': 0.8088276836158192, 'F1': 0.7822053887326499, 'AUROC': 0.7870605775266792, 'AUPRC': 0.866051646975065}\n",
      "Epoch number: 3\n",
      "Loss: 0.6728237010538578\n",
      "{'Accuracy': 0.8305274971941639, 'Precision': 0.8332266131553208, 'Recall': 0.8457391713747646, 'F1': 0.8293503973211738, 'AUROC': 0.8638431157145847, 'AUPRC': 0.9101784943212861}\n",
      "Epoch number: 4\n",
      "Loss: 0.6694865226745605\n",
      "{'Accuracy': 0.8608305274971941, 'Precision': 0.8567613860285572, 'Recall': 0.8693738229755179, 'F1': 0.8587161125319693, 'AUROC': 0.9024469031178071, 'AUPRC': 0.9282930370295286}\n",
      "Epoch number: 5\n",
      "Loss: 0.6670773699879646\n",
      "{'Accuracy': 0.8608305274971941, 'Precision': 0.8567613860285572, 'Recall': 0.8693738229755179, 'F1': 0.8587161125319693, 'AUROC': 0.9172917974471646, 'AUPRC': 0.9338973146491922}\n",
      "Epoch number: 6\n",
      "Loss: 0.6646505487816674\n",
      "{'Accuracy': 0.8428731762065096, 'Precision': 0.8425539633593325, 'Recall': 0.8556497175141243, 'F1': 0.8413606812562953, 'AUROC': 0.9197975517890773, 'AUPRC': 0.9325471086108537}\n",
      "Epoch number: 7\n",
      "Loss: 0.6625393237918615\n",
      "{'Accuracy': 0.819304152637486, 'Precision': 0.8270926113360324, 'Recall': 0.8381120527306968, 'F1': 0.818587534540212, 'AUROC': 0.9252811780707261, 'AUPRC': 0.9339530183269664}\n",
      "Epoch number: 8\n",
      "Loss: 0.6608028892013762\n",
      "{'Accuracy': 0.7744107744107744, 'Precision': 0.8020752966198887, 'Recall': 0.8031308851224106, 'F1': 0.7744062277591278, 'AUROC': 0.9305660179953966, 'AUPRC': 0.935629687722495}\n",
      "Epoch number: 9\n",
      "Loss: 0.6591361477971077\n",
      "{'Accuracy': 0.7901234567901234, 'Precision': 0.8109537542486353, 'Recall': 0.8158662900188324, 'F1': 0.7900176563774053, 'AUROC': 0.9394930947897049, 'AUPRC': 0.9418195827000544}\n",
      "Epoch number: 10\n",
      "Loss: 0.6574876647103917\n",
      "{'Accuracy': 0.8294051627384961, 'Precision': 0.8363031430767364, 'Recall': 0.8479284369114877, 'F1': 0.8286538461538462, 'AUROC': 0.9454776103787403, 'AUPRC': 0.9464855305159701}\n",
      "Epoch number: 11\n",
      "Loss: 0.656073005249103\n",
      "{'Accuracy': 0.8484848484848485, 'Precision': 0.8479573121573686, 'Recall': 0.8612523540489643, 'F1': 0.8469923181328445, 'AUROC': 0.9469345051265956, 'AUPRC': 0.9474650068751157}\n",
      "Epoch number: 12\n",
      "Loss: 0.6547704728750082\n",
      "{'Accuracy': 0.8518518518518519, 'Precision': 0.8503356617980586, 'Recall': 0.863629943502825, 'F1': 0.8502200623509995, 'AUROC': 0.9443685917555975, 'AUPRC': 0.9450677153996552}\n",
      "Epoch number: 13\n",
      "Loss: 0.6534673763172967\n",
      "{'Accuracy': 0.8237934904601572, 'Precision': 0.8303685168334849, 'Recall': 0.8418785310734463, 'F1': 0.822990809598105, 'AUROC': 0.9412847876124711, 'AUPRC': 0.9417995346874616}\n",
      "Epoch number: 14\n",
      "Loss: 0.652284758289655\n",
      "{'Accuracy': 0.8013468013468014, 'Precision': 0.8166716032234014, 'Recall': 0.8243879472693032, 'F1': 0.8010571131224573, 'AUROC': 0.9412063193136639, 'AUPRC': 0.9421062778220803}\n",
      "Epoch number: 15\n",
      "Loss: 0.6510972818359733\n",
      "{'Accuracy': 0.7811447811447811, 'Precision': 0.8071327624906477, 'Recall': 0.8092278719397363, 'F1': 0.7811271363551046, 'AUROC': 0.9410611529608706, 'AUPRC': 0.9421903546207187}\n",
      "Epoch number: 16\n",
      "Loss: 0.6499937439666075\n",
      "{'Accuracy': 0.8080808080808081, 'Precision': 0.8184143222506394, 'Recall': 0.8282485875706215, 'F1': 0.8075221993564745, 'AUROC': 0.940106455325382, 'AUPRC': 0.9410428812098381}\n",
      "Epoch number: 17\n",
      "Loss: 0.6489693456225925\n",
      "{'Accuracy': 0.8395061728395061, 'Precision': 0.8412183616075479, 'Recall': 0.8541666666666667, 'F1': 0.8382667108404831, 'AUROC': 0.9402490060682152, 'AUPRC': 0.9405626326669224}\n",
      "Epoch number: 18\n",
      "Loss: 0.648072845841709\n",
      "{'Accuracy': 0.819304152637486, 'Precision': 0.8264715700456216, 'Recall': 0.8376647834274953, 'F1': 0.8185352117664768, 'AUROC': 0.9385070098346935, 'AUPRC': 0.9391616072751974}\n",
      "Epoch number: 19\n",
      "Loss: 0.6472147896885871\n",
      "{'Accuracy': 0.8047138047138047, 'Precision': 0.8174665377372894, 'Recall': 0.8263182674199623, 'F1': 0.8042994193385509, 'AUROC': 0.934816384180791, 'AUPRC': 0.9357434161461325}\n",
      "Epoch number: 20\n",
      "Loss: 0.6463902152719951\n",
      "{'Accuracy': 0.7890011223344556, 'Precision': 0.8093793422880964, 'Recall': 0.8144774011299435, 'F1': 0.7888838475499093, 'AUROC': 0.9344240426867545, 'AUPRC': 0.9357397195565178}\n",
      "Epoch number: 21\n",
      "Loss: 0.6455054770816456\n",
      "{'Accuracy': 0.7878787878787878, 'Precision': 0.8095238095238095, 'Recall': 0.8139830508474576, 'F1': 0.7877921812799837, 'AUROC': 0.9369664155681106, 'AUPRC': 0.938232159144704}\n",
      "Epoch number: 22\n",
      "Loss: 0.6448423836542212\n",
      "{'Accuracy': 0.7676767676767676, 'Precision': 0.7990234169904442, 'Recall': 0.7979284369114878, 'F1': 0.7676720853041764, 'AUROC': 0.9355069052102951, 'AUPRC': 0.9365296958266853}\n",
      "Epoch number: 23\n",
      "Loss: 0.6441760522623857\n",
      "{'Accuracy': 0.7205387205387206, 'Precision': 0.776494731683411, 'Recall': 0.7597222222222222, 'F1': 0.7195836077135711, 'AUROC': 0.9343377275580664, 'AUPRC': 0.9351336440270406}\n",
      "Epoch number: 24\n",
      "Loss: 0.6435775601863861\n",
      "{'Accuracy': 0.7598204264870931, 'Precision': 0.7944205373285824, 'Recall': 0.7913370998116761, 'F1': 0.7597838137472284, 'AUROC': 0.9347666875915464, 'AUPRC': 0.935062316034686}\n",
      "Epoch number: 25\n",
      "Loss: 0.6429537288271464\n",
      "{'Accuracy': 0.813692480359147, 'Precision': 0.8230611313868612, 'Recall': 0.8334039548022598, 'F1': 0.8130800727934486, 'AUROC': 0.9352296505545092, 'AUPRC': 0.9340335015002628}\n",
      "Epoch number: 26\n",
      "Loss: 0.6423028503303174\n",
      "{'Accuracy': 0.8305274971941639, 'Precision': 0.830854344277163, 'Recall': 0.843502824858757, 'F1': 0.8290077209036317, 'AUROC': 0.9323472483783218, 'AUPRC': 0.9293168634671167}\n",
      "Epoch number: 27\n",
      "Loss: 0.6416945824665683\n",
      "{'Accuracy': 0.7687991021324355, 'Precision': 0.7977107615115246, 'Recall': 0.7979755178907721, 'F1': 0.7687988109034111, 'AUROC': 0.9303044569993723, 'AUPRC': 0.9275927572527707}\n",
      "Epoch number: 28\n",
      "Loss: 0.6410143503855015\n",
      "{'Accuracy': 0.7665544332210998, 'Precision': 0.7953823237338629, 'Recall': 0.7956450094161958, 'F1': 0.7665541391646092, 'AUROC': 0.928674931994141, 'AUPRC': 0.9254425156611672}\n",
      "Epoch number: 29\n",
      "Loss: 0.6404996847112974\n",
      "{'Accuracy': 0.8305274971941639, 'Precision': 0.830854344277163, 'Recall': 0.843502824858757, 'F1': 0.8290077209036317, 'AUROC': 0.9314932517263026, 'AUPRC': 0.9281516464048699}\n",
      "Epoch number: 30\n",
      "Loss: 0.639955939304444\n",
      "{'Accuracy': 0.8496071829405163, 'Precision': 0.8460699681962744, 'Recall': 0.8586158192090396, 'F1': 0.8474891934148809, 'AUROC': 0.9398906675036618, 'AUPRC': 0.9364327292102659}\n",
      "Epoch number: 31\n",
      "Loss: 0.6394095160067081\n",
      "{'Accuracy': 0.7833894500561167, 'Precision': 0.8075936975573373, 'Recall': 0.8106638418079095, 'F1': 0.7833501525064348, 'AUROC': 0.9442038083281021, 'AUPRC': 0.9417416201828417}\n",
      "Epoch number: 32\n",
      "Loss: 0.6388975562471332\n",
      "{'Accuracy': 0.77665544332211, 'Precision': 0.8063559322033899, 'Recall': 0.8063559322033899, 'F1': 0.77665544332211, 'AUROC': 0.9464767733835531, 'AUPRC': 0.9435340520106179}\n",
      "Epoch number: 33\n",
      "Loss: 0.6383887717829031\n",
      "{'Accuracy': 0.8518518518518519, 'Precision': 0.8519599939537461, 'Recall': 0.8654190207156309, 'F1': 0.8504911931009234, 'AUROC': 0.9528915568110483, 'AUPRC': 0.9484574249077238}\n",
      "Epoch number: 34\n",
      "Loss: 0.6379084169864655\n",
      "{'Accuracy': 0.8832772166105499, 'Precision': 0.8771931618338719, 'Recall': 0.885969868173258, 'F1': 0.8803656269365834, 'AUROC': 0.9561152960870476, 'AUPRC': 0.9508012541801354}\n",
      "Epoch number: 35\n",
      "Loss: 0.6373955214189159\n",
      "{'Accuracy': 0.7654320987654321, 'Precision': 0.8019250145834438, 'Recall': 0.797834274952919, 'F1': 0.7653741723731706, 'AUROC': 0.9491852374973844, 'AUPRC': 0.9436301990986455}\n",
      "Epoch number: 36\n",
      "Loss: 0.6369088517652975\n",
      "{'Accuracy': 0.7295173961840629, 'Precision': 0.7864187699093359, 'Recall': 0.7690442561205273, 'F1': 0.7285929697147415, 'AUROC': 0.9481010671688638, 'AUPRC': 0.9420155377895639}\n",
      "Epoch number: 37\n",
      "Loss: 0.6363950254101503\n",
      "{'Accuracy': 0.8540965207631874, 'Precision': 0.8522104042746245, 'Recall': 0.8655131826741996, 'F1': 0.8524187876502187, 'AUROC': 0.9494847248378322, 'AUPRC': 0.9420830672987941}\n",
      "Epoch number: 38\n",
      "Loss: 0.6359896308336502\n",
      "{'Accuracy': 0.8630751964085297, 'Precision': 0.859861024202176, 'Recall': 0.8730461393596987, 'F1': 0.8612206232317765, 'AUROC': 0.9494611843481899, 'AUPRC': 0.9416017350979042}\n",
      "Epoch number: 39\n",
      "Loss: 0.6355454683303833\n",
      "{'Accuracy': 0.7721661054994389, 'Precision': 0.8016949152542373, 'Recall': 0.8016949152542373, 'F1': 0.7721661054994389, 'AUROC': 0.9454697635488596, 'AUPRC': 0.9393268189572507}\n",
      "Epoch number: 40\n",
      "Loss: 0.6351057454580213\n",
      "{'Accuracy': 0.8451178451178452, 'Precision': 0.8465917108472595, 'Recall': 0.8597693032015066, 'F1': 0.8438906099233152, 'AUROC': 0.9477741159238335, 'AUPRC': 0.9405635849723494}\n",
      "Epoch number: 41\n",
      "Loss: 0.6347300105151676\n",
      "{'Accuracy': 0.8754208754208754, 'Precision': 0.8702098540145986, 'Recall': 0.8820621468926553, 'F1': 0.8731194217691002, 'AUROC': 0.9482449257166772, 'AUPRC': 0.9398170532362468}\n",
      "Epoch number: 42\n",
      "Loss: 0.6343374661234922\n",
      "{'Accuracy': 0.8754208754208754, 'Precision': 0.8698905517087335, 'Recall': 0.8811676082862523, 'F1': 0.8729603534980508, 'AUROC': 0.9484280184138942, 'AUPRC': 0.939858590737908}\n",
      "Epoch number: 43\n",
      "Loss: 0.6339122697033666\n",
      "{'Accuracy': 0.6509539842873177, 'Precision': 0.7556577363821882, 'Recall': 0.7044726930320151, 'F1': 0.6435986248178449, 'AUROC': 0.9475439422473321, 'AUPRC': 0.9392415292821624}\n",
      "Epoch number: 44\n",
      "Loss: 0.6335593895779715\n",
      "{'Accuracy': 0.8698092031425365, 'Precision': 0.868298103964438, 'Recall': 0.882274011299435, 'F1': 0.868375206308454, 'AUROC': 0.9584327265118225, 'AUPRC': 0.9495937571977149}\n",
      "Epoch number: 45\n",
      "Loss: 0.6331671913680823\n",
      "{'Accuracy': 0.9090909090909091, 'Precision': 0.9090909090909091, 'Recall': 0.9013653483992468, 'F1': 0.9047600823984766, 'AUROC': 0.9604441305712492, 'AUPRC': 0.9517925536574272}\n",
      "Epoch number: 46\n",
      "Loss: 0.6327689172739678\n",
      "{'Accuracy': 0.8226711560044894, 'Precision': 0.8378904654961208, 'Recall': 0.8463041431261771, 'F1': 0.8223971054278274, 'AUROC': 0.9552102950408035, 'AUPRC': 0.9456761142719357}\n",
      "Epoch number: 47\n",
      "Loss: 0.6323715026179949\n",
      "{'Accuracy': 0.8832772166105499, 'Precision': 0.8787971514409703, 'Recall': 0.8917843691148776, 'F1': 0.8813691250422475, 'AUROC': 0.9560525214480017, 'AUPRC': 0.9462894895821323}\n",
      "Epoch number: 48\n",
      "Loss: 0.6319920417605615\n",
      "{'Accuracy': 0.8799102132435466, 'Precision': 0.8747262773722628, 'Recall': 0.8867231638418079, 'F1': 0.8776916948585021, 'AUROC': 0.9529451768152333, 'AUPRC': 0.9426049506382809}\n",
      "Epoch number: 49\n",
      "Loss: 0.6316428303718566\n",
      "{'Accuracy': 0.8439955106621774, 'Precision': 0.8483024161805374, 'Recall': 0.8610640301318266, 'F1': 0.8430815311109056, 'AUROC': 0.9479572086210504, 'AUPRC': 0.9370691944786903}\n",
      "Epoch number: 50\n",
      "Loss: 0.6312840960773767\n",
      "{'Accuracy': 0.8305274971941639, 'Precision': 0.8396639438960618, 'Recall': 0.8506591337099811, 'F1': 0.8299482922279086, 'AUROC': 0.9515353630466625, 'AUPRC': 0.9411228623024328}\n",
      "Epoch number: 51\n",
      "Loss: 0.6309332967950747\n",
      "{'Accuracy': 0.8720538720538721, 'Precision': 0.8701759249924388, 'Recall': 0.8841572504708097, 'F1': 0.8705826291701917, 'AUROC': 0.9542791378949571, 'AUPRC': 0.9429539674157144}\n",
      "Epoch number: 52\n",
      "Loss: 0.6305719285078768\n",
      "{'Accuracy': 0.8439955106621774, 'Precision': 0.8500313261047505, 'Recall': 0.8624058380414312, 'F1': 0.8432364560140855, 'AUROC': 0.9510436283741369, 'AUPRC': 0.9388510027811494}\n",
      "Epoch number: 53\n",
      "Loss: 0.6302484246315779\n",
      "{'Accuracy': 0.9012345679012346, 'Precision': 0.8957295626893285, 'Recall': 0.9072975517890772, 'F1': 0.8991863730340777, 'AUROC': 0.9584013391922996, 'AUPRC': 0.9465407329950197}\n",
      "Epoch number: 54\n",
      "Loss: 0.6299181721427224\n",
      "{'Accuracy': 0.9102132435465768, 'Precision': 0.9045233323790438, 'Recall': 0.9139359698681733, 'F1': 0.9079735591819872, 'AUROC': 0.9611974262397991, 'AUPRC': 0.9498648187582732}\n",
      "Epoch number: 55\n",
      "Loss: 0.6295480975615126\n",
      "{'Accuracy': 0.8821548821548821, 'Precision': 0.8808358699377103, 'Recall': 0.8953154425612053, 'F1': 0.8808849311894191, 'AUROC': 0.962973425402804, 'AUPRC': 0.9524569286814335}\n",
      "Epoch number: 56\n",
      "Loss: 0.6292376845029363\n",
      "{'Accuracy': 0.9281705948372615, 'Precision': 0.9236830128569804, 'Recall': 0.9285546139359699, 'F1': 0.9258689186097302, 'AUROC': 0.9688297761037874, 'AUPRC': 0.9596066806069313}\n",
      "Epoch number: 57\n",
      "Loss: 0.6289007378549412\n",
      "{'Accuracy': 0.9270482603815937, 'Precision': 0.9254662636772434, 'Recall': 0.9226930320150659, 'F1': 0.9240157072252975, 'AUROC': 0.9681314082444026, 'AUPRC': 0.9596098300557973}\n",
      "Epoch number: 58\n",
      "Loss: 0.6285980679726196\n",
      "{'Accuracy': 0.8428731762065096, 'Precision': 0.8517455702229833, 'Recall': 0.8632532956685499, 'F1': 0.8423152380567129, 'AUROC': 0.9613203599079305, 'AUPRC': 0.9516387661870024}\n",
      "Epoch number: 59\n",
      "Loss: 0.6282666477064291\n",
      "{'Accuracy': 0.877665544332211, 'Precision': 0.8746253746253747, 'Recall': 0.8884180790960452, 'F1': 0.8760410324744696, 'AUROC': 0.9589113831345469, 'AUPRC': 0.9493637137734239}\n",
      "Epoch number: 60\n",
      "Loss: 0.6279596061003013\n",
      "{'Accuracy': 0.8956228956228957, 'Precision': 0.8903813572218446, 'Recall': 0.9025894538606403, 'F1': 0.8936286019073244, 'AUROC': 0.9563062356141452, 'AUPRC': 0.9463660831743737}\n",
      "Epoch number: 61\n",
      "Loss: 0.6276933586885852\n",
      "{'Accuracy': 0.8967452300785634, 'Precision': 0.8912009270742269, 'Recall': 0.9026365348399247, 'F1': 0.8946039354447176, 'AUROC': 0.9532198158610588, 'AUPRC': 0.9424742280350424}\n",
      "Epoch number: 62\n",
      "Loss: 0.6273933414902005\n",
      "{'Accuracy': 0.8720538720538721, 'Precision': 0.8694852941176471, 'Recall': 0.8832627118644067, 'F1': 0.8704545454545455, 'AUROC': 0.9539992676292113, 'AUPRC': 0.942421118937472}\n",
      "Epoch number: 63\n",
      "Loss: 0.6270939412061125\n",
      "{'Accuracy': 0.9169472502805837, 'Precision': 0.9228405506009235, 'Recall': 0.9052730696798493, 'F1': 0.9121114369501466, 'AUROC': 0.9626412429378531, 'AUPRC': 0.9526800244943983}\n",
      "Epoch number: 64\n",
      "Loss: 0.6268142056006651\n",
      "{'Accuracy': 0.8294051627384961, 'Precision': 0.8424067382563998, 'Recall': 0.8519538606403013, 'F1': 0.8290431709164352, 'AUROC': 0.9557177233730907, 'AUPRC': 0.9430951141619466}\n",
      "Epoch number: 65\n",
      "Loss: 0.6265585837942181\n",
      "{'Accuracy': 0.9079685746352413, 'Precision': 0.9022727272727273, 'Recall': 0.9125, 'F1': 0.9058061821219716, 'AUROC': 0.9620501150868382, 'AUPRC': 0.9496098214024504}\n",
      "Epoch number: 66\n",
      "Loss: 0.6262772225621921\n",
      "{'Accuracy': 0.9248035914702581, 'Precision': 0.9296798750731994, 'Recall': 0.91454802259887, 'F1': 0.9206436561584016, 'AUROC': 0.9685028248587569, 'AUPRC': 0.9562293549996936}\n",
      "Epoch number: 67\n",
      "Loss: 0.6259853785090587\n",
      "{'Accuracy': 0.8933782267115601, 'Precision': 0.8906688187228892, 'Recall': 0.9051789077212806, 'F1': 0.8920180486578957, 'AUROC': 0.9683432726511823, 'AUPRC': 0.9552953247222619}\n",
      "Epoch number: 68\n",
      "Loss: 0.6256956736678663\n",
      "{'Accuracy': 0.9371492704826038, 'Precision': 0.9328990783934463, 'Recall': 0.9378766478342749, 'F1': 0.935135303783514, 'AUROC': 0.9734620213433773, 'AUPRC': 0.961943450477285}\n",
      "Epoch number: 69\n",
      "Loss: 0.625472079217434\n",
      "{'Accuracy': 0.9259259259259259, 'Precision': 0.9215690844676487, 'Recall': 0.9257768361581922, 'F1': 0.9234894613583138, 'AUROC': 0.9699492571667713, 'AUPRC': 0.958318647521836}\n",
      "Epoch number: 70\n",
      "Loss: 0.6251922233003966\n",
      "{'Accuracy': 0.9180695847362514, 'Precision': 0.9147911984529347, 'Recall': 0.9151600753295669, 'F1': 0.914974358840285, 'AUROC': 0.9646801109018623, 'AUPRC': 0.9524502743325629}\n",
      "Epoch number: 71\n",
      "Loss: 0.6249324662817849\n",
      "{'Accuracy': 0.813692480359147, 'Precision': 0.8320182724252492, 'Recall': 0.8387711864406779, 'F1': 0.8135212418300654, 'AUROC': 0.9511613308223479, 'AUPRC': 0.9363056340424621}\n",
      "Epoch number: 72\n",
      "Loss: 0.624704629795192\n",
      "{'Accuracy': 0.9124579124579124, 'Precision': 0.9149433153005582, 'Recall': 0.9028483992467042, 'F1': 0.9078618019833484, 'AUROC': 0.9599079305293995, 'AUPRC': 0.9482753367763861}\n",
      "Epoch number: 73\n",
      "Loss: 0.6244881286008938\n",
      "{'Accuracy': 0.9001122334455668, 'Precision': 0.8951145552560646, 'Recall': 0.8987523540489643, 'F1': 0.8967838590307453, 'AUROC': 0.9560786775476042, 'AUPRC': 0.9442746164788809}\n",
      "Epoch number: 74\n",
      "Loss: 0.6242419660091401\n",
      "{'Accuracy': 0.7676767676767676, 'Precision': 0.806514236410699, 'Recall': 0.8010593220338983, 'F1': 0.7675819128304583, 'AUROC': 0.9445307595731324, 'AUPRC': 0.9302104229377267}\n",
      "Epoch number: 75\n",
      "Loss: 0.6240392456713476\n",
      "{'Accuracy': 0.9068462401795735, 'Precision': 0.9122233152975898, 'Recall': 0.8945621468926555, 'F1': 0.9013671992221729, 'AUROC': 0.9612641242937854, 'AUPRC': 0.9533703077427147}\n",
      "Epoch number: 76\n",
      "Loss: 0.6238310248046727\n",
      "{'Accuracy': 0.8653198653198653, 'Precision': 0.892362164589376, 'Recall': 0.8382532956685499, 'F1': 0.851812839560927, 'AUROC': 0.9621913580246912, 'AUPRC': 0.956050754051748}\n",
      "Epoch number: 77\n",
      "Loss: 0.6236146740042247\n",
      "{'Accuracy': 0.7037037037037037, 'Precision': 0.7738144867118291, 'Recall': 0.7473870056497175, 'F1': 0.7015893313847279, 'AUROC': 0.9368931784892236, 'AUPRC': 0.926565403663878}\n",
      "Epoch number: 78\n",
      "Loss: 0.6233827720714521\n",
      "{'Accuracy': 0.8754208754208754, 'Precision': 0.8707995628813405, 'Recall': 0.8834039548022599, 'F1': 0.8733475479744136, 'AUROC': 0.9447713956894748, 'AUPRC': 0.9347193926194663}\n",
      "Epoch number: 79\n",
      "Loss: 0.6231564341112972\n",
      "{'Accuracy': 0.8945005611672279, 'Precision': 0.9033018867924528, 'Recall': 0.8788370998116761, 'F1': 0.887450413356411, 'AUROC': 0.9552325277254656, 'AUPRC': 0.9476499294735129}\n",
      "Epoch number: 80\n",
      "Loss: 0.6229576979890282\n",
      "{'Accuracy': 0.7643097643097643, 'Precision': 0.8012900143334926, 'Recall': 0.7968926553672316, 'F1': 0.7642429465662706, 'AUROC': 0.9345862105042896, 'AUPRC': 0.9217445104437489}\n",
      "Epoch number: 81\n",
      "Loss: 0.6227563054459851\n",
      "{'Accuracy': 0.8496071829405163, 'Precision': 0.8510820045558087, 'Recall': 0.8644303201506591, 'F1': 0.8484155197806105, 'AUROC': 0.9408924461184347, 'AUPRC': 0.9277219873694222}\n",
      "Epoch number: 82\n",
      "Loss: 0.6225662071661777\n",
      "{'Accuracy': 0.9057239057239057, 'Precision': 0.9072151925950612, 'Recall': 0.896304143126177, 'F1': 0.9008783268350569, 'AUROC': 0.9551579828415987, 'AUPRC': 0.9452962055143362}\n",
      "Epoch number: 83\n",
      "Loss: 0.6223502861601966\n",
      "{'Accuracy': 0.8529741863075196, 'Precision': 0.8556882695197088, 'Recall': 0.8690442561205273, 'F1': 0.8519529937024752, 'AUROC': 0.9490688428541536, 'AUPRC': 0.9370255235438332}\n",
      "Epoch number: 84\n",
      "Loss: 0.6221640399273705\n",
      "{'Accuracy': 0.9079685746352413, 'Precision': 0.9041817669114038, 'Recall': 0.9048964218455744, 'F1': 0.904534051115873, 'AUROC': 0.9566959614982213, 'AUPRC': 0.9477289619776705}\n",
      "Epoch number: 85\n",
      "Loss: 0.6219707571489866\n",
      "{'Accuracy': 0.9102132435465768, 'Precision': 0.9067796610169492, 'Recall': 0.9067796610169492, 'F1': 0.9067796610169492, 'AUROC': 0.9583385645532537, 'AUPRC': 0.9505434980347254}\n",
      "Epoch number: 86\n",
      "Loss: 0.621765443648415\n",
      "{'Accuracy': 0.9102132435465768, 'Precision': 0.9087921508858829, 'Recall': 0.9040960451977401, 'F1': 0.9062588770002841, 'AUROC': 0.9598556183301945, 'AUPRC': 0.9518621395546637}\n",
      "Epoch number: 87\n",
      "Loss: 0.6215490426190875\n",
      "{'Accuracy': 0.9068462401795735, 'Precision': 0.905450076284116, 'Recall': 0.900376647834275, 'F1': 0.9026966218216506, 'AUROC': 0.9583673362628166, 'AUPRC': 0.9492801196439232}\n",
      "Epoch number: 88\n",
      "Loss: 0.6213460375418823\n",
      "{'Accuracy': 0.8731762065095399, 'Precision': 0.8704453747604156, 'Recall': 0.8842043314500941, 'F1': 0.8715583105088655, 'AUROC': 0.951562826951245, 'AUPRC': 0.9391960576245417}\n",
      "Epoch number: 89\n",
      "Loss: 0.6211613782578045\n",
      "{'Accuracy': 0.9034792368125701, 'Precision': 0.9048205205388147, 'Recall': 0.8939736346516007, 'F1': 0.8985182869977962, 'AUROC': 0.9567822766269094, 'AUPRC': 0.9475170293118247}\n",
      "Epoch number: 90\n",
      "Loss: 0.6209560745692515\n",
      "{'Accuracy': 0.9090909090909091, 'Precision': 0.9045416316232128, 'Recall': 0.9076271186440679, 'F1': 0.905982905982906, 'AUROC': 0.9534055241682361, 'AUPRC': 0.9433604670272685}\n",
      "Epoch number: 91\n",
      "Loss: 0.6207686201061892\n",
      "{'Accuracy': 0.8731762065095399, 'Precision': 0.8714805592798315, 'Recall': 0.8855461393596986, 'F1': 0.8717487532561827, 'AUROC': 0.9506591337099812, 'AUPRC': 0.9395049265305867}\n",
      "Epoch number: 92\n",
      "Loss: 0.6205887749630917\n",
      "{'Accuracy': 0.9090909090909091, 'Precision': 0.9140076527275105, 'Recall': 0.8973399246704332, 'F1': 0.9038510984963037, 'AUROC': 0.9605958359489433, 'AUPRC': 0.9530362205851655}\n",
      "Epoch number: 93\n",
      "Loss: 0.620407872536081\n",
      "{'Accuracy': 0.9090909090909091, 'Precision': 0.9043515446817334, 'Recall': 0.9080743879472692, 'F1': 0.9060617143987681, 'AUROC': 0.9531701192718143, 'AUPRC': 0.9439609060442881}\n",
      "Epoch number: 94\n",
      "Loss: 0.6202205356798673\n",
      "{'Accuracy': 0.8260381593714927, 'Precision': 0.8371971966888426, 'Recall': 0.8473399246704332, 'F1': 0.8255732445864619, 'AUROC': 0.940183615819209, 'AUPRC': 0.9264532759996609}\n",
      "Epoch number: 95\n",
      "Loss: 0.6200436555470029\n",
      "{'Accuracy': 0.8945005611672279, 'Precision': 0.8934426229508197, 'Recall': 0.8864406779661017, 'F1': 0.8895299145299145, 'AUROC': 0.9421688637790332, 'AUPRC': 0.9298972789442769}\n",
      "Epoch number: 96\n",
      "Loss: 0.6198797239777968\n",
      "{'Accuracy': 0.8832772166105499, 'Precision': 0.8805010478186321, 'Recall': 0.8761299435028249, 'F1': 0.8781365401003693, 'AUROC': 0.937348294622306, 'AUPRC': 0.9261919676693787}\n",
      "Epoch number: 97\n",
      "Loss: 0.6197057065306878\n",
      "{'Accuracy': 0.8855218855218855, 'Precision': 0.8809178163740614, 'Recall': 0.8815913370998116, 'F1': 0.8812496733392567, 'AUROC': 0.9394303201506592, 'AUPRC': 0.9302691665063847}\n",
      "Epoch number: 98\n",
      "Loss: 0.6195321665568785\n",
      "{'Accuracy': 0.8945005611672279, 'Precision': 0.8910033602856242, 'Recall': 0.8895715630885123, 'F1': 0.8902674856142632, 'AUROC': 0.9476799539652647, 'AUPRC': 0.9392015402125703}\n",
      "Epoch number: 99\n",
      "Loss: 0.6193448372185231\n",
      "{'Accuracy': 0.8967452300785634, 'Precision': 0.9042945396572339, 'Recall': 0.8820621468926554, 'F1': 0.8901061776061776, 'AUROC': 0.9552573760200879, 'AUPRC': 0.947611280452685}\n",
      "Finetune for 0.1 fraction of validation set\n",
      "{'Accuracy': 0.9371492704826038, 'Precision': 0.9328990783934463, 'Recall': 0.9378766478342749, 'F1': 0.935135303783514, 'AUROC': 0.9734620213433773, 'AUPRC': 0.961943450477285}\n",
      "Finetune for 0.1 fraction of test set\n",
      "{'Accuracy': 0.8072289156626506, 'Precision': 0.8645903010033444, 'Recall': 0.7846650998824911, 'F1': 0.7891022021456804, 'AUROC': 0.9804913609261435, 'AUPRC': 0.9801504752792485}\n",
      "\n",
      "Epoch number: 0\n",
      "Loss: 0.6875323057174683\n",
      "{'Accuracy': 0.5959595959595959, 'Precision': 0.29797979797979796, 'Recall': 0.5, 'F1': 0.37341772151898733, 'AUROC': 0.4995187277673154, 'AUPRC': 0.692167854972646}\n",
      "Epoch number: 1\n",
      "Loss: 0.6857764422893524\n",
      "{'Accuracy': 0.5970819304152637, 'Precision': 0.798314606741573, 'Recall': 0.5013888888888889, 'F1': 0.37645058978792584, 'AUROC': 0.5001412429378531, 'AUPRC': 0.6923401157606238}\n",
      "Epoch number: 2\n",
      "Loss: 0.6842167178789774\n",
      "{'Accuracy': 0.6083052749719416, 'Precision': 0.7352739726027397, 'Recall': 0.5161723163841808, 'F1': 0.4106439232409382, 'AUROC': 0.5023671270140196, 'AUPRC': 0.6925469266653514}\n",
      "Epoch number: 3\n",
      "Loss: 0.6817837506532669\n",
      "{'Accuracy': 0.6475869809203143, 'Precision': 0.7350350225144736, 'Recall': 0.5688088512241054, 'F1': 0.5172248374494401, 'AUROC': 0.5076388888888889, 'AUPRC': 0.6929067753572664}\n",
      "Epoch number: 4\n",
      "Loss: 0.6793712615966797\n",
      "{'Accuracy': 0.6666666666666666, 'Precision': 0.687038920218175, 'Recall': 0.6058380414312617, 'F1': 0.5896524186482861, 'AUROC': 0.5202657459719606, 'AUPRC': 0.6938366228064192}\n",
      "Epoch number: 5\n",
      "Loss: 0.6776826282342275\n",
      "{'Accuracy': 0.7014590347923682, 'Precision': 0.6950205706379932, 'Recall': 0.6681261770244822, 'F1': 0.6715184610267214, 'AUROC': 0.5427822243147102, 'AUPRC': 0.6964780712126983}\n",
      "Epoch number: 6\n",
      "Loss: 0.6759106772286552\n",
      "{'Accuracy': 0.7149270482603816, 'Precision': 0.7036284066469072, 'Recall': 0.699105461393597, 'F1': 0.7008929043445162, 'AUROC': 0.5757742205482319, 'AUPRC': 0.7035437871685865}\n",
      "Epoch number: 7\n",
      "Loss: 0.674108698964119\n",
      "{'Accuracy': 0.7182940516273849, 'Precision': 0.7105721621125985, 'Recall': 0.7162429378531074, 'F1': 0.7119724595180416, 'AUROC': 0.6180987131198996, 'AUPRC': 0.7205830221249948}\n",
      "Epoch number: 8\n",
      "Loss: 0.6728801925977071\n",
      "{'Accuracy': 0.7373737373737373, 'Precision': 0.7317473338802297, 'Recall': 0.7394067796610169, 'F1': 0.732765780730897, 'AUROC': 0.6592030236451141, 'AUPRC': 0.7471738943060388}\n",
      "Epoch number: 9\n",
      "Loss: 0.6714481234550476\n",
      "{'Accuracy': 0.7542087542087542, 'Precision': 0.7475308641975309, 'Recall': 0.7548728813559322, 'F1': 0.7491931285788651, 'AUROC': 0.6974419334588826, 'AUPRC': 0.778881244397945}\n",
      "Epoch number: 10\n",
      "Loss: 0.6700498136607084\n",
      "{'Accuracy': 0.7699214365881033, 'Precision': 0.7627682009902805, 'Recall': 0.7698446327683617, 'F1': 0.7647583832717073, 'AUROC': 0.7291444339820046, 'AUPRC': 0.8049161496700105}\n",
      "Epoch number: 11\n",
      "Loss: 0.6688061753908793\n",
      "{'Accuracy': 0.7856341189674523, 'Precision': 0.7775590551181102, 'Recall': 0.782132768361582, 'F1': 0.7793813951860364, 'AUROC': 0.7600962544465368, 'AUPRC': 0.8280059747994039}\n",
      "Epoch number: 12\n",
      "Loss: 0.6678197246331435\n",
      "{'Accuracy': 0.797979797979798, 'Precision': 0.7902542372881356, 'Recall': 0.7902542372881356, 'F1': 0.7902542372881356, 'AUROC': 0.7873731429169282, 'AUPRC': 0.8459185153518727}\n",
      "Epoch number: 13\n",
      "Loss: 0.6666504612990788\n",
      "{'Accuracy': 0.813692480359147, 'Precision': 0.8082550443044731, 'Recall': 0.8020951035781545, 'F1': 0.8047187747557434, 'AUROC': 0.8094279661016949, 'AUPRC': 0.8586139619100653}\n",
      "Epoch number: 14\n",
      "Loss: 0.6656456510225932\n",
      "{'Accuracy': 0.8125701459034792, 'Precision': 0.8082703927492447, 'Recall': 0.7989171374764594, 'F1': 0.8026253480323817, 'AUROC': 0.8268557752667922, 'AUPRC': 0.8679073101345077}\n",
      "Epoch number: 15\n",
      "Loss: 0.6646078079938889\n",
      "{'Accuracy': 0.8148148148148148, 'Precision': 0.8136160714285714, 'Recall': 0.7976694915254238, 'F1': 0.8032520325203252, 'AUROC': 0.8406256539024901, 'AUPRC': 0.8741544650202933}\n",
      "Epoch number: 16\n",
      "Loss: 0.6636299771421096\n",
      "{'Accuracy': 0.8125701459034792, 'Precision': 0.8125062556300671, 'Recall': 0.7939971751412429, 'F1': 0.8001643842239494, 'AUROC': 0.8512201820464533, 'AUPRC': 0.8785814734521464}\n",
      "Epoch number: 17\n",
      "Loss: 0.6626878480116526\n",
      "{'Accuracy': 0.8103254769921436, 'Precision': 0.8120277042626274, 'Recall': 0.7898775894538607, 'F1': 0.7967842630242881, 'AUROC': 0.8591703285206109, 'AUPRC': 0.8810807422264739}\n",
      "Epoch number: 18\n",
      "Loss: 0.6617523180811029\n",
      "{'Accuracy': 0.8148148148148148, 'Precision': 0.81650333400687, 'Recall': 0.7949858757062147, 'F1': 0.8018390693047688, 'AUROC': 0.864234149403641, 'AUPRC': 0.8815222500959699}\n",
      "Epoch number: 19\n",
      "Loss: 0.660719347000122\n",
      "{'Accuracy': 0.8148148148148148, 'Precision': 0.8159794102836682, 'Recall': 0.7954331450094162, 'F1': 0.8020812999373994, 'AUROC': 0.8678855409081399, 'AUPRC': 0.8808588807119029}\n",
      "Epoch number: 20\n",
      "Loss: 0.6598826135907855\n",
      "{'Accuracy': 0.8204264870931538, 'Precision': 0.8224804985205774, 'Recall': 0.8010357815442561, 'F1': 0.8079617216630386, 'AUROC': 0.8713721489851433, 'AUPRC': 0.880018341198211}\n",
      "Epoch number: 21\n",
      "Loss: 0.6591014889153567\n",
      "{'Accuracy': 0.8181818181818182, 'Precision': 0.8194570135746606, 'Recall': 0.7991525423728814, 'F1': 0.805797733217088, 'AUROC': 0.8733992467043314, 'AUPRC': 0.8779594613072119}\n",
      "Epoch number: 22\n",
      "Loss: 0.6582057346468386\n",
      "{'Accuracy': 0.8181818181818182, 'Precision': 0.8184553883737715, 'Recall': 0.8000470809792843, 'F1': 0.8062627509932352, 'AUROC': 0.8745971960661225, 'AUPRC': 0.8753877879675801}\n",
      "Epoch number: 23\n",
      "Loss: 0.657317079603672\n",
      "{'Accuracy': 0.8170594837261503, 'Precision': 0.8156415216698358, 'Recall': 0.8004472693032015, 'F1': 0.8058602966240467, 'AUROC': 0.8750640824440259, 'AUPRC': 0.8727570086196372}\n",
      "Epoch number: 24\n",
      "Loss: 0.6565029335021972\n",
      "{'Accuracy': 0.819304152637486, 'Precision': 0.8185267857142857, 'Recall': 0.8023305084745762, 'F1': 0.8080216802168022, 'AUROC': 0.8759363883657669, 'AUPRC': 0.8704779510482685}\n",
      "Epoch number: 25\n",
      "Loss: 0.6557802741344159\n",
      "{'Accuracy': 0.8103254769921436, 'Precision': 0.8071638032529542, 'Recall': 0.7947975517890773, 'F1': 0.7993930326651275, 'AUROC': 0.8771657250470809, 'AUPRC': 0.8687372448420512}\n",
      "Epoch number: 26\n",
      "Loss: 0.6551545129881965\n",
      "{'Accuracy': 0.813692480359147, 'Precision': 0.8109901865537228, 'Recall': 0.7980696798493409, 'F1': 0.8028445747800587, 'AUROC': 0.8778222431471019, 'AUPRC': 0.8675015673803961}\n",
      "Epoch number: 27\n",
      "Loss: 0.6544541248253414\n",
      "{'Accuracy': 0.8159371492704826, 'Precision': 0.8138080122591944, 'Recall': 0.7999529190207156, 'F1': 0.8050016013664993, 'AUROC': 0.8785781544256122, 'AUPRC': 0.8665369428809081}\n",
      "Epoch number: 28\n",
      "Loss: 0.6538415900592146\n",
      "{'Accuracy': 0.8159371492704826, 'Precision': 0.8155141490633719, 'Recall': 0.7981638418079096, 'F1': 0.8041023166023166, 'AUROC': 0.8785206110064867, 'AUPRC': 0.8648068911651581}\n",
      "Epoch number: 29\n",
      "Loss: 0.653169322013855\n",
      "{'Accuracy': 0.8181818181818182, 'Precision': 0.8205286769583647, 'Recall': 0.7982580037664784, 'F1': 0.8053220759602935, 'AUROC': 0.8784133709981168, 'AUPRC': 0.8639794456603992}\n",
      "Epoch number: 30\n",
      "Loss: 0.6525710186650676\n",
      "{'Accuracy': 0.8170594837261503, 'Precision': 0.8207070707070707, 'Recall': 0.7959745762711865, 'F1': 0.8035068493150685, 'AUROC': 0.8783859070935343, 'AUPRC': 0.8631951762843671}\n",
      "Epoch number: 31\n",
      "Loss: 0.6519304681569338\n",
      "{'Accuracy': 0.8125701459034792, 'Precision': 0.820165752278222, 'Recall': 0.7881826741996234, 'F1': 0.7968300479124822, 'AUROC': 0.8784735300272024, 'AUPRC': 0.8625462224175736}\n",
      "Epoch number: 32\n",
      "Loss: 0.6513507709358678\n",
      "{'Accuracy': 0.8058361391694725, 'Precision': 0.8176824968024958, 'Recall': 0.7780602636534839, 'F1': 0.7874584446187936, 'AUROC': 0.8793157564344005, 'AUPRC': 0.8630510747237423}\n",
      "Epoch number: 33\n",
      "Loss: 0.6508563756942749\n",
      "{'Accuracy': 0.8035914702581369, 'Precision': 0.819394213381555, 'Recall': 0.7734934086629002, 'F1': 0.7834065150986878, 'AUROC': 0.8796976354885959, 'AUPRC': 0.8630410120962699}\n",
      "Epoch number: 34\n",
      "Loss: 0.6504077400479998\n",
      "{'Accuracy': 0.8013468013468014, 'Precision': 0.8176054695651107, 'Recall': 0.7707156308851224, 'F1': 0.7805983542128949, 'AUROC': 0.8803018413894119, 'AUPRC': 0.8630179406581133}\n",
      "Epoch number: 35\n",
      "Loss: 0.6498930371469922\n",
      "{'Accuracy': 0.8024691358024691, 'Precision': 0.8184999448914361, 'Recall': 0.7721045197740113, 'F1': 0.7820038034230807, 'AUROC': 0.881154530236451, 'AUPRC': 0.8634808115873536}\n",
      "Epoch number: 36\n",
      "Loss: 0.6494337400874576\n",
      "{'Accuracy': 0.8069584736251403, 'Precision': 0.8211722488038278, 'Recall': 0.7781073446327684, 'F1': 0.7879135113591071, 'AUROC': 0.882155001046244, 'AUPRC': 0.8637925539489032}\n",
      "Epoch number: 37\n",
      "Loss: 0.6490176320075989\n",
      "{'Accuracy': 0.8092031425364759, 'Precision': 0.8221023693730385, 'Recall': 0.7813323917137476, 'F1': 0.7909928357747629, 'AUROC': 0.8826585059635906, 'AUPRC': 0.8631763942748303}\n",
      "Epoch number: 38\n",
      "Loss: 0.6486419026668255\n",
      "{'Accuracy': 0.8103254769921436, 'Precision': 0.8230076859632556, 'Recall': 0.7827212806026365, 'F1': 0.792372700234544, 'AUROC': 0.8832679430843273, 'AUPRC': 0.8633172829782516}\n",
      "Epoch number: 39\n",
      "Loss: 0.6482335612177849\n",
      "{'Accuracy': 0.8148148148148148, 'Precision': 0.8250155810863251, 'Recall': 0.7891713747645951, 'F1': 0.798434254454217, 'AUROC': 0.8838852270349445, 'AUPRC': 0.8635195628329921}\n",
      "Epoch number: 40\n",
      "Loss: 0.6478932441734686\n",
      "{'Accuracy': 0.8148148148148148, 'Precision': 0.8250155810863251, 'Recall': 0.7891713747645951, 'F1': 0.798434254454217, 'AUROC': 0.8849602427286043, 'AUPRC': 0.8648764028610694}\n",
      "Epoch number: 41\n",
      "Loss: 0.647378941377004\n",
      "{'Accuracy': 0.819304152637486, 'Precision': 0.8294592030360531, 'Recall': 0.7942796610169491, 'F1': 0.8035932128202286, 'AUROC': 0.8863203599079306, 'AUPRC': 0.866802294949022}\n",
      "Epoch number: 42\n",
      "Loss: 0.6468555788661159\n",
      "{'Accuracy': 0.8204264870931538, 'Precision': 0.8328059009334075, 'Recall': 0.7943267419962335, 'F1': 0.8041306235504897, 'AUROC': 0.8873849131617493, 'AUPRC': 0.8684286086821489}\n",
      "Epoch number: 43\n",
      "Loss: 0.6464506360617551\n",
      "{'Accuracy': 0.819304152637486, 'Precision': 0.831910807638963, 'Recall': 0.7929378531073447, 'F1': 0.8027668815660847, 'AUROC': 0.8880754341912533, 'AUPRC': 0.8695649265968596}\n",
      "Epoch number: 44\n",
      "Loss: 0.646078097820282\n",
      "{'Accuracy': 0.8181818181818182, 'Precision': 0.8310159887864678, 'Recall': 0.7915489642184558, 'F1': 0.8014006604292789, 'AUROC': 0.8891988386691777, 'AUPRC': 0.8713659729330279}\n",
      "Epoch number: 45\n",
      "Loss: 0.6457277601179869\n",
      "{'Accuracy': 0.8215488215488216, 'Precision': 0.8345513709591379, 'Recall': 0.7952683615819209, 'F1': 0.8052169824161954, 'AUROC': 0.8899769826323498, 'AUPRC': 0.8726951902047054}\n",
      "Epoch number: 46\n",
      "Loss: 0.6454804463589445\n",
      "{'Accuracy': 0.8260381593714927, 'Precision': 0.8372865275142315, 'Recall': 0.8012711864406781, 'F1': 0.8109127204169901, 'AUROC': 0.8909526051475205, 'AUPRC': 0.8731199492381385}\n",
      "Epoch number: 47\n",
      "Loss: 0.6451590520640215\n",
      "{'Accuracy': 0.8260381593714927, 'Precision': 0.8372865275142315, 'Recall': 0.8012711864406781, 'F1': 0.8109127204169901, 'AUROC': 0.8919896944967567, 'AUPRC': 0.8745063935488786}\n",
      "Epoch number: 48\n",
      "Loss: 0.6448438824439535\n",
      "{'Accuracy': 0.8282828282828283, 'Precision': 0.8390817338545009, 'Recall': 0.8040489642184558, 'F1': 0.8136087757270151, 'AUROC': 0.8925978238125131, 'AUPRC': 0.8751657665368369}\n",
      "Epoch number: 49\n",
      "Loss: 0.644552994966507\n",
      "{'Accuracy': 0.8249158249158249, 'Precision': 0.8355798456862287, 'Recall': 0.8003295668549906, 'F1': 0.8098237740805604, 'AUROC': 0.8934295877798704, 'AUPRC': 0.8756764592040306}\n",
      "Epoch number: 50\n",
      "Loss: 0.6442687593254388\n",
      "{'Accuracy': 0.8249158249158249, 'Precision': 0.8347919505292947, 'Recall': 0.8007768361581922, 'F1': 0.8100836202656173, 'AUROC': 0.8938768570830719, 'AUPRC': 0.8756761074445387}\n",
      "Epoch number: 51\n",
      "Loss: 0.6439971396556268\n",
      "{'Accuracy': 0.8271604938271605, 'Precision': 0.837386018237082, 'Recall': 0.8031073446327683, 'F1': 0.8125184456468273, 'AUROC': 0.8941135697844738, 'AUPRC': 0.8758234911725137}\n",
      "Epoch number: 52\n",
      "Loss: 0.6437410858442199\n",
      "{'Accuracy': 0.8282828282828283, 'Precision': 0.8415909090909091, 'Recall': 0.8027071563088513, 'F1': 0.8128318310690675, 'AUROC': 0.8940076375810839, 'AUPRC': 0.875946217532894}\n",
      "Epoch number: 53\n",
      "Loss: 0.6433361801836226\n",
      "{'Accuracy': 0.8305274971941639, 'Precision': 0.8442207792207792, 'Recall': 0.8050376647834275, 'F1': 0.8152784738001908, 'AUROC': 0.8940782590500106, 'AUPRC': 0.8757063788881798}\n",
      "Epoch number: 54\n",
      "Loss: 0.6430510412562978\n",
      "{'Accuracy': 0.8282828282828283, 'Precision': 0.8433787644328057, 'Recall': 0.8018126177024483, 'F1': 0.8122999224817942, 'AUROC': 0.8941096463695335, 'AUPRC': 0.8751425619778069}\n",
      "Epoch number: 55\n",
      "Loss: 0.6427423879504204\n",
      "{'Accuracy': 0.8271604938271605, 'Precision': 0.8434482882537553, 'Recall': 0.7999764595103578, 'F1': 0.8106640982900795, 'AUROC': 0.8935682151077631, 'AUPRC': 0.8743632249454463}\n",
      "Epoch number: 56\n",
      "Loss: 0.6424242529952735\n",
      "{'Accuracy': 0.8249158249158249, 'Precision': 0.8417293233082708, 'Recall': 0.79719868173258, 'F1': 0.8079253125794577, 'AUROC': 0.8927286043105251, 'AUPRC': 0.8731736843858222}\n",
      "Epoch number: 57\n",
      "Loss: 0.6421055598505612\n",
      "{'Accuracy': 0.8226711560044894, 'Precision': 0.840011961722488, 'Recall': 0.7944209039548022, 'F1': 0.8051763650856916, 'AUROC': 0.8920563925507428, 'AUPRC': 0.8720599426448259}\n",
      "Epoch number: 58\n",
      "Loss: 0.641813683307777\n",
      "{'Accuracy': 0.8215488215488216, 'Precision': 0.8391538107577923, 'Recall': 0.7930320150659134, 'F1': 0.8037980381050249, 'AUROC': 0.8917843691148777, 'AUPRC': 0.8714997246705246}\n",
      "Epoch number: 59\n",
      "Loss: 0.6416021962960561\n",
      "{'Accuracy': 0.8260381593714927, 'Precision': 0.8416458480259147, 'Recall': 0.7990348399246705, 'F1': 0.8095725948896706, 'AUROC': 0.8916222012973425, 'AUPRC': 0.8707626411491687}\n",
      "Epoch number: 60\n",
      "Loss: 0.6413056977459641\n",
      "{'Accuracy': 0.8260381593714927, 'Precision': 0.839832497599488, 'Recall': 0.7999293785310735, 'F1': 0.8101171841164169, 'AUROC': 0.8920380832810211, 'AUPRC': 0.8709162171332544}\n",
      "Epoch number: 61\n",
      "Loss: 0.6410493158525036\n",
      "{'Accuracy': 0.8260381593714927, 'Precision': 0.8389610389610389, 'Recall': 0.8003766478342749, 'F1': 0.8103851883379443, 'AUROC': 0.8923885750156937, 'AUPRC': 0.8712916854242307}\n",
      "Epoch number: 62\n",
      "Loss: 0.6407513854995607\n",
      "{'Accuracy': 0.8271604938271605, 'Precision': 0.8398462354188759, 'Recall': 0.8017655367231638, 'F1': 0.8117405907339721, 'AUROC': 0.8922839506172839, 'AUPRC': 0.8706575376485155}\n",
      "Epoch number: 63\n",
      "Loss: 0.6405175924301147\n",
      "{'Accuracy': 0.8271604938271605, 'Precision': 0.8398462354188759, 'Recall': 0.8017655367231638, 'F1': 0.8117405907339721, 'AUROC': 0.8922970286670852, 'AUPRC': 0.870811926847314}\n",
      "Epoch number: 64\n",
      "Loss: 0.6402578161312984\n",
      "{'Accuracy': 0.8294051627384961, 'Precision': 0.8416180595490981, 'Recall': 0.8045433145009416, 'F1': 0.814444176513142, 'AUROC': 0.892865923833438, 'AUPRC': 0.8714946216602216}\n",
      "Epoch number: 65\n",
      "Loss: 0.6399916771686438\n",
      "{'Accuracy': 0.8271604938271605, 'Precision': 0.8398462354188759, 'Recall': 0.8017655367231638, 'F1': 0.8117405907339721, 'AUROC': 0.8936885331659343, 'AUPRC': 0.8726237500222178}\n",
      "Epoch number: 66\n",
      "Loss: 0.6398238610865464\n",
      "{'Accuracy': 0.8271604938271605, 'Precision': 0.8398462354188759, 'Recall': 0.8017655367231638, 'F1': 0.8117405907339721, 'AUROC': 0.8943136639464323, 'AUPRC': 0.8734432349683966}\n",
      "Epoch number: 67\n",
      "Loss: 0.6397033544147716\n",
      "{'Accuracy': 0.8249158249158249, 'Precision': 0.838953957996769, 'Recall': 0.7985404896421846, 'F1': 0.808756191524491, 'AUROC': 0.8944849863988282, 'AUPRC': 0.8738691151423392}\n",
      "Epoch number: 68\n",
      "Loss: 0.6394968775735386\n",
      "{'Accuracy': 0.8226711560044894, 'Precision': 0.8371980676328503, 'Recall': 0.7957627118644068, 'F1': 0.8060267857142858, 'AUROC': 0.8946406151914625, 'AUPRC': 0.8742686947581184}\n",
      "Epoch number: 69\n",
      "Loss: 0.6393103556973594\n",
      "{'Accuracy': 0.8226711560044894, 'Precision': 0.8371980676328503, 'Recall': 0.7957627118644068, 'F1': 0.8060267857142858, 'AUROC': 0.8954226825695752, 'AUPRC': 0.8753139580711553}\n",
      "Epoch number: 70\n",
      "Loss: 0.6391003954578454\n",
      "{'Accuracy': 0.8226711560044894, 'Precision': 0.8390496240601504, 'Recall': 0.7948681732580039, 'F1': 0.8054628165868867, 'AUROC': 0.8958673362628164, 'AUPRC': 0.8759061535599979}\n",
      "Epoch number: 71\n",
      "Loss: 0.6388313604725732\n",
      "{'Accuracy': 0.8249158249158249, 'Precision': 0.8427033492822966, 'Recall': 0.7967514124293785, 'F1': 0.8076424870466321, 'AUROC': 0.8958621050428961, 'AUPRC': 0.8759467429510235}\n",
      "Epoch number: 72\n",
      "Loss: 0.6385928653690913\n",
      "{'Accuracy': 0.8237934904601572, 'Precision': 0.841851129786152, 'Recall': 0.7953625235404896, 'F1': 0.806265987311251, 'AUROC': 0.8964139987445072, 'AUPRC': 0.87675932396357}\n",
      "Epoch number: 73\n",
      "Loss: 0.6383942462302543\n",
      "{'Accuracy': 0.8204264870931538, 'Precision': 0.8392965988053152, 'Recall': 0.7911958568738229, 'F1': 0.8021209261007163, 'AUROC': 0.8968651914626491, 'AUPRC': 0.8777896131244092}\n",
      "Epoch number: 74\n",
      "Loss: 0.6381545734405517\n",
      "{'Accuracy': 0.8159371492704826, 'Precision': 0.8369479227184514, 'Recall': 0.785193032015066, 'F1': 0.7962440319485966, 'AUROC': 0.8968403431680267, 'AUPRC': 0.8776740957623617}\n",
      "Epoch number: 75\n",
      "Loss: 0.6379228916607405\n",
      "{'Accuracy': 0.8181818181818182, 'Precision': 0.8386349655511811, 'Recall': 0.7879708097928437, 'F1': 0.7990382259250184, 'AUROC': 0.8967697216991002, 'AUPRC': 0.8776550033659497}\n",
      "Epoch number: 76\n",
      "Loss: 0.6377647255922293\n",
      "{'Accuracy': 0.8181818181818182, 'Precision': 0.8386349655511811, 'Recall': 0.7879708097928437, 'F1': 0.7990382259250184, 'AUROC': 0.8965107763130362, 'AUPRC': 0.8773144427371107}\n",
      "Epoch number: 77\n",
      "Loss: 0.6375668828303998\n",
      "{'Accuracy': 0.8170594837261503, 'Precision': 0.8377913429522752, 'Recall': 0.7865819209039548, 'F1': 0.7976424854222836, 'AUROC': 0.8964440782590499, 'AUPRC': 0.8772766349877283}\n",
      "Epoch number: 78\n",
      "Loss: 0.6372901299331761\n",
      "{'Accuracy': 0.8181818181818182, 'Precision': 0.8386349655511811, 'Recall': 0.7879708097928437, 'F1': 0.7990382259250184, 'AUROC': 0.8963224523958988, 'AUPRC': 0.8772232668944537}\n",
      "Epoch number: 79\n",
      "Loss: 0.6370861418545246\n",
      "{'Accuracy': 0.819304152637486, 'Precision': 0.8394788201647252, 'Recall': 0.7893596986817326, 'F1': 0.8004312713461927, 'AUROC': 0.8965892446118435, 'AUPRC': 0.8773128458630131}\n",
      "Epoch number: 80\n",
      "Loss: 0.6368959575523565\n",
      "{'Accuracy': 0.819304152637486, 'Precision': 0.8374384236453202, 'Recall': 0.7902542372881356, 'F1': 0.8010335917312661, 'AUROC': 0.8969868173258003, 'AUPRC': 0.8778155872015481}\n",
      "Epoch number: 81\n",
      "Loss: 0.6367305858833033\n",
      "{'Accuracy': 0.8170594837261503, 'Precision': 0.8347290640394088, 'Recall': 0.7879237288135593, 'F1': 0.7985619593304123, 'AUROC': 0.8970535153797865, 'AUPRC': 0.877657407396315}\n",
      "Epoch number: 82\n",
      "Loss: 0.636534485472254\n",
      "{'Accuracy': 0.8170594837261503, 'Precision': 0.8337591727010729, 'Recall': 0.7883709981167608, 'F1': 0.7988621396925728, 'AUROC': 0.8968795773174305, 'AUPRC': 0.8775749119328454}\n",
      "Epoch number: 83\n",
      "Loss: 0.6363166478418169\n",
      "{'Accuracy': 0.8204264870931538, 'Precision': 0.83636992481203, 'Recall': 0.7925376647834275, 'F1': 0.8030003205943155, 'AUROC': 0.8966415568110483, 'AUPRC': 0.877278700695818}\n",
      "Epoch number: 84\n",
      "Loss: 0.6361801750519697\n",
      "{'Accuracy': 0.8170594837261503, 'Precision': 0.8337591727010729, 'Recall': 0.7883709981167608, 'F1': 0.7988621396925728, 'AUROC': 0.8952003557229546, 'AUPRC': 0.8750148840445662}\n",
      "Epoch number: 85\n",
      "Loss: 0.6360159731188486\n",
      "{'Accuracy': 0.813692480359147, 'Precision': 0.8311501889552603, 'Recall': 0.7842043314500942, 'F1': 0.7947004608294931, 'AUROC': 0.8941750366185395, 'AUPRC': 0.873698263272503}\n",
      "Epoch number: 86\n",
      "Loss: 0.6358665173081146\n",
      "{'Accuracy': 0.8125701459034792, 'Precision': 0.8293103448275863, 'Recall': 0.7832627118644068, 'F1': 0.7936186945287047, 'AUROC': 0.8932935760619376, 'AUPRC': 0.872072004742551}\n",
      "Epoch number: 87\n",
      "Loss: 0.6356783963062547\n",
      "{'Accuracy': 0.8125701459034792, 'Precision': 0.8302807780655882, 'Recall': 0.7828154425612053, 'F1': 0.7933079315513192, 'AUROC': 0.8926056706423937, 'AUPRC': 0.8713748558613665}\n",
      "Epoch number: 88\n",
      "Loss: 0.6354754038071364\n",
      "{'Accuracy': 0.8103254769921436, 'Precision': 0.828542144864918, 'Recall': 0.7800376647834275, 'F1': 0.7905148127795438, 'AUROC': 0.8919413057124921, 'AUPRC': 0.8704460758183651}\n",
      "Epoch number: 89\n",
      "Loss: 0.635229825311237\n",
      "{'Accuracy': 0.8103254769921436, 'Precision': 0.8316452938247012, 'Recall': 0.7786958568738229, 'F1': 0.789541581118157, 'AUROC': 0.8907041222012972, 'AUPRC': 0.8689368331692233}\n",
      "Epoch number: 90\n",
      "Loss: 0.6350456417261899\n",
      "{'Accuracy': 0.8069584736251403, 'Precision': 0.8336981566820276, 'Recall': 0.7727401129943503, 'F1': 0.7839086294416244, 'AUROC': 0.8894237811257586, 'AUPRC': 0.8676897052341828}\n",
      "Epoch number: 91\n",
      "Loss: 0.6348078898761583\n",
      "{'Accuracy': 0.7867564534231201, 'Precision': 0.8188704399466731, 'Recall': 0.7477401129943503, 'F1': 0.7576030927835051, 'AUROC': 0.8877824858757062, 'AUPRC': 0.8662223139574989}\n",
      "Epoch number: 92\n",
      "Loss: 0.6346247458970675\n",
      "{'Accuracy': 0.7811447811447811, 'Precision': 0.816120820145865, 'Recall': 0.7403483992467044, 'F1': 0.7496559922193005, 'AUROC': 0.8859777150031387, 'AUPRC': 0.864337894513591}\n",
      "Epoch number: 93\n",
      "Loss: 0.6344432703992153\n",
      "{'Accuracy': 0.7800224466891134, 'Precision': 0.8152963182815887, 'Recall': 0.7389595103578155, 'F1': 0.7481424648683572, 'AUROC': 0.8852191881146684, 'AUPRC': 0.8634843112831427}\n",
      "Epoch number: 94\n",
      "Loss: 0.6342659981627213\n",
      "{'Accuracy': 0.7822671156004489, 'Precision': 0.8155527079896943, 'Recall': 0.7421845574387947, 'F1': 0.7516151467426916, 'AUROC': 0.8849236241891609, 'AUPRC': 0.8628261395733083}\n",
      "Epoch number: 95\n",
      "Loss: 0.6341193212817112\n",
      "{'Accuracy': 0.797979797979798, 'Precision': 0.8271218146617132, 'Recall': 0.7616290018832392, 'F1': 0.7723427208721326, 'AUROC': 0.8856533793680688, 'AUPRC': 0.863115811231008}\n",
      "Epoch number: 96\n",
      "Loss: 0.6339931604788476\n",
      "{'Accuracy': 0.8013468013468014, 'Precision': 0.8259878710501117, 'Recall': 0.7671374764595104, 'F1': 0.7778089297966556, 'AUROC': 0.8858757062146893, 'AUPRC': 0.862861095143715}\n",
      "Epoch number: 97\n",
      "Loss: 0.6338728477760237\n",
      "{'Accuracy': 0.8069584736251403, 'Precision': 0.8302041973908111, 'Recall': 0.7740819209039548, 'F1': 0.7849565568801777, 'AUROC': 0.8856403013182674, 'AUPRC': 0.8620836646388315}\n",
      "Epoch number: 98\n",
      "Loss: 0.6337334483560889\n",
      "{'Accuracy': 0.8002244668911336, 'Precision': 0.8251440092165898, 'Recall': 0.7657485875706215, 'F1': 0.7763705583756345, 'AUROC': 0.884298493408663, 'AUPRC': 0.8603978189669004}\n",
      "Epoch number: 99\n",
      "Loss: 0.6336529165506363\n",
      "{'Accuracy': 0.7957351290684624, 'Precision': 0.8229715489989462, 'Recall': 0.7597457627118644, 'F1': 0.7702020202020201, 'AUROC': 0.8820621468926555, 'AUPRC': 0.8579757637321056}\n",
      "Finetune for 0.01 fraction of validation set\n",
      "{'Accuracy': 0.8305274971941639, 'Precision': 0.8442207792207792, 'Recall': 0.8050376647834275, 'F1': 0.8152784738001908, 'AUROC': 0.8940782590500106, 'AUPRC': 0.8757063788881798}\n",
      "Finetune for 0.01 fraction of test set\n",
      "{'Accuracy': 0.9933065595716198, 'Precision': 0.9940334128878281, 'Recall': 0.9924924924924925, 'F1': 0.9932166512595961, 'AUROC': 0.9998549273911592, 'AUPRC': 0.9998506551768274}\n",
      "\n",
      "Duration: 0:02:17.792902\n"
     ]
    },
    {
     "data": {
      "text/plain": [
       "<All keys matched successfully>"
      ]
     },
     "execution_count": 24,
     "metadata": {},
     "output_type": "execute_result"
    }
   ],
   "source": [
    "seed_everything(RANDOM_SEED)\n",
    "finetune_model = FTClassifier(input_dims=configs.input_dims, output_dims=configs.output_dims, depth=configs.depth, p_output_dims=configs.num_classes, device=device, flag_use_multi_gpu=configs.flag_use_multi_gpu)\n",
    "finetune_model.net.load_state_dict(torch.load(f\"{working_directory}seed{RANDOM_SEED}_pretrain_model.pt\"))"
   ]
  },
  {
   "cell_type": "code",
   "execution_count": 25,
   "metadata": {
    "ExecuteTime": {
     "end_time": "2023-11-09T02:38:31.621606700Z",
     "start_time": "2023-11-09T02:36:12.629009600Z"
    },
    "collapsed": false
   },
   "outputs": [],
   "source": [
    "seed_everything(RANDOM_SEED)\n",
    "epoch_loss_list, epoch_f1_list = finetune_fit(finetune_model, X_train, y_train[:, 0], X_val, y_val[:, 0], batch_size=configs.finetune_batch_size_100, finetune_epochs=configs.finetune_epochs_100, num_classes=configs.num_classes, finetune_lr=configs.finetune_lr_100, fraction=configs.fraction_100, device=device, callback=finetune_callback)"
   ]
  },
  {
   "cell_type": "code",
   "execution_count": 26,
   "metadata": {
    "ExecuteTime": {
     "end_time": "2023-11-09T02:38:32.396519900Z",
     "start_time": "2023-11-09T02:38:31.621606700Z"
    },
    "collapsed": false
   },
   "outputs": [],
   "source": [
    "finetune_model.load_state_dict(torch.load(f\"{working_directory}seed{RANDOM_SEED}_max_f1_{configs.fraction_100}_finetune_model.pt\"))\n",
    "start_logging(RANDOM_SEED, logging_directory)\n",
    "print(f\"Finetune for {configs.fraction_100} fraction of validation set\")\n",
    "finetune_predict(finetune_model, X_val, y_val[:,0])\n",
    "print(f\"Finetune for {configs.fraction_100} fraction of test set\")\n",
    "finetune_predict(finetune_model, X_test, y_test[:,0])\n",
    "print()\n",
    "stop_logging()"
   ]
  },
  {
   "cell_type": "code",
   "execution_count": 27,
   "metadata": {
    "ExecuteTime": {
     "end_time": "2023-11-09T02:38:32.834496600Z",
     "start_time": "2023-11-09T02:38:32.396519900Z"
    },
    "collapsed": false
   },
   "outputs": [
    {
     "data": {
      "image/png": "[encoded data removed]",
      "text/plain": [
       "<Figure size 800x800 with 2 Axes>"
      ]
     },
     "metadata": {},
     "output_type": "display_data"
    }
   ],
   "source": [
    "plt.figure(1, figsize=(8, 8))\n",
    "plt.subplot(121)\n",
    "plt.plot(epoch_loss_list)\n",
    "plt.title('Loss')\n",
    "plt.subplot(122)\n",
    "plt.plot(epoch_f1_list)\n",
    "plt.title('Accuracy')\n",
    "plt.show()"
   ]
  },
  {
   "cell_type": "markdown",
   "metadata": {
    "collapsed": false
   },
   "source": [
    "## Semi-supervised"
   ]
  },
  {
   "cell_type": "markdown",
   "metadata": {
    "collapsed": false
   },
   "source": [
    "### 10% label"
   ]
  },
  {
   "cell_type": "code",
   "execution_count": 28,
   "metadata": {
    "ExecuteTime": {
     "end_time": "2023-11-09T02:38:33.163219500Z",
     "start_time": "2023-11-09T02:38:32.834496600Z"
    },
    "collapsed": false
   },
   "outputs": [
    {
     "data": {
      "text/plain": [
       "<All keys matched successfully>"
      ]
     },
     "execution_count": 28,
     "metadata": {},
     "output_type": "execute_result"
    }
   ],
   "source": [
    "seed_everything(RANDOM_SEED)\n",
    "finetune_model = FTClassifier(input_dims=configs.input_dims, output_dims=configs.output_dims, depth=configs.depth, p_output_dims=configs.num_classes, device=device, flag_use_multi_gpu=configs.flag_use_multi_gpu)\n",
    "finetune_model.net.load_state_dict(torch.load(f\"{working_directory}seed{RANDOM_SEED}_pretrain_model.pt\"))"
   ]
  },
  {
   "cell_type": "code",
   "execution_count": 29,
   "metadata": {
    "ExecuteTime": {
     "end_time": "2023-11-09T02:39:10.549066700Z",
     "start_time": "2023-11-09T02:38:33.158459600Z"
    },
    "collapsed": false
   },
   "outputs": [],
   "source": [
    "seed_everything(RANDOM_SEED)\n",
    "epoch_loss_list, epoch_f1_list = finetune_fit(finetune_model, X_train, y_train[:, 0], X_val, y_val[:, 0], batch_size=configs.finetune_batch_size_10,finetune_epochs=configs.finetune_epochs_10, num_classes=configs.num_classes, finetune_lr=configs.finetune_lr_10, fraction=configs.fraction_10, device=device, callback=finetune_callback)"
   ]
  },
  {
   "cell_type": "code",
   "execution_count": 30,
   "metadata": {
    "ExecuteTime": {
     "end_time": "2023-11-09T02:39:11.209845900Z",
     "start_time": "2023-11-09T02:39:10.549066700Z"
    },
    "collapsed": false
   },
   "outputs": [],
   "source": [
    "finetune_model.load_state_dict(torch.load(f\"{working_directory}seed{RANDOM_SEED}_max_f1_{configs.fraction_10}_finetune_model.pt\"))\n",
    "start_logging(RANDOM_SEED, logging_directory)\n",
    "print(f\"Finetune for {configs.fraction_10} fraction of validation set\")\n",
    "finetune_predict(finetune_model, X_val, y_val[:,0])\n",
    "print(f\"Finetune for {configs.fraction_10} fraction of test set\")\n",
    "finetune_predict(finetune_model, X_test, y_test[:,0])\n",
    "print()\n",
    "stop_logging()"
   ]
  },
  {
   "cell_type": "code",
   "execution_count": 31,
   "metadata": {
    "ExecuteTime": {
     "end_time": "2023-11-09T02:39:11.665719100Z",
     "start_time": "2023-11-09T02:39:11.209845900Z"
    },
    "collapsed": false
   },
   "outputs": [
    {
     "data": {
      "image/png": "[encoded data removed]",
      "text/plain": [
       "<Figure size 800x800 with 2 Axes>"
      ]
     },
     "metadata": {},
     "output_type": "display_data"
    }
   ],
   "source": [
    "plt.figure(1, figsize=(8, 8))\n",
    "plt.subplot(121)\n",
    "plt.plot(epoch_loss_list)\n",
    "plt.title('Loss')\n",
    "plt.subplot(122)\n",
    "plt.plot(epoch_f1_list)\n",
    "plt.title('Accuracy')\n",
    "plt.show()"
   ]
  },
  {
   "cell_type": "markdown",
   "metadata": {
    "collapsed": false
   },
   "source": [
    "### 1% label"
   ]
  },
  {
   "cell_type": "code",
   "execution_count": 32,
   "metadata": {
    "ExecuteTime": {
     "end_time": "2023-11-09T02:39:11.948221500Z",
     "start_time": "2023-11-09T02:39:11.665719100Z"
    },
    "collapsed": false
   },
   "outputs": [
    {
     "data": {
      "text/plain": [
       "<All keys matched successfully>"
      ]
     },
     "execution_count": 32,
     "metadata": {},
     "output_type": "execute_result"
    }
   ],
   "source": [
    "seed_everything(RANDOM_SEED)\n",
    "finetune_model = FTClassifier(input_dims=configs.input_dims, output_dims=configs.output_dims, depth=configs.depth, p_output_dims=configs.num_classes, device=device, flag_use_multi_gpu=configs.flag_use_multi_gpu)\n",
    "finetune_model.net.load_state_dict(torch.load(f\"{working_directory}seed{RANDOM_SEED}_pretrain_model.pt\"))"
   ]
  },
  {
   "cell_type": "code",
   "execution_count": 33,
   "metadata": {
    "ExecuteTime": {
     "end_time": "2023-11-09T02:39:29.896383Z",
     "start_time": "2023-11-09T02:39:11.932603700Z"
    },
    "collapsed": false
   },
   "outputs": [],
   "source": [
    "seed_everything(RANDOM_SEED)\n",
    "epoch_loss_list, epoch_f1_list = finetune_fit(finetune_model, X_train, y_train[:, 0], X_val, y_val[:, 0], batch_size=configs.finetune_batch_size_1,finetune_epochs=configs.finetune_epochs_1, num_classes=configs.num_classes, finetune_lr=configs.finetune_lr_1, fraction=configs.fraction_1, device=device, callback=finetune_callback)"
   ]
  },
  {
   "cell_type": "code",
   "execution_count": 34,
   "metadata": {
    "ExecuteTime": {
     "end_time": "2023-11-09T02:39:30.459776100Z",
     "start_time": "2023-11-09T02:39:29.896383Z"
    },
    "collapsed": false
   },
   "outputs": [],
   "source": [
    "finetune_model.load_state_dict(torch.load(f\"{working_directory}seed{RANDOM_SEED}_max_f1_{configs.fraction_1}_finetune_model.pt\"))\n",
    "start_logging(RANDOM_SEED, logging_directory)\n",
    "print(f\"Finetune for {configs.fraction_1} fraction of validation set\")\n",
    "finetune_predict(finetune_model, X_val, y_val[:,0])\n",
    "print(f\"Finetune for {configs.fraction_1} fraction of test set\")\n",
    "finetune_predict(finetune_model, X_test, y_test[:,0])\n",
    "print()\n",
    "stop_logging()"
   ]
  },
  {
   "cell_type": "code",
   "execution_count": 35,
   "metadata": {
    "ExecuteTime": {
     "end_time": "2023-11-09T02:39:30.904193900Z",
     "start_time": "2023-11-09T02:39:30.459776100Z"
    },
    "collapsed": false
   },
   "outputs": [
    {
     "data": {
      "image/png": "[encoded data removed]",
      "text/plain": [
       "<Figure size 800x800 with 2 Axes>"
      ]
     },
     "metadata": {},
     "output_type": "display_data"
    }
   ],
   "source": [
    "plt.figure(1, figsize=(8, 8))\n",
    "plt.subplot(121)\n",
    "plt.plot(epoch_loss_list)\n",
    "plt.title('Loss')\n",
    "plt.subplot(122)\n",
    "plt.plot(epoch_f1_list)\n",
    "plt.title('Accuracy')\n",
    "plt.show()"
   ]
  },
  {
   "cell_type": "code",
   "execution_count": 36,
   "metadata": {
    "ExecuteTime": {
     "end_time": "2023-11-09T02:39:31.095064300Z",
     "start_time": "2023-11-09T02:39:30.872558700Z"
    },
    "collapsed": false
   },
   "outputs": [],
   "source": [
    "end_time = datetime.now()\n",
    "print(f'Duration: {end_time - start_time}')"
   ]
  },
  {
   "cell_type": "code",
   "execution_count": null,
   "metadata": {
    "ExecuteTime": {
     "end_time": "2023-11-09T02:39:31.108070700Z",
     "start_time": "2023-11-09T02:39:31.095064300Z"
    },
    "collapsed": false
   },
   "outputs": [],
   "source": []
  }
 ],
 "metadata": {
  "accelerator": "GPU",
  "colab": {
   "authorship_tag": "ABX9TyPJ0yeKiuGHJFdmAGX+ukV4",
   "provenance": []
  },
  "gpuClass": "premium",
  "kernelspec": {
   "display_name": "python39",
   "language": "python",
   "name": "python39"
  },
  "language_info": {
   "codemirror_mode": {
    "name": "ipython",
    "version": 3
   },
   "file_extension": ".py",
   "mimetype": "text/x-python",
   "name": "python",
   "nbconvert_exporter": "python",
   "pygments_lexer": "ipython3",
   "version": "3.9.18"
  }
 },
 "nbformat": 4,
 "nbformat_minor": 0
}
