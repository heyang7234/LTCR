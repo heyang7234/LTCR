{
 "cells": [
  {
   "cell_type": "code",
   "execution_count": 1,
   "metadata": {
    "ExecuteTime": {
     "end_time": "2023-11-09T02:35:01.905296300Z",
     "start_time": "2023-11-09T02:35:01.403052900Z"
    },
    "collapsed": false
   },
   "outputs": [],
   "source": [
    "# !pip install -r requirements.txt"
   ]
  },
  {
   "cell_type": "code",
   "execution_count": 2,
   "metadata": {
    "ExecuteTime": {
     "end_time": "2023-11-09T02:35:01.920926500Z",
     "start_time": "2023-11-09T02:35:01.654602Z"
    },
    "collapsed": false
   },
   "outputs": [],
   "source": [
    "from AD_COMET_LTCR import COMET\n",
    "from models.encoder import FTClassifier\n",
    "# import datautils\n",
    "from tasks.fine_tuning import finetune_fit\n",
    "from tasks.fine_tuning import finetune_predict\n",
    "from tasks.linear_evaluation import eval_classification\n",
    "from dataloading.ad_preprocessing import load_ad\n",
    "from config_files.AD_Configs import Config as Configs\n",
    "from dct_func import FFT_for_Period\n",
    "import os\n",
    "import torch\n",
    "import numpy as np\n",
    "import pandas as pd\n",
    "import torch.nn as nn\n",
    "import matplotlib.pyplot as plt\n",
    "import random\n",
    "import copy\n",
    "import sklearn\n",
    "from utils_cpc import plot_channels # 多加一个sample id\n",
    "from utils_cpc import process_batch_ts\n",
    "from utils_cpc import split_data_label\n",
    "from utils_cpc import start_logging\n",
    "from utils_cpc import stop_logging\n",
    "from utils_cpc import seed_everything\n",
    "\n",
    "from datetime import datetime"
   ]
  },
  {
   "cell_type": "code",
   "execution_count": 3,
   "metadata": {
    "ExecuteTime": {
     "end_time": "2023-11-09T02:35:02.102295400Z",
     "start_time": "2023-11-09T02:35:01.842412500Z"
    },
    "executionInfo": {
     "elapsed": 46,
     "status": "ok",
     "timestamp": 1676328072870,
     "user": {
      "displayName": "Lucian",
      "userId": "17113640720459928730"
     },
     "user_tz": 300
    },
    "id": "T5Qnm0ILMZJQ"
   },
   "outputs": [],
   "source": [
    "configs = Configs()\n",
    "RANDOM_SEED = configs.RANDOM_SEED\n",
    "\n",
    "# Autoload the modified python file\n",
    "%reload_ext autoreload\n",
    "%autoreload 2\n",
    "\n",
    "# Ignore warnings\n",
    "import warnings\n",
    "warnings.filterwarnings(\"ignore\")"
   ]
  },
  {
   "cell_type": "markdown",
   "metadata": {
    "collapsed": false
   },
   "source": [
    "#### Specify saving and logging directory"
   ]
  },
  {
   "cell_type": "code",
   "execution_count": 4,
   "metadata": {
    "ExecuteTime": {
     "end_time": "2023-11-09T02:35:02.278596700Z",
     "start_time": "2023-11-09T02:35:02.067331100Z"
    },
    "collapsed": false
   },
   "outputs": [],
   "source": [
    "working_directory = configs.working_directory\n",
    "dataset_save_path = working_directory\n",
    "if not os.path.exists(working_directory):\n",
    "    os.makedirs(working_directory)\n",
    "\n",
    "logging_directory = configs.logging_directory\n",
    "if not os.path.exists(logging_directory):\n",
    "    os.makedirs(logging_directory)"
   ]
  },
  {
   "cell_type": "markdown",
   "metadata": {
    "collapsed": false
   },
   "source": [
    "#### Load and preprocessing data"
   ]
  },
  {
   "cell_type": "code",
   "execution_count": 5,
   "metadata": {
    "ExecuteTime": {
     "end_time": "2023-11-09T02:35:03.036742900Z",
     "start_time": "2023-11-09T02:35:02.278596700Z"
    },
    "colab": {
     "base_uri": "https://localhost:8080/"
    },
    "executionInfo": {
     "elapsed": 6758,
     "status": "ok",
     "timestamp": 1676328080495,
     "user": {
      "displayName": "Lucian",
      "userId": "17113640720459928730"
     },
     "user_tz": 300
    },
    "id": "SFlMhpSe5IWB",
    "outputId": "c395125c-ce87-4d3d-a1da-e771028212b3"
   },
   "outputs": [
    {
     "name": "stdout",
     "output_type": "stream",
     "text": [
      "Validation subjects:  [17, 18]\n",
      "Test subjects:  [19, 20]\n",
      "(481, 1280, 16)\n",
      "(481, 2)\n",
      "(99, 1280, 16)\n",
      "(99, 2)\n",
      "(83, 1280, 16)\n",
      "(83, 2)\n"
     ]
    }
   ],
   "source": [
    "data_path = \"datasets/AD/Feature/\"\n",
    "label_path = \"datasets/AD/Label/label.npy\"\n",
    "val_ids = [17,18]  # specify patient ID for validation and test set\n",
    "test_ids = [19,20]\n",
    "X_trial_train, X_trial_val, X_trial_test, y_trial_train, y_trial_val, y_trial_test = load_ad(val_ids, test_ids, data_path, label_path)\n",
    "print(X_trial_train.shape)\n",
    "print(y_trial_train.shape)\n",
    "print(X_trial_val.shape)\n",
    "print(y_trial_val.shape)\n",
    "print(X_trial_test.shape)\n",
    "print(y_trial_test.shape)"
   ]
  },
  {
   "cell_type": "code",
   "execution_count": 6,
   "metadata": {
    "ExecuteTime": {
     "end_time": "2023-11-09T02:35:03.569229500Z",
     "start_time": "2023-11-09T02:35:02.862963700Z"
    },
    "collapsed": false
   },
   "outputs": [
    {
     "name": "stdout",
     "output_type": "stream",
     "text": [
      "(481, 1280, 16)\n",
      "(99, 1280, 16)\n",
      "(83, 1280, 16)\n"
     ]
    }
   ],
   "source": [
    "# normalize data\n",
    "X_trial_train = process_batch_ts(X_trial_train, normalized=True, bandpass_filter=False)\n",
    "X_trial_val = process_batch_ts(X_trial_val, normalized=True, bandpass_filter=False)\n",
    "X_trial_test = process_batch_ts(X_trial_test, normalized=True, bandpass_filter=False)\n",
    "print(X_trial_train.shape)\n",
    "print(X_trial_val.shape)\n",
    "print(X_trial_test.shape)"
   ]
  },
  {
   "cell_type": "code",
   "execution_count": 7,
   "metadata": {},
   "outputs": [],
   "source": [
    "# periodicity, freq_list = FFT_for_Period(torch.tensor(X_trial_train), 8) # \n",
    "# periodicity = torch.from_numpy(np.array([periodicity]))\n",
    "# # periodicity = periodicity.item()\n",
    "# periodicity\n",
    "# tensor([[1280,  640,  426,  320,  256,  213,  182,  160]])"
   ]
  },
  {
   "cell_type": "code",
   "execution_count": 8,
   "metadata": {
    "ExecuteTime": {
     "end_time": "2023-11-09T02:35:03.969197400Z",
     "start_time": "2023-11-09T02:35:03.569229500Z"
    },
    "collapsed": false
   },
   "outputs": [
    {
     "name": "stdout",
     "output_type": "stream",
     "text": [
      "(4329, 4)\n",
      "(891, 4)\n",
      "(747, 4)\n",
      "(4329, 256, 16)\n",
      "(891, 256, 16)\n",
      "(747, 256, 16)\n",
      "(4329, 4)\n",
      "(891, 4)\n",
      "(747, 4)\n"
     ]
    }
   ],
   "source": [
    "# Split trail-level data into sample-level data\n",
    "X_train, y_train = split_data_label(X_trial_train,y_trial_train, sample_timestamps=configs.S_TIMESTAMPS, overlapping=configs.S_OVERLAPPING)\n",
    "X_val, y_val = split_data_label(X_trial_val,y_trial_val, sample_timestamps=configs.S_TIMESTAMPS, overlapping=configs.S_OVERLAPPING)\n",
    "X_test, y_test = split_data_label(X_trial_test,y_trial_test, sample_timestamps=configs.S_TIMESTAMPS, overlapping=configs.S_OVERLAPPING)\n",
    "print(X_train.shape)\n",
    "print(X_val.shape)\n",
    "print(X_test.shape)\n",
    "print(y_train.shape)\n",
    "print(y_val.shape)\n",
    "print(y_test.shape)"
   ]
  },
  {
   "cell_type": "code",
   "execution_count": 9,
   "metadata": {},
   "outputs": [],
   "source": [
    "del X_trial_train\n",
    "del X_trial_val\n",
    "del X_trial_test"
   ]
  },
  {
   "cell_type": "code",
   "execution_count": 10,
   "metadata": {
    "ExecuteTime": {
     "end_time": "2023-11-09T02:35:04.375923800Z",
     "start_time": "2023-11-09T02:35:03.969197400Z"
    },
    "collapsed": false
   },
   "outputs": [],
   "source": [
    "# # plot first sample, first four channels\n",
    "# plot_channels(1, X_trial_train[0][:,:])"
   ]
  },
  {
   "cell_type": "code",
   "execution_count": 11,
   "metadata": {},
   "outputs": [],
   "source": [
    "# torch.__version__\n"
   ]
  },
  {
   "cell_type": "code",
   "execution_count": 12,
   "metadata": {},
   "outputs": [
    {
     "name": "stdout",
     "output_type": "stream",
     "text": [
      "PyTorch version: 2.1.2+cu118\n",
      "GPU available: True\n",
      "cuDNN available: True\n"
     ]
    }
   ],
   "source": [
    "import torch\n",
    "\n",
    "# \n",
    "print(\"PyTorch version:\", torch.__version__)\n",
    "print(\"GPU available:\", torch.cuda.is_available())\n",
    "\n",
    "# \n",
    "print(\"cuDNN available:\", torch.backends.cudnn.enabled)\n"
   ]
  },
  {
   "cell_type": "markdown",
   "metadata": {
    "id": "Gzsn8WX82O5c"
   },
   "source": [
    "## Train model"
   ]
  },
  {
   "cell_type": "code",
   "execution_count": 13,
   "metadata": {
    "ExecuteTime": {
     "end_time": "2023-11-09T02:35:04.569609300Z",
     "start_time": "2023-11-09T02:35:04.329058300Z"
    },
    "collapsed": false
   },
   "outputs": [
    {
     "name": "stdout",
     "output_type": "stream",
     "text": [
      "The program will run on cuda!\n"
     ]
    }
   ],
   "source": [
    "device = \"cuda\" if torch.cuda.is_available() else \"cpu\"\n",
    "print(f\"The program will run on {device}!\")\n",
    "# device = \"cuda\""
   ]
  },
  {
   "cell_type": "markdown",
   "metadata": {
    "collapsed": false
   },
   "source": [
    "### Callback functions"
   ]
  },
  {
   "cell_type": "code",
   "execution_count": 14,
   "metadata": {
    "ExecuteTime": {
     "end_time": "2023-11-09T02:35:04.758668200Z",
     "start_time": "2023-11-09T02:35:04.569609300Z"
    },
    "collapsed": false
   },
   "outputs": [],
   "source": [
    "def pretrain_callback(model, loss):\n",
    "    n = model.n_epochs\n",
    "    metrics_dict = {}\n",
    "    if n % 1 == 0:\n",
    "        metrics_dict = eval_classification(model, X_train, y_train[:, 0], X_val, y_val[:, 0], fraction=1)\n",
    "        print(metrics_dict)\n",
    "        model.save(f\"{working_directory}seed{RANDOM_SEED}_pretrain_model.pt\")\n",
    "    return metrics_dict['F1']"
   ]
  },
  {
   "cell_type": "code",
   "execution_count": 15,
   "metadata": {
    "ExecuteTime": {
     "end_time": "2023-11-09T02:35:04.947506400Z",
     "start_time": "2023-11-09T02:35:04.758668200Z"
    },
    "collapsed": false
   },
   "outputs": [],
   "source": [
    "def finetune_callback(model, f1, fraction=1.0):\n",
    "    n = model.n_epochs\n",
    "    if model.n_epochs == 1:\n",
    "        model.finetune_f1 = f1\n",
    "        torch.save(model.state_dict(), f\"{working_directory}seed{RANDOM_SEED}_max_f1_{fraction}_finetune_model.pt\")\n",
    "    # control the saving frequency\n",
    "    if n % 1 == 0:\n",
    "        if f1 > model.finetune_f1:\n",
    "            model.finetune_f1 = f1\n",
    "            torch.save(model.state_dict(), f\"{working_directory}seed{RANDOM_SEED}_max_f1_{fraction}_finetune_model.pt\")\n",
    "    return finetune_callback"
   ]
  },
  {
   "cell_type": "markdown",
   "metadata": {
    "collapsed": false
   },
   "source": [
    "## Self-Supervised"
   ]
  },
  {
   "cell_type": "code",
   "execution_count": 16,
   "metadata": {
    "ExecuteTime": {
     "end_time": "2023-11-09T02:36:10.310784300Z",
     "start_time": "2023-11-09T02:35:04.947506400Z"
    },
    "colab": {
     "base_uri": "https://localhost:8080/"
    },
    "executionInfo": {
     "elapsed": 262193,
     "status": "ok",
     "timestamp": 1675656463615,
     "user": {
      "displayName": "Lucian",
      "userId": "17113640720459928730"
     },
     "user_tz": 300
    },
    "id": "27wjLpD237VR",
    "outputId": "cc4d88e7-1cfe-4bb5-d642-cbd3a879d335"
   },
   "outputs": [
    {
     "name": "stdout",
     "output_type": "stream",
     "text": [
      "Epoch #1: loss=17.617831071217854\n",
      "{'Accuracy': 0.7710437710437711, 'Precision': 0.7962573591253155, 'Recall': 0.7985169491525423, 'F1': 0.7710204081632652, 'AUROC': 0.9290594266582965, 'AUPRC': 0.9259813722965675}\n",
      "Epoch #2: loss=13.608164575364855\n",
      "{'Accuracy': 0.8237934904601572, 'Precision': 0.8275286283609948, 'Recall': 0.8396421845574389, 'F1': 0.822699152451073, 'AUROC': 0.933286252354049, 'AUPRC': 0.9303235090073259}\n",
      "Epoch #3: loss=13.378955099317762\n",
      "{'Accuracy': 0.8372615039281706, 'Precision': 0.8351860254083485, 'Recall': 0.8478107344632768, 'F1': 0.835350117566095, 'AUROC': 0.9353421217827997, 'AUPRC': 0.9323442310830465}\n",
      "Epoch #4: loss=13.281259536743164\n",
      "{'Accuracy': 0.8395061728395061, 'Precision': 0.8364135864135864, 'Recall': 0.8487994350282486, 'F1': 0.8373749325123776, 'AUROC': 0.9307961916718981, 'AUPRC': 0.9284967427959616}\n",
      "Epoch #5: loss=13.13095596101549\n",
      "{'Accuracy': 0.8451178451178452, 'Precision': 0.8415720127214903, 'Recall': 0.8539548022598871, 'F1': 0.8429366320242803, 'AUROC': 0.9265432098765432, 'AUPRC': 0.9238343092579955}\n",
      "Epoch #6: loss=12.890090730455187\n",
      "{'Accuracy': 0.8518518518518519, 'Precision': 0.8474977252047315, 'Recall': 0.8596045197740113, 'F1': 0.8495163519115615, 'AUROC': 0.9317953546767106, 'AUPRC': 0.9300742896890437}\n",
      "Epoch #7: loss=12.517240153418648\n",
      "{'Accuracy': 0.8462401795735129, 'Precision': 0.8394933554817277, 'Recall': 0.8463983050847458, 'F1': 0.8421162912519644, 'AUROC': 0.9369585687382298, 'AUPRC': 0.9357347343344135}\n",
      "Epoch #8: loss=12.10511106914944\n",
      "{'Accuracy': 0.8597081930415263, 'Precision': 0.8533063608872009, 'Recall': 0.8581450094161959, 'F1': 0.8553881311147611, 'AUROC': 0.9400083699518729, 'AUPRC': 0.9394766896011513}\n",
      "Epoch #9: loss=11.722634262508816\n",
      "{'Accuracy': 0.8754208754208754, 'Precision': 0.8709989613823057, 'Recall': 0.8699858757062147, 'F1': 0.8704814662030762, 'AUROC': 0.9474994768780081, 'AUPRC': 0.9469598456402961}\n",
      "Epoch #10: loss=11.378648704952663\n",
      "{'Accuracy': 0.8888888888888888, 'Precision': 0.8877126099706745, 'Recall': 0.8803907721280603, 'F1': 0.8835956562648049, 'AUROC': 0.9558903536304666, 'AUPRC': 0.9554397536940314}\n",
      "Epoch #11: loss=11.036207358042398\n",
      "{'Accuracy': 0.9023569023569024, 'Precision': 0.9033716310533663, 'Recall': 0.8930320150659133, 'F1': 0.8973916726784166, 'AUROC': 0.963491316174932, 'AUPRC': 0.9631310738330475}\n",
      "Epoch #12: loss=10.691769017113579\n",
      "{'Accuracy': 0.9147025813692481, 'Precision': 0.9179144385026738, 'Recall': 0.904731638418079, 'F1': 0.9101290014333493, 'AUROC': 0.9710085792006695, 'AUPRC': 0.9705184596517005}\n",
      "Epoch #13: loss=10.478633827633328\n",
      "{'Accuracy': 0.920314253647587, 'Precision': 0.9236350884764781, 'Recall': 0.9107815442561206, 'F1': 0.9160862258101743, 'AUROC': 0.9749006068215107, 'AUPRC': 0.974307951609964}\n",
      "Epoch #14: loss=10.154604858822292\n",
      "{'Accuracy': 0.9169472502805837, 'Precision': 0.9221781305114638, 'Recall': 0.9057203389830508, 'F1': 0.9122088006902502, 'AUROC': 0.9766059845155891, 'AUPRC': 0.9759006829672456}\n",
      "Epoch #15: loss=9.9433946079678\n",
      "{'Accuracy': 0.9135802469135802, 'Precision': 0.9209213115114476, 'Recall': 0.9006591337099812, 'F1': 0.9082898333745497, 'AUROC': 0.9769303201506592, 'AUPRC': 0.9766211347354452}\n",
      "Epoch #16: loss=9.718854904174805\n",
      "{'Accuracy': 0.9102132435465768, 'Precision': 0.9176059438635114, 'Recall': 0.8969397363465159, 'F1': 0.9046620370865746, 'AUROC': 0.9746338146055661, 'AUPRC': 0.9744501859507345}\n",
      "Epoch #17: loss=9.529868019951714\n",
      "{'Accuracy': 0.9046015712682379, 'Precision': 0.916523540109113, 'Recall': 0.8882062146892655, 'F1': 0.8979170963085172, 'AUROC': 0.9699152542372882, 'AUPRC': 0.9697120077045165}\n",
      "Epoch #18: loss=9.326570245954725\n",
      "{'Accuracy': 0.9012345679012346, 'Precision': 0.9149501454327331, 'Recall': 0.8835922787193973, 'F1': 0.8939847916148362, 'AUROC': 0.9662115505335844, 'AUPRC': 0.965714573920615}\n",
      "Epoch #19: loss=9.180412981245253\n",
      "{'Accuracy': 0.8922558922558923, 'Precision': 0.9066505999384679, 'Recall': 0.8733757062146893, 'F1': 0.8840523130977942, 'AUROC': 0.9619637999581503, 'AUPRC': 0.9609928853776044}\n",
      "Epoch #20: loss=9.049309041765001\n",
      "{'Accuracy': 0.8810325476992144, 'Precision': 0.8957542027655058, 'Recall': 0.8608286252354049, 'F1': 0.8716417504756726, 'AUROC': 0.9543157564344006, 'AUPRC': 0.9533621007549291}\n",
      "Epoch #21: loss=8.911456002129448\n",
      "{'Accuracy': 0.8664421997755332, 'Precision': 0.8852614682675009, 'Recall': 0.8427730696798493, 'F1': 0.8546283410912232, 'AUROC': 0.9431157145846412, 'AUPRC': 0.9421179561250934}\n",
      "Epoch #22: loss=8.773812505933973\n",
      "{'Accuracy': 0.8406285072951739, 'Precision': 0.8626257600213595, 'Recall': 0.8126177024482109, 'F1': 0.8246451934804301, 'AUROC': 0.9293366813140824, 'AUPRC': 0.928323173817436}\n",
      "Epoch #23: loss=8.657528930240208\n",
      "{'Accuracy': 0.8294051627384961, 'Precision': 0.8534685224786462, 'Recall': 0.7991760828625236, 'F1': 0.8111530052206506, 'AUROC': 0.9171636325591128, 'AUPRC': 0.9163988024771828}\n",
      "Epoch #24: loss=8.572023921542698\n",
      "{'Accuracy': 0.8249158249158249, 'Precision': 0.8565092165898618, 'Recall': 0.7913841807909605, 'F1': 0.804010152284264, 'AUROC': 0.9051265955220757, 'AUPRC': 0.90414864560643}\n",
      "Epoch #25: loss=8.516955110761854\n",
      "{'Accuracy': 0.8024691358024691, 'Precision': 0.8413561847988078, 'Recall': 0.7636064030131826, 'F1': 0.775064547593092, 'AUROC': 0.892435655994978, 'AUPRC': 0.8902895647773956}\n",
      "Epoch #26: loss=8.426239649454752\n",
      "{'Accuracy': 0.792368125701459, 'Precision': 0.8345518539169222, 'Recall': 0.7511064030131827, 'F1': 0.7616203482091337, 'AUROC': 0.8854781335007325, 'AUPRC': 0.8818263747562202}\n",
      "Epoch #27: loss=8.333610852559408\n",
      "{'Accuracy': 0.7957351290684624, 'Precision': 0.8352777777777778, 'Recall': 0.7557203389830509, 'F1': 0.7665578358208955, 'AUROC': 0.884363883657669, 'AUPRC': 0.8803366675973969}\n",
      "Epoch #28: loss=8.27896229426066\n",
      "{'Accuracy': 0.7901234567901234, 'Precision': 0.8254647749510763, 'Recall': 0.7505649717514125, 'F1': 0.7607923197188375, 'AUROC': 0.883814605566018, 'AUPRC': 0.8791900900222103}\n",
      "Epoch #29: loss=8.228775872124565\n",
      "{'Accuracy': 0.7890011223344556, 'Precision': 0.8246622680862086, 'Recall': 0.7491760828625236, 'F1': 0.7592971525135361, 'AUROC': 0.8807700355722954, 'AUPRC': 0.8756979200238528}\n",
      "Epoch #30: loss=8.168553140428331\n",
      "{'Accuracy': 0.7856341189674523, 'Precision': 0.8252369668246445, 'Recall': 0.7441148775894539, 'F1': 0.7538891162591597, 'AUROC': 0.8771918811466834, 'AUPRC': 0.87275113122315}\n",
      "Epoch #31: loss=8.144602616628012\n",
      "{'Accuracy': 0.7833894500561167, 'Precision': 0.8236610588053712, 'Recall': 0.7413370998116762, 'F1': 0.7508493951726827, 'AUROC': 0.8746495082653274, 'AUPRC': 0.8714435965952302}\n",
      "Epoch #32: loss=8.149123191833496\n",
      "{'Accuracy': 0.7822671156004489, 'Precision': 0.8244490114095386, 'Recall': 0.7395009416195857, 'F1': 0.7488521712851033, 'AUROC': 0.8716938690102531, 'AUPRC': 0.8691650339118014}\n",
      "Epoch #33: loss=8.129115952385796\n",
      "{'Accuracy': 0.77665544332211, 'Precision': 0.8205386112913693, 'Recall': 0.7325564971751413, 'F1': 0.7411475646769764, 'AUROC': 0.8654582548650346, 'AUPRC': 0.8634083424036625}\n",
      "Epoch #34: loss=8.132897747887505\n",
      "{'Accuracy': 0.7676767676767676, 'Precision': 0.8076898118105127, 'Recall': 0.7232344632768362, 'F1': 0.7307414366237897, 'AUROC': 0.8555241682360326, 'AUPRC': 0.8542692883774528}\n",
      "Epoch #35: loss=8.019845220777723\n",
      "{'Accuracy': 0.7665544332210998, 'Precision': 0.8068596237337192, 'Recall': 0.7218455743879473, 'F1': 0.7291793313069909, 'AUROC': 0.8461864406779661, 'AUPRC': 0.8454736135547369}\n",
      "Epoch #36: loss=7.971455891927083\n",
      "{'Accuracy': 0.7620650953984287, 'Precision': 0.8004124457308248, 'Recall': 0.7171845574387947, 'F1': 0.723971241524433, 'AUROC': 0.8365348399246704, 'AUPRC': 0.8357022803838176}\n",
      "Epoch #37: loss=7.926801443099976\n",
      "{'Accuracy': 0.7463524130190797, 'Precision': 0.7820778298747209, 'Recall': 0.6995291902071563, 'F1': 0.7040093368924847, 'AUROC': 0.8233678593848086, 'AUPRC': 0.8230280603499978}\n",
      "Epoch #38: loss=7.904855251312256\n",
      "{'Accuracy': 0.7407407407407407, 'Precision': 0.7731432360742706, 'Recall': 0.6939265536723164, 'F1': 0.6977598625520386, 'AUROC': 0.8126595522075748, 'AUPRC': 0.812864755447996}\n",
      "Epoch #39: loss=7.889969640307957\n",
      "{'Accuracy': 0.7261503928170595, 'Precision': 0.7524257125530625, 'Recall': 0.6785546139359699, 'F1': 0.6804348592998507, 'AUROC': 0.7988595940573342, 'AUPRC': 0.7976176829099277}\n",
      "Epoch #40: loss=7.861243380440606\n",
      "{'Accuracy': 0.7171717171717171, 'Precision': 0.740410407725322, 'Recall': 0.6687853107344632, 'F1': 0.6693001060445387, 'AUROC': 0.7852008788449467, 'AUPRC': 0.7827190329503719}\n",
      "Epoch #41: loss=7.83152437210083\n",
      "{'Accuracy': 0.7104377104377104, 'Precision': 0.7351216099870856, 'Recall': 0.6600047080979284, 'F1': 0.6586673239570464, 'AUROC': 0.7743147101904164, 'AUPRC': 0.7702116555062499}\n",
      "Epoch #42: loss=7.829874250623915\n",
      "{'Accuracy': 0.7059483726150393, 'Precision': 0.7294672887056526, 'Recall': 0.6548964218455744, 'F1': 0.6526574217355077, 'AUROC': 0.76745658087466, 'AUPRC': 0.7611161224087813}\n",
      "Epoch #43: loss=7.8003013134002686\n",
      "{'Accuracy': 0.7070707070707071, 'Precision': 0.7282336229946524, 'Recall': 0.6571798493408663, 'F1': 0.6557579435862895, 'AUROC': 0.7639568947478552, 'AUPRC': 0.7562322537752353}\n",
      "Epoch #44: loss=7.724822653664483\n",
      "{'Accuracy': 0.6992143658810326, 'Precision': 0.7191098746105798, 'Recall': 0.6479048964218456, 'F1': 0.6447030115462444, 'AUROC': 0.7633657668968403, 'AUPRC': 0.7550372926257494}\n",
      "Epoch #45: loss=7.6981018914116754\n",
      "{'Accuracy': 0.7081930415263749, 'Precision': 0.7305078929306794, 'Recall': 0.6581214689265537, 'F1': 0.6567267683772539, 'AUROC': 0.7645114040594267, 'AUPRC': 0.7555186404240356}\n",
      "Epoch #46: loss=7.684430413775974\n",
      "{'Accuracy': 0.7048260381593715, 'Precision': 0.7248495989304813, 'Recall': 0.65484934086629, 'F1': 0.6531200734221998, 'AUROC': 0.7639568947478552, 'AUPRC': 0.7544800454358119}\n",
      "Epoch #47: loss=7.682847208446926\n",
      "{'Accuracy': 0.6980920314253648, 'Precision': 0.7202677681241989, 'Recall': 0.6456214689265537, 'F1': 0.641502322137713, 'AUROC': 0.7630571249215317, 'AUPRC': 0.753647949447643}\n",
      "Epoch #48: loss=7.670936557981703\n",
      "{'Accuracy': 0.6980920314253648, 'Precision': 0.7214804469273743, 'Recall': 0.6451741996233522, 'F1': 0.6407392695740806, 'AUROC': 0.7628583385645533, 'AUPRC': 0.7536989782518879}\n",
      "Epoch #49: loss=7.637188116709392\n",
      "{'Accuracy': 0.6992143658810326, 'Precision': 0.721429471925871, 'Recall': 0.6470103578154426, 'F1': 0.6432123262290966, 'AUROC': 0.7649665201925089, 'AUPRC': 0.755539013691864}\n",
      "Epoch #50: loss=7.625897169113159\n",
      "{'Accuracy': 0.696969696969697, 'Precision': 0.7190996503496504, 'Recall': 0.6442325800376648, 'F1': 0.639787618887904, 'AUROC': 0.7661435446746181, 'AUPRC': 0.757106185008596}\n",
      "Epoch #51: loss=7.639203521940443\n",
      "{'Accuracy': 0.6902356902356902, 'Precision': 0.708479020979021, 'Recall': 0.637241054613936, 'F1': 0.6317828993076351, 'AUROC': 0.7656361163423311, 'AUPRC': 0.7563459480935663}\n",
      "Epoch #52: loss=7.640879366132948\n",
      "{'Accuracy': 0.6936026936026936, 'Precision': 0.7132174903859849, 'Recall': 0.6409604519774011, 'F1': 0.6361715016490543, 'AUROC': 0.7641242937853108, 'AUPRC': 0.7547115510355354}\n",
      "Epoch #53: loss=7.58457965321011\n",
      "{'Accuracy': 0.6879910213243546, 'Precision': 0.7038782167451976, 'Recall': 0.6353578154425612, 'F1': 0.6298993533271973, 'AUROC': 0.7630309688219292, 'AUPRC': 0.7537402152299264}\n",
      "Epoch #54: loss=7.563852654563056\n",
      "{'Accuracy': 0.6902356902356902, 'Precision': 0.7073884677813322, 'Recall': 0.6376883239171375, 'F1': 0.6325619479075771, 'AUROC': 0.7630518937016113, 'AUPRC': 0.7544363007564472}\n",
      "Epoch #55: loss=7.5518571800655785\n",
      "{'Accuracy': 0.6891133557800224, 'Precision': 0.7072585794094174, 'Recall': 0.6358521657250471, 'F1': 0.6300549355837186, 'AUROC': 0.7636848713119899, 'AUPRC': 0.7553962707013996}\n",
      "Epoch #56: loss=7.54677512910631\n",
      "{'Accuracy': 0.6936026936026936, 'Precision': 0.7143695131683958, 'Recall': 0.6405131826741997, 'F1': 0.6353971025788996, 'AUROC': 0.7635436283741368, 'AUPRC': 0.755318277782735}\n",
      "Epoch #57: loss=7.509626388549805\n",
      "{'Accuracy': 0.691358024691358, 'Precision': 0.7108140462889067, 'Recall': 0.6381826741996234, 'F1': 0.6327260190813091, 'AUROC': 0.7647311152960871, 'AUPRC': 0.7568417071499947}\n",
      "Epoch #58: loss=7.4889534579383\n",
      "{'Accuracy': 0.6936026936026936, 'Precision': 0.7143695131683958, 'Recall': 0.6405131826741997, 'F1': 0.6353971025788996, 'AUROC': 0.7665358861686545, 'AUPRC': 0.7587260403324535}\n",
      "Epoch #59: loss=7.477350155512492\n",
      "{'Accuracy': 0.6980920314253648, 'Precision': 0.7214804469273743, 'Recall': 0.6451741996233522, 'F1': 0.6407392695740806, 'AUROC': 0.7690782590500105, 'AUPRC': 0.7616361194168989}\n",
      "Epoch #60: loss=7.461675776375665\n",
      "{'Accuracy': 0.6958473625140292, 'Precision': 0.7191419646738693, 'Recall': 0.6423964218455743, 'F1': 0.6372918222007249, 'AUROC': 0.7709405733417032, 'AUPRC': 0.7634482593275677}\n",
      "Epoch #61: loss=7.446674823760986\n",
      "{'Accuracy': 0.7025813692480359, 'Precision': 0.7285913806863528, 'Recall': 0.6498352165725048, 'F1': 0.6460814365692615, 'AUROC': 0.7722326846620633, 'AUPRC': 0.7643941369096117}\n",
      "Epoch #62: loss=7.451692899068196\n",
      "{'Accuracy': 0.7093153759820426, 'Precision': 0.7421052631578947, 'Recall': 0.6559322033898305, 'F1': 0.6526033410559688, 'AUROC': 0.7734515589035362, 'AUPRC': 0.7660331370365966}\n",
      "Epoch #63: loss=7.446960581673516\n",
      "{'Accuracy': 0.7115600448933782, 'Precision': 0.7457236842105264, 'Recall': 0.6582627118644068, 'F1': 0.6552859407389342, 'AUROC': 0.7758369951872777, 'AUPRC': 0.768861373066918}\n",
      "Epoch #64: loss=7.421695735719469\n",
      "{'Accuracy': 0.712682379349046, 'Precision': 0.7453109219448852, 'Recall': 0.6600988700564971, 'F1': 0.6577355229040622, 'AUROC': 0.7784473739275999, 'AUPRC': 0.7720235553610485}\n",
      "Epoch #65: loss=7.400728755527073\n",
      "{'Accuracy': 0.7149270482603816, 'Precision': 0.7503840928938772, 'Recall': 0.6619821092278719, 'F1': 0.6596781954887219, 'AUROC': 0.781099602427286, 'AUPRC': 0.7748699177522409}\n",
      "Epoch #66: loss=7.387612289852566\n",
      "{'Accuracy': 0.7160493827160493, 'Precision': 0.751420934838263, 'Recall': 0.6633709981167608, 'F1': 0.6613831402833337, 'AUROC': 0.7824074074074074, 'AUPRC': 0.776412563839758}\n",
      "Epoch #67: loss=7.374883598751492\n",
      "{'Accuracy': 0.7194163860830527, 'Precision': 0.7530217312510834, 'Recall': 0.6679849340866291, 'F1': 0.6671756774525156, 'AUROC': 0.7822661644695543, 'AUPRC': 0.7769088044938964}\n",
      "Epoch #68: loss=7.378571192423503\n",
      "{'Accuracy': 0.7216610549943884, 'Precision': 0.7565319822872181, 'Recall': 0.6703154425612052, 'F1': 0.6698382720328955, 'AUROC': 0.7816122619794936, 'AUPRC': 0.7768456021523166}\n",
      "Epoch #69: loss=7.358432266447279\n",
      "{'Accuracy': 0.7205387205387206, 'Precision': 0.7540447868934781, 'Recall': 0.669373822975518, 'F1': 0.6688557965422693, 'AUROC': 0.7811728395061729, 'AUPRC': 0.776833173231253}\n",
      "Epoch #70: loss=7.348496781455146\n",
      "{'Accuracy': 0.7250280583613917, 'Precision': 0.7580925257015838, 'Recall': 0.6749293785310735, 'F1': 0.6755314167993258, 'AUROC': 0.7814710190416406, 'AUPRC': 0.7772853998410145}\n",
      "Epoch #71: loss=7.327402432759603\n",
      "{'Accuracy': 0.7283950617283951, 'Precision': 0.762518449049874, 'Recall': 0.6786487758945386, 'F1': 0.6798352418511832, 'AUROC': 0.7810002092487969, 'AUPRC': 0.7768708576327171}\n",
      "Epoch #72: loss=7.32325726085239\n",
      "{'Accuracy': 0.7272727272727273, 'Precision': 0.7600911109409694, 'Recall': 0.6777071563088513, 'F1': 0.6788427165456528, 'AUROC': 0.7798388784264492, 'AUPRC': 0.7757646842200576}\n",
      "Epoch #73: loss=7.30211000972324\n",
      "{'Accuracy': 0.7239057239057239, 'Precision': 0.7529470960322024, 'Recall': 0.6748822975517891, 'F1': 0.6758715943640645, 'AUROC': 0.7774482109227872, 'AUPRC': 0.7737072584565325}\n",
      "Epoch #74: loss=7.314162731170654\n",
      "{'Accuracy': 0.7216610549943884, 'Precision': 0.7495762840107745, 'Recall': 0.6725517890772128, 'F1': 0.6732364040743414, 'AUROC': 0.7757951454279138, 'AUPRC': 0.771621012437165}\n",
      "Epoch #75: loss=7.290243334240383\n",
      "{'Accuracy': 0.7205387205387206, 'Precision': 0.7472527472527473, 'Recall': 0.6716101694915254, 'F1': 0.6722508077061147, 'AUROC': 0.7745396526469972, 'AUPRC': 0.7701216029173694}\n",
      "Epoch #76: loss=7.286753945880466\n",
      "{'Accuracy': 0.7160493827160493, 'Precision': 0.738171236842496, 'Recall': 0.667843691148776, 'F1': 0.6683185288617306, 'AUROC': 0.7709091860221804, 'AUPRC': 0.7665621471938048}\n",
      "Epoch #77: loss=7.2563919756147595\n",
      "{'Accuracy': 0.7194163860830527, 'Precision': 0.7391642547033286, 'Recall': 0.6729048964218456, 'F1': 0.6744943885901333, 'AUROC': 0.7663946432308014, 'AUPRC': 0.7618360370031776}\n",
      "Epoch #78: loss=7.24255813492669\n",
      "{'Accuracy': 0.7182940516273849, 'Precision': 0.7339816933638443, 'Recall': 0.6733050847457627, 'F1': 0.6753674309229865, 'AUROC': 0.7633239171374764, 'AUPRC': 0.7588123465487164}\n",
      "Epoch #79: loss=7.260945823457506\n",
      "{'Accuracy': 0.7205387205387206, 'Precision': 0.7361475536348202, 'Recall': 0.6760828625235404, 'F1': 0.6785569916994714, 'AUROC': 0.7591180163214062, 'AUPRC': 0.7545713786964641}\n",
      "Epoch #80: loss=7.231167634328206\n",
      "{'Accuracy': 0.7160493827160493, 'Precision': 0.7280942290913623, 'Recall': 0.6723163841807909, 'F1': 0.6746001844802723, 'AUROC': 0.7550376647834276, 'AUPRC': 0.750688415632065}\n",
      "Epoch #81: loss=7.218842506408691\n",
      "{'Accuracy': 0.7138047138047138, 'Precision': 0.7225415851272016, 'Recall': 0.6713276836158192, 'F1': 0.6738077087075058, 'AUROC': 0.7509468508056079, 'AUPRC': 0.7460657750886458}\n",
      "Epoch #82: loss=7.223497046364678\n",
      "{'Accuracy': 0.7093153759820426, 'Precision': 0.7150251067371982, 'Recall': 0.6675612052730697, 'F1': 0.6698663980990449, 'AUROC': 0.7479807491106926, 'AUPRC': 0.7429132228005664}\n",
      "Epoch #83: loss=7.19051456451416\n",
      "{'Accuracy': 0.7048260381593715, 'Precision': 0.7071036557210517, 'Recall': 0.6642419962335216, 'F1': 0.6665139174898282, 'AUROC': 0.7441567273488179, 'AUPRC': 0.7388295054576195}\n",
      "Epoch #84: loss=7.171378056208293\n",
      "{'Accuracy': 0.7070707070707071, 'Precision': 0.7070840927176117, 'Recall': 0.6688088512241055, 'F1': 0.6718241306657898, 'AUROC': 0.7396735718769618, 'AUPRC': 0.734127392476382}\n",
      "Epoch #85: loss=7.181835174560547\n",
      "{'Accuracy': 0.7014590347923682, 'Precision': 0.6987071477436846, 'Recall': 0.6641007532956685, 'F1': 0.6668980986968597, 'AUROC': 0.7354205900816071, 'AUPRC': 0.7293155334226862}\n",
      "Epoch #86: loss=7.17037828763326\n",
      "{'Accuracy': 0.7003367003367004, 'Precision': 0.6966140267055598, 'Recall': 0.6636064030131827, 'F1': 0.6664488765817239, 'AUROC': 0.7319052102950409, 'AUPRC': 0.725393496734461}\n",
      "Epoch #87: loss=7.16991580857171\n",
      "{'Accuracy': 0.6980920314253648, 'Precision': 0.6933903839657696, 'Recall': 0.661723163841808, 'F1': 0.6644828846081161, 'AUROC': 0.7284212178279974, 'AUPRC': 0.7216044301709443}\n",
      "Epoch #88: loss=7.165936311086019\n",
      "{'Accuracy': 0.6936026936026936, 'Precision': 0.6867092119866814, 'Recall': 0.6584039548022599, 'F1': 0.661082199510941, 'AUROC': 0.7263025737602009, 'AUPRC': 0.7192154785426732}\n",
      "Epoch #89: loss=7.15826694170634\n",
      "{'Accuracy': 0.6879910213243546, 'Precision': 0.6790838717542362, 'Recall': 0.6536958568738229, 'F1': 0.6561851090999944, 'AUROC': 0.7242728604310524, 'AUPRC': 0.7168419636355938}\n",
      "Epoch #90: loss=7.160108301374647\n",
      "{'Accuracy': 0.6868686868686869, 'Precision': 0.6773146690562108, 'Recall': 0.6532015065913371, 'F1': 0.6557210857314588, 'AUROC': 0.7218978865871521, 'AUPRC': 0.7142799070241075}\n",
      "Epoch #91: loss=7.13129202524821\n",
      "{'Accuracy': 0.6835016835016835, 'Precision': 0.6726809372080209, 'Recall': 0.6508239171374764, 'F1': 0.653293998167548, 'AUROC': 0.719460138104206, 'AUPRC': 0.7120624151928675}\n",
      "Epoch #92: loss=7.13526283370124\n",
      "{'Accuracy': 0.6812570145903479, 'Precision': 0.6694241029705782, 'Recall': 0.6498352165725048, 'F1': 0.6523318568021192, 'AUROC': 0.7171322452395898, 'AUPRC': 0.709358869424449}\n",
      "Epoch #93: loss=7.122163534164429\n",
      "{'Accuracy': 0.6790123456790124, 'Precision': 0.6666224814422057, 'Recall': 0.64795197740113, 'F1': 0.6503753827916625, 'AUROC': 0.714396317221176, 'AUPRC': 0.7064039589052877}\n",
      "Epoch #94: loss=7.095754384994507\n",
      "{'Accuracy': 0.6801346801346801, 'Precision': 0.6676944971537002, 'Recall': 0.6497881355932204, 'F1': 0.6523233891538205, 'AUROC': 0.7124293785310735, 'AUPRC': 0.7043749912457045}\n",
      "Epoch #95: loss=7.094013108147515\n",
      "{'Accuracy': 0.6812570145903479, 'Precision': 0.6686312272315938, 'Recall': 0.6520715630885122, 'F1': 0.6547227892455982, 'AUROC': 0.7106612261979492, 'AUPRC': 0.7024299664586736}\n",
      "Epoch #96: loss=7.081100861231486\n",
      "{'Accuracy': 0.6778900112233446, 'Precision': 0.6643814432989691, 'Recall': 0.650141242937853, 'F1': 0.6526910242149396, 'AUROC': 0.7091232475413265, 'AUPRC': 0.7006529501002574}\n",
      "Epoch #97: loss=7.061638646655613\n",
      "{'Accuracy': 0.6745230078563412, 'Precision': 0.6604450825556354, 'Recall': 0.647316384180791, 'F1': 0.6497413624829201, 'AUROC': 0.7088355304456999, 'AUPRC': 0.7000585227569465}\n",
      "Epoch #98: loss=7.033642159567939\n",
      "{'Accuracy': 0.675645342312009, 'Precision': 0.661439042130588, 'Recall': 0.6509416195856874, 'F1': 0.6533423980721724, 'AUROC': 0.7084274952919021, 'AUPRC': 0.6996726993615816}\n",
      "Epoch #99: loss=7.001694626278347\n",
      "{'Accuracy': 0.6711560044893379, 'Precision': 0.6564555534673934, 'Recall': 0.6480696798493408, 'F1': 0.6502169873130419, 'AUROC': 0.708244402594685, 'AUPRC': 0.6990802239725569}\n",
      "Duration: 0:41:24.247957\n"
     ]
    }
   ],
   "source": [
    "start_time = datetime.now()\n",
    "# Train a COMET model\n",
    "seed_everything(RANDOM_SEED)\n",
    "model = COMET(\n",
    "    input_dims=configs.input_dims,\n",
    "    device=device,\n",
    "    lr=configs.pretrain_lr,\n",
    "    depth=configs.depth,\n",
    "    batch_size=configs.pretrain_batch_size,\n",
    "    output_dims=configs.output_dims,\n",
    "    flag_use_multi_gpu=configs.flag_use_multi_gpu,\n",
    "    after_epoch_callback=pretrain_callback,\n",
    "    top_k_list = [640, 426],\n",
    "    contrast_cycle = True,\n",
    "    contrast_trend = True,\n",
    "    sample_len = 256,\n",
    "    overlap_len = 128\n",
    ")\n",
    "\n",
    "epoch_loss_list, epoch_f1_list = model.fit(\n",
    "    X_train,\n",
    "    y_train,\n",
    "    shuffle_function = configs.shuffle_function,\n",
    "    verbose=configs.verbose,\n",
    "    n_epochs=configs.n_epochs,\n",
    "    masks = configs.masks,\n",
    "    factors = configs.factors\n",
    ")\n",
    "\n",
    "end_time = datetime.now()\n",
    "print(f'Duration: {end_time - start_time}')"
   ]
  },
  {
   "cell_type": "markdown",
   "metadata": {},
   "source": [
    "                                test"
   ]
  },
  {
   "cell_type": "code",
   "execution_count": 22,
   "metadata": {
    "ExecuteTime": {
     "end_time": "2023-11-09T02:36:10.785911900Z",
     "start_time": "2023-11-09T02:36:10.263917300Z"
    },
    "collapsed": false
   },
   "outputs": [
    {
     "data": {
      "image/png": "[encoded data removed]",
      "text/plain": [
       "<Figure size 800x800 with 2 Axes>"
      ]
     },
     "metadata": {},
     "output_type": "display_data"
    }
   ],
   "source": [
    "plt.figure(1, figsize=(8, 8))\n",
    "plt.subplot(121)\n",
    "plt.plot(epoch_loss_list)\n",
    "plt.title('Loss')\n",
    "plt.subplot(122)\n",
    "plt.plot(epoch_f1_list)\n",
    "plt.title('Accuracy')\n",
    "plt.show()"
   ]
  },
  {
   "cell_type": "markdown",
   "metadata": {
    "collapsed": false
   },
   "source": [
    "## Linear evaluation"
   ]
  },
  {
   "cell_type": "code",
   "execution_count": 23,
   "metadata": {
    "ExecuteTime": {
     "end_time": "2023-11-09T02:36:12.384162700Z",
     "start_time": "2023-11-09T02:36:10.770265300Z"
    },
    "executionInfo": {
     "elapsed": 151,
     "status": "ok",
     "timestamp": 1676328695263,
     "user": {
      "displayName": "Lucian",
      "userId": "17113640720459928730"
     },
     "user_tz": 300
    },
    "id": "1nZhs42So9i5"
   },
   "outputs": [
    {
     "name": "stdout",
     "output_type": "stream",
     "text": [
      "Linear evaluation for validation set\n",
      " {'Accuracy': 0.6711560044893379, 'Precision': 0.6564555534673934, 'Recall': 0.6480696798493408, 'F1': 0.6502169873130419, 'AUROC': 0.708244402594685, 'AUPRC': 0.6990802239725569}\n"
     ]
    }
   ],
   "source": [
    "start_time = datetime.now()\n",
    "seed_everything(RANDOM_SEED)\n",
    "pretrain_model = COMET(\n",
    "    input_dims=configs.input_dims,\n",
    "    device=device,\n",
    "    lr=configs.pretrain_lr,\n",
    "    depth=configs.depth,\n",
    "    batch_size=configs.pretrain_batch_size,\n",
    "    output_dims=configs.output_dims,\n",
    "    flag_use_multi_gpu=configs.flag_use_multi_gpu,\n",
    "    after_epoch_callback=pretrain_callback,\n",
    ")\n",
    "\n",
    "pretrain_model.load(f\"{working_directory}seed{RANDOM_SEED}_pretrain_model.pt\")\n",
    "\n",
    "start_logging(RANDOM_SEED, logging_directory)\n",
    "val_metrics_dict = eval_classification(pretrain_model, X_train, y_train[:, 0], X_val, y_val[:, 0])\n",
    "print(\"Linear evaluation for validation set\\n\",val_metrics_dict)\n",
    "test_metrics_dict = eval_classification(pretrain_model, X_train, y_train[:, 0], X_test, y_test[:, 0])\n",
    "print(\"Linear evaluation for test set\\n\",test_metrics_dict)\n",
    "print()\n",
    "stop_logging()"
   ]
  },
  {
   "cell_type": "markdown",
   "metadata": {
    "collapsed": false
   },
   "source": [
    "## Full fine-tuning"
   ]
  },
  {
   "cell_type": "code",
   "execution_count": 24,
   "metadata": {
    "ExecuteTime": {
     "end_time": "2023-11-09T02:36:12.619992800Z",
     "start_time": "2023-11-09T02:36:12.368890200Z"
    },
    "collapsed": false
   },
   "outputs": [
    {
     "data": {
      "text/plain": [
       "<All keys matched successfully>"
      ]
     },
     "execution_count": 24,
     "metadata": {},
     "output_type": "execute_result"
    }
   ],
   "source": [
    "seed_everything(RANDOM_SEED)\n",
    "finetune_model = FTClassifier(input_dims=configs.input_dims, output_dims=configs.output_dims, depth=configs.depth, p_output_dims=configs.num_classes, device=device, flag_use_multi_gpu=configs.flag_use_multi_gpu)\n",
    "finetune_model.net.load_state_dict(torch.load(f\"{working_directory}seed{RANDOM_SEED}_pretrain_model.pt\"))"
   ]
  },
  {
   "cell_type": "code",
   "execution_count": 25,
   "metadata": {
    "ExecuteTime": {
     "end_time": "2023-11-09T02:38:31.621606700Z",
     "start_time": "2023-11-09T02:36:12.629009600Z"
    },
    "collapsed": false
   },
   "outputs": [
    {
     "name": "stdout",
     "output_type": "stream",
     "text": [
      "Linear evaluation for test set\n",
      " {'Accuracy': 0.7576974564926372, 'Precision': 0.8478991596638655, 'Recall': 0.7282282282282282, 'F1': 0.7237092967416958, 'AUROC': 0.9605402503953229, 'AUPRC': 0.9598648938632691}\n",
      "\n",
      "Epoch number: 0\n",
      "Loss: 0.6606098220628851\n",
      "{'Accuracy': 0.7441077441077442, 'Precision': 0.7843442350748268, 'Recall': 0.7777071563088511, 'F1': 0.7439371174459759, 'AUROC': 0.9007035990793053, 'AUPRC': 0.9145220451484825}\n",
      "Epoch number: 1\n",
      "Loss: 0.649150039343273\n",
      "{'Accuracy': 0.5488215488215489, 'Precision': 0.7052748518762344, 'Recall': 0.6174435028248587, 'F1': 0.5214746056175452, 'AUROC': 0.9075617283950619, 'AUPRC': 0.9069484722291218}\n",
      "Epoch number: 2\n",
      "Loss: 0.6428809686034334\n",
      "{'Accuracy': 0.5028058361391695, 'Precision': 0.6811140487922125, 'Recall': 0.5788370998116761, 'F1': 0.45882651347404935, 'AUROC': 0.880032433563507, 'AUPRC': 0.8757193834177035}\n",
      "Epoch number: 3\n",
      "Loss: 0.6380937826984069\n",
      "{'Accuracy': 0.4612794612794613, 'Precision': 0.6661490683229814, 'Recall': 0.5453389830508474, 'F1': 0.3939393939393939, 'AUROC': 0.8512201820464531, 'AUPRC': 0.8517010911870236}\n",
      "Epoch number: 4\n",
      "Loss: 0.6343674799975227\n",
      "{'Accuracy': 0.5129068462401796, 'Precision': 0.6947505197505197, 'Recall': 0.5882062146892655, 'F1': 0.4716428922774225, 'AUROC': 0.8715774743670224, 'AUPRC': 0.8745790494677386}\n",
      "Epoch number: 5\n",
      "Loss: 0.6312757590237785\n",
      "{'Accuracy': 0.7070707070707071, 'Precision': 0.7554578682208831, 'Recall': 0.7435028248587571, 'F1': 0.7064183700135207, 'AUROC': 0.9121521238752877, 'AUPRC': 0.9080954853348442}\n",
      "Epoch number: 6\n",
      "Loss: 0.6286813476506401\n",
      "{'Accuracy': 0.6576879910213244, 'Precision': 0.7407142069877659, 'Recall': 0.7056497175141243, 'F1': 0.6531423385753508, 'AUROC': 0.9112065808746599, 'AUPRC': 0.9009598663468105}\n",
      "Epoch number: 7\n",
      "Loss: 0.6266154684126377\n",
      "{'Accuracy': 0.6161616161616161, 'Precision': 0.7224498532289627, 'Recall': 0.6712570621468927, 'F1': 0.6063023255813953, 'AUROC': 0.9137986503452604, 'AUPRC': 0.9012533163512536}\n",
      "Epoch number: 8\n",
      "Loss: 0.6247643953055338\n",
      "{'Accuracy': 0.696969696969697, 'Precision': 0.7498248423581223, 'Recall': 0.7350282485875707, 'F1': 0.6959736123748863, 'AUROC': 0.9043667608286252, 'AUPRC': 0.8936876652391653}\n",
      "Epoch number: 9\n",
      "Loss: 0.6231027632951737\n",
      "{'Accuracy': 0.8271604938271605, 'Precision': 0.8286305360130626, 'Recall': 0.8411252354048964, 'F1': 0.8257909704941344, 'AUROC': 0.9277934714375393, 'AUPRC': 0.9249076638326854}\n",
      "Epoch number: 10\n",
      "Loss: 0.6215877850106694\n",
      "{'Accuracy': 0.8597081930415263, 'Precision': 0.854801559177888, 'Recall': 0.8666431261770244, 'F1': 0.8572892974981581, 'AUROC': 0.9342409499895376, 'AUPRC': 0.930065295291485}\n",
      "Epoch number: 11\n",
      "Loss: 0.6203019757773361\n",
      "{'Accuracy': 0.8305274971941639, 'Precision': 0.8304202146420114, 'Recall': 0.8430555555555556, 'F1': 0.8289338003903444, 'AUROC': 0.9287115505335846, 'AUPRC': 0.9254565886572006}\n",
      "Epoch number: 12\n",
      "Loss: 0.6191097069110266\n",
      "{'Accuracy': 0.7991021324354658, 'Precision': 0.8114412599578793, 'Recall': 0.8202683615819208, 'F1': 0.7986547441855181, 'AUROC': 0.9323890981376858, 'AUPRC': 0.9247566367286715}\n",
      "Epoch number: 13\n",
      "Loss: 0.6180745703833443\n",
      "{'Accuracy': 0.8754208754208754, 'Precision': 0.8717948717948718, 'Recall': 0.8686440677966102, 'F1': 0.8701201999787256, 'AUROC': 0.9231219920485457, 'AUPRC': 0.9221946730176603}\n",
      "Epoch number: 14\n",
      "Loss: 0.617208760509304\n",
      "{'Accuracy': 0.8619528619528619, 'Precision': 0.8566605839416059, 'Recall': 0.8680790960451977, 'F1': 0.8594026025008947, 'AUROC': 0.940335321196903, 'AUPRC': 0.9362191482145255}\n",
      "Epoch number: 15\n",
      "Loss: 0.6164032146334648\n",
      "{'Accuracy': 0.8799102132435466, 'Precision': 0.8744743481917578, 'Recall': 0.8773305084745763, 'F1': 0.8758045795082832, 'AUROC': 0.9363622096672944, 'AUPRC': 0.9350549123983862}\n",
      "Epoch number: 16\n",
      "Loss: 0.6156699034581959\n",
      "{'Accuracy': 0.8686868686868687, 'Precision': 0.8624386749670185, 'Recall': 0.8679143126177025, 'F1': 0.8647507644883021, 'AUROC': 0.9318005858966312, 'AUPRC': 0.9295307933150279}\n",
      "Epoch number: 17\n",
      "Loss: 0.6149364542337804\n",
      "{'Accuracy': 0.8260381593714927, 'Precision': 0.8188513805226043, 'Recall': 0.8245291902071563, 'F1': 0.8211021830961285, 'AUROC': 0.9053279974890145, 'AUPRC': 0.9017112956394997}\n",
      "Epoch number: 18\n",
      "Loss: 0.6142625513460614\n",
      "{'Accuracy': 0.8484848484848485, 'Precision': 0.8463382737576286, 'Recall': 0.8366525423728814, 'F1': 0.8406139315230224, 'AUROC': 0.9238151286880101, 'AUPRC': 0.9213673172212353}\n",
      "Epoch number: 19\n",
      "Loss: 0.6136598031310474\n",
      "{'Accuracy': 0.7946127946127947, 'Precision': 0.8048502009499452, 'Recall': 0.8142655367231638, 'F1': 0.794014985276227, 'AUROC': 0.9089924670433145, 'AUPRC': 0.9048767573259512}\n",
      "Epoch number: 20\n",
      "Loss: 0.6130928414709428\n",
      "{'Accuracy': 0.8473625140291807, 'Precision': 0.8406065088757396, 'Recall': 0.8468926553672316, 'F1': 0.8430915532351295, 'AUROC': 0.9170563925507429, 'AUPRC': 0.9150408634500669}\n",
      "Epoch number: 21\n",
      "Loss: 0.6125791676063589\n",
      "{'Accuracy': 0.8843995510662177, 'Precision': 0.8783145054742469, 'Recall': 0.8864642184557439, 'F1': 0.8813868636723763, 'AUROC': 0.9459824231010672, 'AUPRC': 0.9436255912100372}\n",
      "Epoch number: 22\n",
      "Loss: 0.6120840730264668\n",
      "{'Accuracy': 0.877665544332211, 'Precision': 0.8751075011944577, 'Recall': 0.8696327683615819, 'F1': 0.8720915071415871, 'AUROC': 0.9382140615191463, 'AUPRC': 0.9370468670652063}\n",
      "Epoch number: 23\n",
      "Loss: 0.6116131449885228\n",
      "{'Accuracy': 0.8451178451178452, 'Precision': 0.8401795616583048, 'Recall': 0.8369585687382297, 'F1': 0.8384512297666596, 'AUROC': 0.9154909499895377, 'AUPRC': 0.9127662438179711}\n",
      "Epoch number: 24\n",
      "Loss: 0.6111550826886121\n",
      "{'Accuracy': 0.8148148148148148, 'Precision': 0.8099444495036882, 'Recall': 0.8204802259887005, 'F1': 0.8117328415835878, 'AUROC': 0.899590657041222, 'AUPRC': 0.8951734758875876}\n",
      "Epoch number: 25\n",
      "Loss: 0.6107509205648802\n",
      "{'Accuracy': 0.7890011223344556, 'Precision': 0.8008939104259041, 'Recall': 0.8095574387947269, 'F1': 0.7885085451092885, 'AUROC': 0.9102388051893702, 'AUPRC': 0.9079393622920455}\n",
      "Epoch number: 26\n",
      "Loss: 0.6103443808545215\n",
      "{'Accuracy': 0.8406285072951739, 'Precision': 0.8357068012954849, 'Recall': 0.8318502824858758, 'F1': 0.8336095066755043, 'AUROC': 0.9039979598242309, 'AUPRC': 0.9035480847285382}\n",
      "Epoch number: 27\n",
      "Loss: 0.6099791270093757\n",
      "{'Accuracy': 0.8653198653198653, 'Precision': 0.8834456089288438, 'Recall': 0.8418314500941619, 'F1': 0.8535085604051121, 'AUROC': 0.9192535049173467, 'AUPRC': 0.9182790558236178}\n",
      "Epoch number: 28\n",
      "Loss: 0.609634337995889\n",
      "{'Accuracy': 0.8664421997755332, 'Precision': 0.8931001913249861, 'Recall': 0.8396421845574388, 'F1': 0.853157022229547, 'AUROC': 0.931023749738439, 'AUPRC': 0.9304268051267535}\n",
      "Epoch number: 29\n",
      "Loss: 0.6093016295456419\n",
      "{'Accuracy': 0.8552188552188552, 'Precision': 0.8651591767781113, 'Recall': 0.83469868173258, 'F1': 0.8440949111344113, 'AUROC': 0.9172917974471646, 'AUPRC': 0.9157647884568321}\n",
      "Epoch number: 30\n",
      "Loss: 0.6090017263645013\n",
      "{'Accuracy': 0.8383838383838383, 'Precision': 0.8319379861125591, 'Recall': 0.8330979284369116, 'F1': 0.8324995561311345, 'AUROC': 0.9022075748064449, 'AUPRC': 0.8981683850606407}\n",
      "Epoch number: 31\n",
      "Loss: 0.608690614483374\n",
      "{'Accuracy': 0.8585858585858586, 'Precision': 0.8629781800011105, 'Recall': 0.8419962335216573, 'F1': 0.8493154729947385, 'AUROC': 0.9203180581711655, 'AUPRC': 0.9168437421446392}\n",
      "Epoch number: 32\n",
      "Loss: 0.6084180369096643\n",
      "{'Accuracy': 0.8496071829405163, 'Precision': 0.8428959359795924, 'Recall': 0.8487758945386064, 'F1': 0.8452804271200497, 'AUROC': 0.9148775894538606, 'AUPRC': 0.9112261473606538}\n",
      "Epoch number: 33\n",
      "Loss: 0.6081335364122292\n",
      "{'Accuracy': 0.8327721661054994, 'Precision': 0.8318740777176586, 'Recall': 0.8176553672316385, 'F1': 0.8229362973988406, 'AUROC': 0.8965970914417243, 'AUPRC': 0.8908620414841226}\n",
      "Epoch number: 34\n",
      "Loss: 0.6078729997162058\n",
      "{'Accuracy': 0.7676767676767676, 'Precision': 0.7723989095865516, 'Recall': 0.7822740112994351, 'F1': 0.7663949843260187, 'AUROC': 0.8700551893701611, 'AUPRC': 0.8607265555024501}\n",
      "Epoch number: 35\n",
      "Loss: 0.6075950756766437\n",
      "{'Accuracy': 0.8103254769921436, 'Precision': 0.8061688065852524, 'Recall': 0.7961393596986817, 'F1': 0.8000483350308135, 'AUROC': 0.8798127223268466, 'AUPRC': 0.8719032875093149}\n",
      "Epoch number: 36\n",
      "Loss: 0.6073430753853438\n",
      "{'Accuracy': 0.7710437710437711, 'Precision': 0.7760439283009342, 'Recall': 0.7859934086629001, 'F1': 0.7698187565218273, 'AUROC': 0.8725256329776103, 'AUPRC': 0.8638160238247796}\n",
      "Epoch number: 37\n",
      "Loss: 0.6071098087003726\n",
      "{'Accuracy': 0.8709315375982043, 'Precision': 0.8960674157303371, 'Recall': 0.8451977401129944, 'F1': 0.8585099111414901, 'AUROC': 0.9470116656204227, 'AUPRC': 0.946106423326839}\n",
      "Epoch number: 38\n",
      "Loss: 0.6068954026806948\n",
      "{'Accuracy': 0.8496071829405163, 'Precision': 0.8849576861681911, 'Recall': 0.8179143126177024, 'F1': 0.832196786561576, 'AUROC': 0.9364132140615191, 'AUPRC': 0.9337440523918243}\n",
      "Epoch number: 39\n",
      "Loss: 0.6066914358121507\n",
      "{'Accuracy': 0.8787878787878788, 'Precision': 0.8970495755161932, 'Recall': 0.8567090395480226, 'F1': 0.8685194294146581, 'AUROC': 0.9416496652019251, 'AUPRC': 0.9417332615098454}\n",
      "Epoch number: 40\n",
      "Loss: 0.6064710221126398\n",
      "{'Accuracy': 0.8496071829405163, 'Precision': 0.8477299178826218, 'Recall': 0.8375941619585687, 'F1': 0.8417113008431882, 'AUROC': 0.9082561728395062, 'AUPRC': 0.9065789157611156}\n",
      "Epoch number: 41\n",
      "Loss: 0.6062922018165348\n",
      "{'Accuracy': 0.8484848484848485, 'Precision': 0.8431521967626656, 'Recall': 0.841572504708098, 'F1': 0.8423329248071516, 'AUROC': 0.9130518937016113, 'AUPRC': 0.9121013349167988}\n",
      "Epoch number: 42\n",
      "Loss: 0.6060863546160764\n",
      "{'Accuracy': 0.8249158249158249, 'Precision': 0.8666411604231818, 'Recall': 0.78825329566855, 'F1': 0.8016768066478706, 'AUROC': 0.9102361895794099, 'AUPRC': 0.9120140003358781}\n",
      "Epoch number: 43\n",
      "Loss: 0.6059019782326438\n",
      "{'Accuracy': 0.8608305274971941, 'Precision': 0.8711157829966157, 'Recall': 0.8407485875706215, 'F1': 0.8502342377513177, 'AUROC': 0.9213525319104414, 'AUPRC': 0.9215968551641028}\n",
      "Epoch number: 44\n",
      "Loss: 0.6057183632274079\n",
      "{'Accuracy': 0.8462401795735129, 'Precision': 0.8858436883056555, 'Recall': 0.8128531073446328, 'F1': 0.8274537243177915, 'AUROC': 0.9279687173048755, 'AUPRC': 0.929334584003118}\n",
      "Epoch number: 45\n",
      "Loss: 0.6055566769121857\n",
      "{'Accuracy': 0.8103254769921436, 'Precision': 0.8037936539823851, 'Recall': 0.8006120527306968, 'F1': 0.8020668886385535, 'AUROC': 0.870052573760201, 'AUPRC': 0.8654425729939157}\n",
      "Epoch number: 46\n",
      "Loss: 0.6053891129726462\n",
      "{'Accuracy': 0.8271604938271605, 'Precision': 0.8200120192307692, 'Recall': 0.8259180790960452, 'F1': 0.8223242588103672, 'AUROC': 0.9027333124084537, 'AUPRC': 0.8978116439280615}\n",
      "Epoch number: 47\n",
      "Loss: 0.605235319986355\n",
      "{'Accuracy': 0.8372615039281706, 'Precision': 0.8539846446851564, 'Recall': 0.8111346516007534, 'F1': 0.8221143056200011, 'AUROC': 0.9110025632977611, 'AUPRC': 0.9098379989285525}\n",
      "Epoch number: 48\n",
      "Loss: 0.6050875864538396\n",
      "{'Accuracy': 0.7721661054994389, 'Precision': 0.7999898696562436, 'Recall': 0.7323681732580039, 'F1': 0.740788298907537, 'AUROC': 0.868770924879682, 'AUPRC': 0.8644687472573789}\n",
      "Epoch number: 49\n",
      "Loss: 0.6049462753183702\n",
      "{'Accuracy': 0.8473625140291807, 'Precision': 0.8582089552238805, 'Recall': 0.8254237288135593, 'F1': 0.8350970017636683, 'AUROC': 0.9184073550952082, 'AUPRC': 0.9185205824201027}\n",
      "Finetune for 1.0 fraction of validation set\n",
      "{'Accuracy': 0.8843995510662177, 'Precision': 0.8783145054742469, 'Recall': 0.8864642184557439, 'F1': 0.8813868636723763, 'AUROC': 0.9459824231010672, 'AUPRC': 0.9436255912100372}\n",
      "Finetune for 1.0 fraction of test set\n",
      "{'Accuracy': 0.8527443105756358, 'Precision': 0.8886288130474177, 'Recall': 0.8360099229664446, 'F1': 0.8433424845573094, 'AUROC': 0.9810571441006224, 'AUPRC': 0.981037672141739}\n",
      "\n",
      "Epoch number: 0\n",
      "Loss: 0.6848790943622589\n",
      "{'Accuracy': 0.9034792368125701, 'Precision': 0.9148519456648436, 'Recall': 0.8872645951035782, 'F1': 0.8967794253938832, 'AUROC': 0.6458751830926972, 'AUPRC': 0.7316399918555583}\n",
      "Epoch number: 1\n",
      "Loss: 0.6783540472388268\n",
      "{'Accuracy': 0.8372615039281706, 'Precision': 0.8392088923383967, 'Recall': 0.8200800376647834, 'F1': 0.8266957843325315, 'AUROC': 0.7453350596359071, 'AUPRC': 0.8063946056887108}\n",
      "Epoch number: 2\n",
      "Loss: 0.6735375722249349\n",
      "{'Accuracy': 0.8002244668911336, 'Precision': 0.7932701466946085, 'Recall': 0.7899011299435028, 'F1': 0.791426001325632, 'AUROC': 0.7682595731324545, 'AUPRC': 0.8387341771825421}\n",
      "Epoch number: 3\n",
      "Loss: 0.6698003858327866\n",
      "{'Accuracy': 0.7530864197530864, 'Precision': 0.7580484726079273, 'Recall': 0.76734934086629, 'F1': 0.751765325660794, 'AUROC': 0.7466101694915255, 'AUPRC': 0.8311629028909351}\n",
      "Epoch number: 4\n",
      "Loss: 0.6662892431020737\n",
      "{'Accuracy': 0.7205387205387206, 'Precision': 0.7536911792722423, 'Recall': 0.7507768361581921, 'F1': 0.7204880205912033, 'AUROC': 0.7352048022598869, 'AUPRC': 0.8182703092747048}\n",
      "Epoch number: 5\n",
      "Loss: 0.6638032967845598\n",
      "{'Accuracy': 0.7182940516273849, 'Precision': 0.7533055567365332, 'Recall': 0.7493408662900188, 'F1': 0.718203181603402, 'AUROC': 0.7440494873404477, 'AUPRC': 0.8113534669413346}\n",
      "Epoch number: 6\n",
      "Loss: 0.6615073425429208\n",
      "{'Accuracy': 0.7441077441077442, 'Precision': 0.7651307165932149, 'Recall': 0.7687617702448211, 'F1': 0.7440145565983529, 'AUROC': 0.7730382925298179, 'AUPRC': 0.8175233349025102}\n",
      "Epoch number: 7\n",
      "Loss: 0.659209132194519\n",
      "{'Accuracy': 0.7485970819304153, 'Precision': 0.7714011407040897, 'Recall': 0.7743173258003766, 'F1': 0.7485435523212449, 'AUROC': 0.8031413475622515, 'AUPRC': 0.8291417914250514}\n",
      "Epoch number: 8\n",
      "Loss: 0.6571533216370476\n",
      "{'Accuracy': 0.6902356902356902, 'Precision': 0.7473872402725379, 'Recall': 0.7298258003766478, 'F1': 0.6888714574898785, 'AUROC': 0.8067561205273069, 'AUPRC': 0.8156821813762956}\n",
      "Epoch number: 9\n",
      "Loss: 0.6554919958114624\n",
      "{'Accuracy': 0.6801346801346801, 'Precision': 0.7432669688450284, 'Recall': 0.721798493408663, 'F1': 0.6781481429844318, 'AUROC': 0.8110653379368068, 'AUPRC': 0.8067556855265566}\n",
      "Epoch number: 10\n",
      "Loss: 0.6538204781033776\n",
      "{'Accuracy': 0.6588103254769921, 'Precision': 0.7305291795583058, 'Recall': 0.7034604519774011, 'F1': 0.6555260507279553, 'AUROC': 0.8063951663527935, 'AUPRC': 0.7925201307812979}\n",
      "Epoch number: 11\n",
      "Loss: 0.6524815199275812\n",
      "{'Accuracy': 0.6172839506172839, 'Precision': 0.7102212855637513, 'Recall': 0.6690677966101695, 'F1': 0.6094742321707445, 'AUROC': 0.8085752772546557, 'AUPRC': 0.7886122986262227}\n",
      "Epoch number: 12\n",
      "Loss: 0.6512237787246704\n",
      "{'Accuracy': 0.5566778900112234, 'Precision': 0.6978737997256516, 'Recall': 0.6222457627118644, 'F1': 0.5336481700118063, 'AUROC': 0.8119297970286672, 'AUPRC': 0.7867002459642045}\n",
      "Epoch number: 13\n",
      "Loss: 0.649971027459417\n",
      "{'Accuracy': 0.5364758698092031, 'Precision': 0.6993620958317102, 'Recall': 0.6070856873822975, 'F1': 0.5052030038792263, 'AUROC': 0.8132663737183511, 'AUPRC': 0.7888375800512266}\n",
      "Epoch number: 14\n",
      "Loss: 0.6488477011521657\n",
      "{'Accuracy': 0.5409652076318743, 'Precision': 0.6984335922074503, 'Recall': 0.6104048964218456, 'F1': 0.5117363406519937, 'AUROC': 0.8226982632349864, 'AUPRC': 0.8041474437752854}\n",
      "Epoch number: 15\n",
      "Loss: 0.6476465333253145\n",
      "{'Accuracy': 0.5454545454545454, 'Precision': 0.6948178137651821, 'Recall': 0.6132768361581921, 'F1': 0.5187194660840965, 'AUROC': 0.8258029922577945, 'AUPRC': 0.8087120812569639}\n",
      "Epoch number: 16\n",
      "Loss: 0.6466536346603843\n",
      "{'Accuracy': 0.5802469135802469, 'Precision': 0.6983535490001039, 'Recall': 0.6397834274952918, 'F1': 0.5649641249516966, 'AUROC': 0.831282695124503, 'AUPRC': 0.81163404493138}\n",
      "Epoch number: 17\n",
      "Loss: 0.6456706606679492\n",
      "{'Accuracy': 0.5656565656565656, 'Precision': 0.6927801503380242, 'Recall': 0.6279896421845574, 'F1': 0.5467448870007111, 'AUROC': 0.8294975413266372, 'AUPRC': 0.8078015940785687}\n",
      "Epoch number: 18\n",
      "Loss: 0.6448623679186168\n",
      "{'Accuracy': 0.5140291806958474, 'Precision': 0.6705882352941176, 'Recall': 0.5860169491525424, 'F1': 0.478027397260274, 'AUROC': 0.8207574806444863, 'AUPRC': 0.7976024271566591}\n",
      "Epoch number: 19\n",
      "Loss: 0.6440723992884159\n",
      "{'Accuracy': 0.49158249158249157, 'Precision': 0.6617087899798703, 'Recall': 0.5680790960451978, 'F1': 0.4450521574499152, 'AUROC': 0.8158322870893492, 'AUPRC': 0.7891913700409259}\n",
      "Epoch number: 20\n",
      "Loss: 0.6433100515887851\n",
      "{'Accuracy': 0.4837261503928171, 'Precision': 0.6554350700872785, 'Recall': 0.561487758945386, 'F1': 0.4336259217086571, 'AUROC': 0.8169700774220547, 'AUPRC': 0.7915240635980607}\n",
      "Epoch number: 21\n",
      "Loss: 0.6425642418590459\n",
      "{'Accuracy': 0.48597081930415265, 'Precision': 0.6699244505494506, 'Recall': 0.5647128060263653, 'F1': 0.4344190043242045, 'AUROC': 0.8238334379577317, 'AUPRC': 0.8009431670851448}\n",
      "Epoch number: 22\n",
      "Loss: 0.6418358877949093\n",
      "{'Accuracy': 0.4904601571268238, 'Precision': 0.6731089658820418, 'Recall': 0.5684792843691149, 'F1': 0.44101340968637026, 'AUROC': 0.8224327788240218, 'AUPRC': 0.8006683919062687}\n",
      "Epoch number: 23\n",
      "Loss: 0.6412201145042976\n",
      "{'Accuracy': 0.4601571268237935, 'Precision': 0.6527272727272727, 'Recall': 0.543502824858757, 'F1': 0.39419884231283003, 'AUROC': 0.8093194182883447, 'AUPRC': 0.7901697234882187}\n",
      "Epoch number: 24\n",
      "Loss: 0.6405286264419555\n",
      "{'Accuracy': 0.49719416386083054, 'Precision': 0.6775974432886327, 'Recall': 0.5741290018832391, 'F1': 0.45078701155751233, 'AUROC': 0.817618748692195, 'AUPRC': 0.7983847497922667}\n",
      "Epoch number: 25\n",
      "Loss: 0.6398748262570455\n",
      "{'Accuracy': 0.5342312008978676, 'Precision': 0.6888339357047746, 'Recall': 0.6038606403013183, 'F1': 0.5039913827448319, 'AUROC': 0.8267524586733626, 'AUPRC': 0.8059297288857782}\n",
      "Epoch number: 26\n",
      "Loss: 0.6392732991112603\n",
      "{'Accuracy': 0.5723905723905723, 'Precision': 0.6963786052518295, 'Recall': 0.6336393596986817, 'F1': 0.5550284766779612, 'AUROC': 0.8284264490479178, 'AUPRC': 0.8042927677038475}\n",
      "Epoch number: 27\n",
      "Loss: 0.6387112800564084\n",
      "{'Accuracy': 0.5342312008978676, 'Precision': 0.6858675416987909, 'Recall': 0.6034133709981168, 'F1': 0.5045735485833187, 'AUROC': 0.8164770349445492, 'AUPRC': 0.7925009646482858}\n",
      "Epoch number: 28\n",
      "Loss: 0.6381126364757275\n",
      "{'Accuracy': 0.5353535353535354, 'Precision': 0.6836276231857261, 'Recall': 0.6039077212806027, 'F1': 0.5066260419230234, 'AUROC': 0.807232161540071, 'AUPRC': 0.7820600412817376}\n",
      "Epoch number: 29\n",
      "Loss: 0.6376713717977206\n",
      "{'Accuracy': 0.590347923681257, 'Precision': 0.7077922077922079, 'Recall': 0.6491525423728814, 'F1': 0.5763427244908728, 'AUROC': 0.8306601799539652, 'AUPRC': 0.8089955386290903}\n",
      "Epoch number: 30\n",
      "Loss: 0.6371145887720969\n",
      "{'Accuracy': 0.590347923681257, 'Precision': 0.7099361327264719, 'Recall': 0.6495998116760828, 'F1': 0.5759825811456547, 'AUROC': 0.8553593848085373, 'AUPRC': 0.836709530008589}\n",
      "Epoch number: 31\n",
      "Loss: 0.6364930844865739\n",
      "{'Accuracy': 0.5084175084175084, 'Precision': 0.6966194111232279, 'Recall': 0.5848870056497175, 'F1': 0.46456090091869995, 'AUROC': 0.8488020506382088, 'AUPRC': 0.8362285616363782}\n",
      "Epoch number: 32\n",
      "Loss: 0.6359823729955789\n",
      "{'Accuracy': 0.5768799102132436, 'Precision': 0.7103314055186977, 'Recall': 0.6396421845574388, 'F1': 0.5584569054244654, 'AUROC': 0.8790908139778195, 'AUPRC': 0.8658301708170222}\n",
      "Epoch number: 33\n",
      "Loss: 0.6354697127552593\n",
      "{'Accuracy': 0.622895622895623, 'Precision': 0.7295434591747146, 'Recall': 0.67780131826742, 'F1': 0.6134889485643462, 'AUROC': 0.901035781544256, 'AUPRC': 0.8880182051281091}\n",
      "Epoch number: 34\n",
      "Loss: 0.6349977816854204\n",
      "{'Accuracy': 0.611672278338945, 'Precision': 0.7264238308380924, 'Recall': 0.6688323917137476, 'F1': 0.6001893448150646, 'AUROC': 0.9051239799121155, 'AUPRC': 0.8917715507227677}\n",
      "Epoch number: 35\n",
      "Loss: 0.634501234938701\n",
      "{'Accuracy': 0.49607182940516276, 'Precision': 0.6949787778201012, 'Recall': 0.5749764595103578, 'F1': 0.4459454032022403, 'AUROC': 0.8515785206110066, 'AUPRC': 0.8433241001281734}\n",
      "Epoch number: 36\n",
      "Loss: 0.6340414265523086\n",
      "{'Accuracy': 0.6408529741863075, 'Precision': 0.734264283434408, 'Recall': 0.6919726930320151, 'F1': 0.6343302724054789, 'AUROC': 0.895053881565181, 'AUPRC': 0.8798882477518521}\n",
      "Epoch number: 37\n",
      "Loss: 0.6335878129068174\n",
      "{'Accuracy': 0.6127946127946128, 'Precision': 0.7208333333333333, 'Recall': 0.6684322033898306, 'F1': 0.6024096385542168, 'AUROC': 0.8871521238752877, 'AUPRC': 0.871782395664146}\n",
      "Epoch number: 38\n",
      "Loss: 0.6332036818449314\n",
      "{'Accuracy': 0.5252525252525253, 'Precision': 0.7045719844357976, 'Recall': 0.5990112994350282, 'F1': 0.4881125548533779, 'AUROC': 0.846725256329776, 'AUPRC': 0.8396793113231822}\n",
      "Epoch number: 39\n",
      "Loss: 0.6327945820987224\n",
      "{'Accuracy': 0.6318742985409652, 'Precision': 0.7318181818181819, 'Recall': 0.6848870056497175, 'F1': 0.6239925891616489, 'AUROC': 0.8860914940364093, 'AUPRC': 0.8718961263372975}\n",
      "Epoch number: 40\n",
      "Loss: 0.6323666965089193\n",
      "{'Accuracy': 0.5656565656565656, 'Precision': 0.7049496147006521, 'Recall': 0.630225988700565, 'F1': 0.5445056055544328, 'AUROC': 0.8582888679640092, 'AUPRC': 0.8449058462236715}\n",
      "Epoch number: 41\n",
      "Loss: 0.632100390181655\n",
      "{'Accuracy': 0.5241301907968574, 'Precision': 0.6896875128828792, 'Recall': 0.5962806026365348, 'F1': 0.4891994505078476, 'AUROC': 0.8236241891609124, 'AUPRC': 0.806428362714721}\n",
      "Epoch number: 42\n",
      "Loss: 0.6316673755645752\n",
      "{'Accuracy': 0.6285072951739619, 'Precision': 0.7283595343024403, 'Recall': 0.6816148775894539, 'F1': 0.6204270117287296, 'AUROC': 0.86131382088303, 'AUPRC': 0.8421049977664514}\n",
      "Epoch number: 43\n",
      "Loss: 0.6312490271573717\n",
      "{'Accuracy': 0.4702581369248036, 'Precision': 0.6930247718383312, 'Recall': 0.554213747645951, 'F1': 0.40503865002206957, 'AUROC': 0.766109541745135, 'AUPRC': 0.7574172669249983}\n",
      "Epoch number: 44\n",
      "Loss: 0.6309236738416883\n",
      "{'Accuracy': 0.5892255892255892, 'Precision': 0.711581572813516, 'Recall': 0.649105461393597, 'F1': 0.5742697051666337, 'AUROC': 0.8511901025319104, 'AUPRC': 0.8284149598524005}\n",
      "Epoch number: 45\n",
      "Loss: 0.6305537972113361\n",
      "{'Accuracy': 0.6835016835016835, 'Precision': 0.7464175257731959, 'Recall': 0.7250706214689265, 'F1': 0.6815921532846716, 'AUROC': 0.882046453232894, 'AUPRC': 0.8590654753947763}\n",
      "Epoch number: 46\n",
      "Loss: 0.6301360983163753\n",
      "{'Accuracy': 0.5712682379349046, 'Precision': 0.7076577519442253, 'Recall': 0.6349340866290019, 'F1': 0.5515132189239332, 'AUROC': 0.8504786566227245, 'AUPRC': 0.8247873429747148}\n",
      "Epoch number: 47\n",
      "Loss: 0.6297647763664523\n",
      "{'Accuracy': 0.611672278338945, 'Precision': 0.7222983921226473, 'Recall': 0.6679378531073447, 'F1': 0.6008064516129032, 'AUROC': 0.8650489119062565, 'AUPRC': 0.839401181580446}\n",
      "Epoch number: 48\n",
      "Loss: 0.629440755260234\n",
      "{'Accuracy': 0.590347923681257, 'Precision': 0.7143575643776824, 'Recall': 0.6504943502824859, 'F1': 0.5752471406909361, 'AUROC': 0.8578965264699728, 'AUPRC': 0.8319999431519762}\n",
      "Epoch number: 49\n",
      "Loss: 0.6290946182608604\n",
      "{'Accuracy': 0.6341189674523008, 'Precision': 0.7310424234561494, 'Recall': 0.6863229755178908, 'F1': 0.6267731954523962, 'AUROC': 0.8761037874032223, 'AUPRC': 0.8548776948526748}\n",
      "Epoch number: 50\n",
      "Loss: 0.6287058740854263\n",
      "{'Accuracy': 0.5679012345679012, 'Precision': 0.7139640017445567, 'Recall': 0.6334510357815443, 'F1': 0.5459286664504643, 'AUROC': 0.8601119481062984, 'AUPRC': 0.8398033027791574}\n",
      "Epoch number: 51\n",
      "Loss: 0.6284011384615531\n",
      "{'Accuracy': 0.5286195286195287, 'Precision': 0.7024177545691905, 'Recall': 0.6013888888888889, 'F1': 0.49337716068102067, 'AUROC': 0.8312578468298808, 'AUPRC': 0.8100682581265233}\n",
      "Epoch number: 52\n",
      "Loss: 0.6280923637579072\n",
      "{'Accuracy': 0.6677890011223344, 'Precision': 0.7396103896103896, 'Recall': 0.7123352165725048, 'F1': 0.6647378269535859, 'AUROC': 0.8846594475831764, 'AUPRC': 0.8646684997512178}\n",
      "Epoch number: 53\n",
      "Loss: 0.6277783924230823\n",
      "{'Accuracy': 0.5937149270482603, 'Precision': 0.7137465439810413, 'Recall': 0.6528719397363465, 'F1': 0.57964687115541, 'AUROC': 0.864180529399456, 'AUPRC': 0.8422291905512755}\n",
      "Epoch number: 54\n",
      "Loss: 0.6274763058532368\n",
      "{'Accuracy': 0.5937149270482603, 'Precision': 0.715948275862069, 'Recall': 0.6533192090395481, 'F1': 0.5792871900826446, 'AUROC': 0.8580482318476669, 'AUPRC': 0.834537951978303}\n",
      "Epoch number: 55\n",
      "Loss: 0.6271385074193988\n",
      "{'Accuracy': 0.6576879910213244, 'Precision': 0.7375089503513392, 'Recall': 0.7047551789077213, 'F1': 0.6534961499572217, 'AUROC': 0.8822870893492363, 'AUPRC': 0.8619008158224921}\n",
      "Epoch number: 56\n",
      "Loss: 0.6268383758632761\n",
      "{'Accuracy': 0.6397306397306397, 'Precision': 0.7373431233018501, 'Recall': 0.6919256120527307, 'F1': 0.6326150763322008, 'AUROC': 0.8804326218874241, 'AUPRC': 0.8555787933914092}\n",
      "Epoch number: 57\n",
      "Loss: 0.6265442476704203\n",
      "{'Accuracy': 0.7609427609427609, 'Precision': 0.788140938757637, 'Recall': 0.7891478342749529, 'F1': 0.7609379428492251, 'AUROC': 0.9106926135174722, 'AUPRC': 0.8905778096357028}\n",
      "Epoch number: 58\n",
      "Loss: 0.6262507365416672\n",
      "{'Accuracy': 0.6498316498316499, 'Precision': 0.7438271604938271, 'Recall': 0.7008474576271186, 'F1': 0.643687707641196, 'AUROC': 0.8846777568528982, 'AUPRC': 0.8598936487747019}\n",
      "Epoch number: 59\n",
      "Loss: 0.625946992635727\n",
      "{'Accuracy': 0.6689113355780022, 'Precision': 0.7462327208260464, 'Recall': 0.7150659133709981, 'F1': 0.6653433781036061, 'AUROC': 0.8885410127641766, 'AUPRC': 0.8653349757732335}\n",
      "Epoch number: 60\n",
      "Loss: 0.6256527534273805\n",
      "{'Accuracy': 0.7272727272727273, 'Precision': 0.7691930512748668, 'Recall': 0.761346516007533, 'F1': 0.7270031282428253, 'AUROC': 0.9055424775057543, 'AUPRC': 0.8859685129004777}\n",
      "Epoch number: 61\n",
      "Loss: 0.6253908341450076\n",
      "{'Accuracy': 0.6632996632996633, 'Precision': 0.7467071501881628, 'Recall': 0.7112523540489643, 'F1': 0.6589169048591261, 'AUROC': 0.8898409709144173, 'AUPRC': 0.8685454606797576}\n",
      "Epoch number: 62\n",
      "Loss: 0.6251168972443021\n",
      "{'Accuracy': 0.6655443322109988, 'Precision': 0.7461644183962607, 'Recall': 0.7126883239171375, 'F1': 0.661532852670331, 'AUROC': 0.8910807700355723, 'AUPRC': 0.8690448870891584}\n",
      "Epoch number: 63\n",
      "Loss: 0.6248587146401405\n",
      "{'Accuracy': 0.7418630751964085, 'Precision': 0.7776397515527951, 'Recall': 0.773587570621469, 'F1': 0.7417898938582963, 'AUROC': 0.9056366394643232, 'AUPRC': 0.8851814499448485}\n",
      "Epoch number: 64\n",
      "Loss: 0.6245906057266088\n",
      "{'Accuracy': 0.6868686868686869, 'Precision': 0.7537507946598856, 'Recall': 0.7296845574387947, 'F1': 0.6846937804808442, 'AUROC': 0.8964257689893282, 'AUPRC': 0.8721425450800582}\n",
      "Epoch number: 65\n",
      "Loss: 0.6243412594000498\n",
      "{'Accuracy': 0.7171717171717171, 'Precision': 0.7683035714285714, 'Recall': 0.7546610169491526, 'F1': 0.7164484451718495, 'AUROC': 0.9001124712282906, 'AUPRC': 0.8743959405638223}\n",
      "Epoch number: 66\n",
      "Loss: 0.6240871855572089\n",
      "{'Accuracy': 0.7789001122334456, 'Precision': 0.7986453265308222, 'Recall': 0.8037664783427496, 'F1': 0.7787652335463835, 'AUROC': 0.9106298388784264, 'AUPRC': 0.8876185380860975}\n",
      "Epoch number: 67\n",
      "Loss: 0.6238605128053356\n",
      "{'Accuracy': 0.712682379349046, 'Precision': 0.7646312612622572, 'Recall': 0.7504472693032015, 'F1': 0.7118806778564861, 'AUROC': 0.9010096254446537, 'AUPRC': 0.8739609009299592}\n",
      "Epoch number: 68\n",
      "Loss: 0.6236073081044183\n",
      "{'Accuracy': 0.6475869809203143, 'Precision': 0.7374927703875072, 'Recall': 0.6976224105461394, 'F1': 0.6418260121467856, 'AUROC': 0.8872214375392342, 'AUPRC': 0.8549829031194913}\n",
      "Epoch number: 69\n",
      "Loss: 0.6233597336070879\n",
      "{'Accuracy': 0.8069584736251403, 'Precision': 0.8120348396869477, 'Recall': 0.8232815442561205, 'F1': 0.8059256182438935, 'AUROC': 0.9103473530027202, 'AUPRC': 0.8920078474612471}\n",
      "Epoch number: 70\n",
      "Loss: 0.6231335072030484\n",
      "{'Accuracy': 0.7991021324354658, 'Precision': 0.8068016194331984, 'Recall': 0.8171374764595103, 'F1': 0.7983053955447078, 'AUROC': 0.9074335635070099, 'AUPRC': 0.8904413027155567}\n",
      "Epoch number: 71\n",
      "Loss: 0.6228829729888175\n",
      "{'Accuracy': 0.6161616161616161, 'Precision': 0.7284681540570859, 'Recall': 0.6725988700564972, 'F1': 0.6054214059295171, 'AUROC': 0.8811179116970077, 'AUPRC': 0.8536622141795318}\n",
      "Epoch number: 72\n",
      "Loss: 0.6226802974531095\n",
      "{'Accuracy': 0.7777777777777778, 'Precision': 0.793915601023018, 'Recall': 0.8005885122410545, 'F1': 0.777508449780558, 'AUROC': 0.9059675141242938, 'AUPRC': 0.888599658544899}\n",
      "Epoch number: 73\n",
      "Loss: 0.6224330639516985\n",
      "{'Accuracy': 0.8294051627384961, 'Precision': 0.8252483351691104, 'Recall': 0.83674670433145, 'F1': 0.8268132992327366, 'AUROC': 0.9120134965473948, 'AUPRC': 0.8976064882863515}\n",
      "Epoch number: 74\n",
      "Loss: 0.6222096661726634\n",
      "{'Accuracy': 0.6206509539842873, 'Precision': 0.7285041585127201, 'Recall': 0.6759180790960452, 'F1': 0.6109069767441861, 'AUROC': 0.8810812931575642, 'AUPRC': 0.8552662773720705}\n",
      "Epoch number: 75\n",
      "Loss: 0.6220348900870273\n",
      "{'Accuracy': 0.8092031425364759, 'Precision': 0.810204081632653, 'Recall': 0.8220338983050848, 'F1': 0.8076131687242798, 'AUROC': 0.9085739694496757, 'AUPRC': 0.8932984325973647}\n",
      "Epoch number: 76\n",
      "Loss: 0.6218404746674872\n",
      "{'Accuracy': 0.8237934904601572, 'Precision': 0.8194824885025522, 'Recall': 0.8306967984934086, 'F1': 0.821066257685976, 'AUROC': 0.9085033479807492, 'AUPRC': 0.8945641939640272}\n",
      "Epoch number: 77\n",
      "Loss: 0.621622156829406\n",
      "{'Accuracy': 0.5780022446689114, 'Precision': 0.7084545949731538, 'Recall': 0.6401365348399247, 'F1': 0.560254121600336, 'AUROC': 0.8600073237078887, 'AUPRC': 0.8320764726344225}\n",
      "Epoch number: 78\n",
      "Loss: 0.6214331948681723\n",
      "{'Accuracy': 0.7003367003367004, 'Precision': 0.7458301040290801, 'Recall': 0.7356167608286253, 'F1': 0.6997906458179011, 'AUROC': 0.8745448838669176, 'AUPRC': 0.852009021382375}\n",
      "Epoch number: 79\n",
      "Loss: 0.6212320471182465\n",
      "{'Accuracy': 0.8013468013468014, 'Precision': 0.7945397029158261, 'Recall': 0.8024717514124293, 'F1': 0.7968889455565472, 'AUROC': 0.8765405942665829, 'AUPRC': 0.8590375640615049}\n",
      "Epoch number: 80\n",
      "Loss: 0.6210376984543271\n",
      "{'Accuracy': 0.6576879910213244, 'Precision': 0.7256680789137042, 'Recall': 0.7011770244821093, 'F1': 0.6547639162200172, 'AUROC': 0.8497279765641348, 'AUPRC': 0.8233317884348719}\n",
      "Epoch number: 81\n",
      "Loss: 0.6208109961050313\n",
      "{'Accuracy': 0.590347923681257, 'Precision': 0.69391377441854, 'Recall': 0.6460216572504708, 'F1': 0.57872449567798, 'AUROC': 0.8263692718141871, 'AUPRC': 0.7897438075050982}\n",
      "Epoch number: 82\n",
      "Loss: 0.6206216275332922\n",
      "{'Accuracy': 0.7328843995510662, 'Precision': 0.7436213991769547, 'Recall': 0.7508474576271187, 'F1': 0.732201309328969, 'AUROC': 0.8473425402803934, 'AUPRC': 0.8222483274973613}\n",
      "Epoch number: 83\n",
      "Loss: 0.6204192368757158\n",
      "{'Accuracy': 0.7429854096520763, 'Precision': 0.7547843604065562, 'Recall': 0.7620056497175142, 'F1': 0.742413052617227, 'AUROC': 0.8530733417032852, 'AUPRC': 0.8295417685516714}\n",
      "Epoch number: 84\n",
      "Loss: 0.6202162782935535\n",
      "{'Accuracy': 0.6677890011223344, 'Precision': 0.7247474747474747, 'Recall': 0.7074152542372881, 'F1': 0.6661197703035275, 'AUROC': 0.8446432308014229, 'AUPRC': 0.8152975012717205}\n",
      "Epoch number: 85\n",
      "Loss: 0.6200446689198184\n",
      "{'Accuracy': 0.6868686868686869, 'Precision': 0.735732263299076, 'Recall': 0.7234227871939736, 'F1': 0.6860318402556314, 'AUROC': 0.8502537141661437, 'AUPRC': 0.8229781180987185}\n",
      "Epoch number: 86\n",
      "Loss: 0.619846563058338\n",
      "{'Accuracy': 0.7609427609427609, 'Precision': 0.7635954784257177, 'Recall': 0.7734934086629002, 'F1': 0.7592823485391391, 'AUROC': 0.8627537141661435, 'AUPRC': 0.8427619821277903}\n",
      "Epoch number: 87\n",
      "Loss: 0.6196617504412477\n",
      "{'Accuracy': 0.7093153759820426, 'Precision': 0.7489249508164999, 'Recall': 0.7422551789077212, 'F1': 0.709067643295239, 'AUROC': 0.8613072818581293, 'AUPRC': 0.8383108139030063}\n",
      "Epoch number: 88\n",
      "Loss: 0.6195023950566066\n",
      "{'Accuracy': 0.6195286195286195, 'Precision': 0.7221567787534804, 'Recall': 0.6736346516007533, 'F1': 0.6104528717991708, 'AUROC': 0.8528667085164261, 'AUPRC': 0.8195038818002078}\n",
      "Epoch number: 89\n",
      "Loss: 0.6193078064256244\n",
      "{'Accuracy': 0.7474747474747475, 'Precision': 0.768991427391035, 'Recall': 0.7724811676082863, 'F1': 0.7473932902819342, 'AUROC': 0.8880231219920486, 'AUPRC': 0.8696297634335428}\n",
      "Epoch number: 90\n",
      "Loss: 0.6191448132087897\n",
      "{'Accuracy': 0.7059483726150393, 'Precision': 0.754828037239363, 'Recall': 0.7425612052730697, 'F1': 0.7052619086097531, 'AUROC': 0.8822975517890772, 'AUPRC': 0.8602404762443047}\n",
      "Epoch number: 91\n",
      "Loss: 0.6189710083215133\n",
      "{'Accuracy': 0.6835016835016835, 'Precision': 0.7464175257731959, 'Recall': 0.7250706214689265, 'F1': 0.6815921532846716, 'AUROC': 0.8746102741159238, 'AUPRC': 0.8469739963928649}\n",
      "Epoch number: 92\n",
      "Loss: 0.6188011863218841\n",
      "{'Accuracy': 0.7474747474747475, 'Precision': 0.7706740630244266, 'Recall': 0.7733757062146893, 'F1': 0.7474289342691596, 'AUROC': 0.8864799121155054, 'AUPRC': 0.8670640402624709}\n",
      "Epoch number: 93\n",
      "Loss: 0.6186297325060722\n",
      "{'Accuracy': 0.7407407407407407, 'Precision': 0.7629138696097395, 'Recall': 0.765936911487759, 'F1': 0.7406767168335044, 'AUROC': 0.8831397781962754, 'AUPRC': 0.8629874205696649}\n",
      "Epoch number: 94\n",
      "Loss: 0.6184451787095321\n",
      "{'Accuracy': 0.6801346801346801, 'Precision': 0.7392828753122871, 'Recall': 0.7204566854990584, 'F1': 0.678475787714378, 'AUROC': 0.8623195229127433, 'AUPRC': 0.8295661973901578}\n",
      "Epoch number: 95\n",
      "Loss: 0.6182912175233165\n",
      "{'Accuracy': 0.7272727272727273, 'Precision': 0.745947294253181, 'Recall': 0.7501647834274954, 'F1': 0.7271063540699044, 'AUROC': 0.8599916300481272, 'AUPRC': 0.8324025359491714}\n",
      "Epoch number: 96\n",
      "Loss: 0.6181521807442006\n",
      "{'Accuracy': 0.7272727272727273, 'Precision': 0.7422907038566929, 'Recall': 0.7479284369114878, 'F1': 0.7269204913370254, 'AUROC': 0.855743879472693, 'AUPRC': 0.8282136909143865}\n",
      "Epoch number: 97\n",
      "Loss: 0.6179807446136767\n",
      "{'Accuracy': 0.7295173961840629, 'Precision': 0.745278673422386, 'Recall': 0.7507062146892656, 'F1': 0.7292104098332748, 'AUROC': 0.8499803829252981, 'AUPRC': 0.8218830717490526}\n",
      "Epoch number: 98\n",
      "Loss: 0.6178389996892274\n",
      "{'Accuracy': 0.7755331088664422, 'Precision': 0.7712259622672015, 'Recall': 0.7808145009416196, 'F1': 0.7721227621483375, 'AUROC': 0.8566854990583804, 'AUPRC': 0.8357621007897704}\n",
      "Epoch number: 99\n",
      "Loss: 0.6176766818761825\n",
      "{'Accuracy': 0.7530864197530864, 'Precision': 0.7531944374464654, 'Recall': 0.762876647834275, 'F1': 0.7508186551682057, 'AUROC': 0.8474523958987236, 'AUPRC': 0.8253662938086199}\n",
      "Finetune for 0.1 fraction of validation set\n",
      "{'Accuracy': 0.9034792368125701, 'Precision': 0.9148519456648436, 'Recall': 0.8872645951035782, 'F1': 0.8967794253938832, 'AUROC': 0.6458751830926972, 'AUPRC': 0.7316399918555583}\n",
      "Finetune for 0.1 fraction of test set\n",
      "{'Accuracy': 0.9906291834002677, 'Precision': 0.9916864608076009, 'Recall': 0.9894894894894894, 'F1': 0.9904973058435482, 'AUROC': 0.9688438438438439, 'AUPRC': 0.9592203211823064}\n",
      "\n",
      "Epoch number: 0\n",
      "Loss: 0.6870691776275635\n",
      "{'Accuracy': 0.6576879910213244, 'Precision': 0.8089738735327527, 'Recall': 0.5768361581920904, 'F1': 0.5225709542256305, 'AUROC': 0.5081214689265536, 'AUPRC': 0.6941692818644901}\n",
      "Epoch number: 1\n",
      "Loss: 0.6844235956668854\n",
      "{'Accuracy': 0.7811447811447811, 'Precision': 0.8604263305413955, 'Recall': 0.7300612052730697, 'F1': 0.7378767328920987, 'AUROC': 0.5294910023017367, 'AUPRC': 0.6976263389812761}\n",
      "Epoch number: 2\n",
      "Loss: 0.6821491122245789\n",
      "{'Accuracy': 0.8698092031425365, 'Precision': 0.900336162239612, 'Recall': 0.8420197740112993, 'F1': 0.8563206886197579, 'AUROC': 0.5586982109227872, 'AUPRC': 0.7033249881720942}\n",
      "Epoch number: 3\n",
      "Loss: 0.6800239980220795\n",
      "{'Accuracy': 0.8810325476992144, 'Precision': 0.8930984555984556, 'Recall': 0.8621704331450094, 'F1': 0.8721380453147338, 'AUROC': 0.5962544465369324, 'AUPRC': 0.7131472447914439}\n",
      "Epoch number: 4\n",
      "Loss: 0.6785754442214966\n",
      "{'Accuracy': 0.8698092031425365, 'Precision': 0.871252204585538, 'Recall': 0.8567796610169491, 'F1': 0.862381363244176, 'AUROC': 0.6249633814605565, 'AUPRC': 0.7228382944844717}\n",
      "Epoch number: 5\n",
      "Loss: 0.6764959394931793\n",
      "{'Accuracy': 0.8484848484848485, 'Precision': 0.8440890405153416, 'Recall': 0.8397834274952919, 'F1': 0.8417354692279859, 'AUROC': 0.6575878844946642, 'AUPRC': 0.7373377908639862}\n",
      "Epoch number: 6\n",
      "Loss: 0.675044059753418\n",
      "{'Accuracy': 0.8417508417508418, 'Precision': 0.8375406992828414, 'Recall': 0.8318973634651601, 'F1': 0.8343772287970133, 'AUROC': 0.688016582967148, 'AUPRC': 0.7558964870558595}\n",
      "Epoch number: 7\n",
      "Loss: 0.6733676195144653\n",
      "{'Accuracy': 0.8383838383838383, 'Precision': 0.8373015873015873, 'Recall': 0.8241525423728814, 'F1': 0.8291630716134599, 'AUROC': 0.7106533793680686, 'AUPRC': 0.7739246762253691}\n",
      "Epoch number: 8\n",
      "Loss: 0.6721481614642673\n",
      "{'Accuracy': 0.8271604938271605, 'Precision': 0.827844758868075, 'Recall': 0.8098163841807909, 'F1': 0.8160472972972974, 'AUROC': 0.7260763234986398, 'AUPRC': 0.788627916495669}\n",
      "Epoch number: 9\n",
      "Loss: 0.6708697199821472\n",
      "{'Accuracy': 0.8282828282828283, 'Precision': 0.8288302729473673, 'Recall': 0.8112052730696798, 'F1': 0.8173488022487897, 'AUROC': 0.7378910336890563, 'AUPRC': 0.8027967991959505}\n",
      "Epoch number: 10\n",
      "Loss: 0.6692311547019265\n",
      "{'Accuracy': 0.8148148148148148, 'Precision': 0.811660777385159, 'Recall': 0.7999058380414312, 'F1': 0.8043569389642623, 'AUROC': 0.747188219292739, 'AUPRC': 0.8150826502561332}\n",
      "Epoch number: 11\n",
      "Loss: 0.668051059047381\n",
      "{'Accuracy': 0.8069584736251403, 'Precision': 0.8000347866419295, 'Recall': 0.7977871939736347, 'F1': 0.7988396513703664, 'AUROC': 0.7554823184766688, 'AUPRC': 0.8261424847917413}\n",
      "Epoch number: 12\n",
      "Loss: 0.6670058323786809\n",
      "{'Accuracy': 0.8058361391694725, 'Precision': 0.7981857229028434, 'Recall': 0.7999764595103578, 'F1': 0.7990273603786254, 'AUROC': 0.759838616865453, 'AUPRC': 0.8326722111902638}\n",
      "Epoch number: 13\n",
      "Loss: 0.665633750813348\n",
      "{'Accuracy': 0.7968574635241302, 'Precision': 0.7894501278772379, 'Recall': 0.7960216572504708, 'F1': 0.7917151525092312, 'AUROC': 0.7645375601590292, 'AUPRC': 0.8377801216229468}\n",
      "Epoch number: 14\n",
      "Loss: 0.6644588430722554\n",
      "{'Accuracy': 0.7957351290684624, 'Precision': 0.789929516758785, 'Recall': 0.7991054613935971, 'F1': 0.791897233201581, 'AUROC': 0.7674461184348189, 'AUPRC': 0.8403582539294789}\n",
      "Epoch number: 15\n",
      "Loss: 0.6633880250155926\n",
      "{'Accuracy': 0.7856341189674523, 'Precision': 0.7824675324675325, 'Recall': 0.7928672316384181, 'F1': 0.7827874972717771, 'AUROC': 0.7709104938271605, 'AUPRC': 0.8421541188107509}\n",
      "Epoch number: 16\n",
      "Loss: 0.662511432872099\n",
      "{'Accuracy': 0.7800224466891134, 'Precision': 0.7770191192049639, 'Recall': 0.7872645951035782, 'F1': 0.7771590445079624, 'AUROC': 0.7750732370788869, 'AUPRC': 0.842592821261164}\n",
      "Epoch number: 17\n",
      "Loss: 0.6615908510155148\n",
      "{'Accuracy': 0.7755331088664422, 'Precision': 0.7728758169934641, 'Recall': 0.7830508474576271, 'F1': 0.7727272727272728, 'AUROC': 0.7793392969240427, 'AUPRC': 0.8424582390763145}\n",
      "Epoch number: 18\n",
      "Loss: 0.6608100847194069\n",
      "{'Accuracy': 0.7789001122334456, 'Precision': 0.775390151821045, 'Recall': 0.7854284369114877, 'F1': 0.7758461941218162, 'AUROC': 0.7822870893492363, 'AUPRC': 0.8410705375956298}\n",
      "Epoch number: 19\n",
      "Loss: 0.659781476855278\n",
      "{'Accuracy': 0.7744107744107744, 'Precision': 0.7696568706767526, 'Recall': 0.7789783427495292, 'F1': 0.7707890449319563, 'AUROC': 0.7864589872358234, 'AUPRC': 0.8389572487916218}\n",
      "Epoch number: 20\n",
      "Loss: 0.6589612336385817\n",
      "{'Accuracy': 0.7755331088664422, 'Precision': 0.7698431197681254, 'Recall': 0.7785781544256121, 'F1': 0.7714564202534242, 'AUROC': 0.7900122933668131, 'AUPRC': 0.8358663385328393}\n",
      "Epoch number: 21\n",
      "Loss: 0.6580575704574585\n",
      "{'Accuracy': 0.7699214365881033, 'Precision': 0.7638304132130791, 'Recall': 0.772080979284369, 'F1': 0.7655254128064677, 'AUROC': 0.7927783008997699, 'AUPRC': 0.8319853028647035}\n",
      "Epoch number: 22\n",
      "Loss: 0.6572670366453088\n",
      "{'Accuracy': 0.7710437710437711, 'Precision': 0.7648428936792109, 'Recall': 0.7730225988700565, 'F1': 0.7665957840236686, 'AUROC': 0.7966520192508894, 'AUPRC': 0.8295591003962279}\n",
      "Epoch number: 23\n",
      "Loss: 0.656515950957934\n",
      "{'Accuracy': 0.7721661054994389, 'Precision': 0.7663321167883212, 'Recall': 0.7748587570621468, 'F1': 0.7679571407128589, 'AUROC': 0.8006499790751204, 'AUPRC': 0.8277223834936902}\n",
      "Epoch number: 24\n",
      "Loss: 0.6558831095695495\n",
      "{'Accuracy': 0.7732884399551067, 'Precision': 0.7671035805626598, 'Recall': 0.7753531073446327, 'F1': 0.7688840606508875, 'AUROC': 0.8060525214480018, 'AUPRC': 0.8257467347557176}\n",
      "Epoch number: 25\n",
      "Loss: 0.6551585862269769\n",
      "{'Accuracy': 0.7744107744107744, 'Precision': 0.7679012345679013, 'Recall': 0.7758474576271186, 'F1': 0.7698073919833419, 'AUROC': 0.8124973843900397, 'AUPRC': 0.8258645495931786}\n",
      "Epoch number: 26\n",
      "Loss: 0.654524909125434\n",
      "{'Accuracy': 0.77665544332211, 'Precision': 0.7701646090534979, 'Recall': 0.778177966101695, 'F1': 0.7720978656949505, 'AUROC': 0.8179783950617284, 'AUPRC': 0.8253658955186441}\n",
      "Epoch number: 27\n",
      "Loss: 0.6538507640361786\n",
      "{'Accuracy': 0.77665544332211, 'Precision': 0.7699578977342065, 'Recall': 0.7777306967984934, 'F1': 0.7719489592885889, 'AUROC': 0.8241499267629211, 'AUPRC': 0.8256084908785873}\n",
      "Epoch number: 28\n",
      "Loss: 0.6533221211926691\n",
      "{'Accuracy': 0.7811447811447811, 'Precision': 0.7741151659636897, 'Recall': 0.781497175141243, 'F1': 0.7762335840877216, 'AUROC': 0.8304561623770663, 'AUPRC': 0.8263566056054333}\n",
      "Epoch number: 29\n",
      "Loss: 0.6525883595148723\n",
      "{'Accuracy': 0.7822671156004489, 'Precision': 0.7751638517129257, 'Recall': 0.7824387947269303, 'F1': 0.7773050997691293, 'AUROC': 0.8364995291902071, 'AUPRC': 0.8281770100630752}\n",
      "Epoch number: 30\n",
      "Loss: 0.6519184939322933\n",
      "{'Accuracy': 0.7833894500561167, 'Precision': 0.776059105757452, 'Recall': 0.7829331450094161, 'F1': 0.7782224314372859, 'AUROC': 0.8407878217200251, 'AUPRC': 0.8286723793307252}\n",
      "Epoch number: 31\n",
      "Loss: 0.6513518840074539\n",
      "{'Accuracy': 0.7856341189674523, 'Precision': 0.77818909224685, 'Recall': 0.7848163841807909, 'F1': 0.7803654187913072, 'AUROC': 0.8456057752667923, 'AUPRC': 0.8304733650479577}\n",
      "Epoch number: 32\n",
      "Loss: 0.6506932991923708\n",
      "{'Accuracy': 0.7912457912457912, 'Precision': 0.7840909090909092, 'Recall': 0.791313559322034, 'F1': 0.7863408521303259, 'AUROC': 0.849741054613936, 'AUPRC': 0.8319423934038979}\n",
      "Epoch number: 33\n",
      "Loss: 0.6501672110136818\n",
      "{'Accuracy': 0.7934904601571269, 'Precision': 0.7872403636178964, 'Recall': 0.7958804143126177, 'F1': 0.7893443802553402, 'AUROC': 0.8532695124503034, 'AUPRC': 0.833703273870869}\n",
      "Epoch number: 34\n",
      "Loss: 0.6496685028076172\n",
      "{'Accuracy': 0.7934904601571269, 'Precision': 0.7889444949954505, 'Recall': 0.7990112994350282, 'F1': 0.790234914785813, 'AUROC': 0.8566959614982215, 'AUPRC': 0.8350995446060591}\n",
      "Epoch number: 35\n",
      "Loss: 0.6492311325338151\n",
      "{'Accuracy': 0.7934904601571269, 'Precision': 0.7901687491168932, 'Recall': 0.8008003766478342, 'F1': 0.7906933989725153, 'AUROC': 0.8606272232684662, 'AUPRC': 0.8374566573817033}\n",
      "Epoch number: 36\n",
      "Loss: 0.6488330734742654\n",
      "{'Accuracy': 0.7957351290684624, 'Precision': 0.7954153818247778, 'Recall': 0.8067090395480226, 'F1': 0.7937688856331839, 'AUROC': 0.8636064030131827, 'AUPRC': 0.8396194970350721}\n",
      "Epoch number: 37\n",
      "Loss: 0.648360937833786\n",
      "{'Accuracy': 0.7890011223344556, 'Precision': 0.7924341773428831, 'Recall': 0.8032956685499058, 'F1': 0.7876527559454388, 'AUROC': 0.8648592801841388, 'AUPRC': 0.8396480093980025}\n",
      "Epoch number: 38\n",
      "Loss: 0.6478841854975774\n",
      "{'Accuracy': 0.7856341189674523, 'Precision': 0.7915070887943492, 'Recall': 0.8018126177024483, 'F1': 0.7845911014294267, 'AUROC': 0.8668131408244403, 'AUPRC': 0.8401441735037642}\n",
      "Epoch number: 39\n",
      "Loss: 0.6474760368466377\n",
      "{'Accuracy': 0.7845117845117845, 'Precision': 0.7912503539500829, 'Recall': 0.8013182674199624, 'F1': 0.7835627530364373, 'AUROC': 0.8684557438794728, 'AUPRC': 0.8414755828532942}\n",
      "Epoch number: 40\n",
      "Loss: 0.6471018471368929\n",
      "{'Accuracy': 0.7878787878787878, 'Precision': 0.7949260042283298, 'Recall': 0.8050376647834275, 'F1': 0.7869761181606468, 'AUROC': 0.8709719606612262, 'AUPRC': 0.8440143236625162}\n",
      "Epoch number: 41\n",
      "Loss: 0.646569835288184\n",
      "{'Accuracy': 0.7890011223344556, 'Precision': 0.7940393839939409, 'Recall': 0.8046374764595103, 'F1': 0.7878721873828604, 'AUROC': 0.8731716886377904, 'AUPRC': 0.8468421469710545}\n",
      "Epoch number: 42\n",
      "Loss: 0.6461493580840355\n",
      "{'Accuracy': 0.8002244668911336, 'Precision': 0.8007724322799097, 'Recall': 0.8122645951035782, 'F1': 0.798475715127981, 'AUROC': 0.875410650763758, 'AUPRC': 0.8500033412940908}\n",
      "Epoch number: 43\n",
      "Loss: 0.6457363773475994\n",
      "{'Accuracy': 0.8114478114478114, 'Precision': 0.809176758866178, 'Recall': 0.820786252354049, 'F1': 0.8091863062034081, 'AUROC': 0.8766504498849131, 'AUPRC': 0.8517222625543939}\n",
      "Epoch number: 44\n",
      "Loss: 0.6453489396307204\n",
      "{'Accuracy': 0.813692480359147, 'Precision': 0.8092129208371246, 'Recall': 0.8199858757062146, 'F1': 0.8107554122524182, 'AUROC': 0.8785127641766058, 'AUPRC': 0.8541910615757611}\n",
      "Epoch number: 45\n",
      "Loss: 0.6449776628743047\n",
      "{'Accuracy': 0.8204264870931538, 'Precision': 0.8145780051150895, 'Recall': 0.8242937853107344, 'F1': 0.8169378698224852, 'AUROC': 0.880743879472693, 'AUPRC': 0.8577782726403218}\n",
      "Epoch number: 46\n",
      "Loss: 0.644683189848636\n",
      "{'Accuracy': 0.8204264870931538, 'Precision': 0.8145780051150895, 'Recall': 0.8242937853107344, 'F1': 0.8169378698224852, 'AUROC': 0.8822112366603891, 'AUPRC': 0.8602775147459361}\n",
      "Epoch number: 47\n",
      "Loss: 0.6442616519828638\n",
      "{'Accuracy': 0.8181818181818182, 'Precision': 0.8134527651051519, 'Recall': 0.8241996233521657, 'F1': 0.8152095986235008, 'AUROC': 0.8829815337936807, 'AUPRC': 0.8613822412883702}\n",
      "Epoch number: 48\n",
      "Loss: 0.6438700289142375\n",
      "{'Accuracy': 0.819304152637486, 'Precision': 0.815556677606665, 'Recall': 0.8269303201506591, 'F1': 0.816710002619323, 'AUROC': 0.8840186231429169, 'AUPRC': 0.8628905952187396}\n",
      "Epoch number: 49\n",
      "Loss: 0.643537654876709\n",
      "{'Accuracy': 0.8170594837261503, 'Precision': 0.8149727767695101, 'Recall': 0.8268361581920904, 'F1': 0.8149108218156793, 'AUROC': 0.8843848085373509, 'AUPRC': 0.8625608712263699}\n",
      "Epoch number: 50\n",
      "Loss: 0.6432893860573862\n",
      "{'Accuracy': 0.8114478114478114, 'Precision': 0.8124489795918368, 'Recall': 0.824364406779661, 'F1': 0.8098765432098766, 'AUROC': 0.8830691567273488, 'AUPRC': 0.8602973364238036}\n",
      "Epoch number: 51\n",
      "Loss: 0.642960650416521\n",
      "{'Accuracy': 0.8002244668911336, 'Precision': 0.8041958041958042, 'Recall': 0.8153954802259887, 'F1': 0.7990191605839416, 'AUROC': 0.8805895584850387, 'AUPRC': 0.8566114023784432}\n",
      "Epoch number: 52\n",
      "Loss: 0.6427529240554234\n",
      "{'Accuracy': 0.7957351290684624, 'Precision': 0.8007876798788185, 'Recall': 0.8116290018832392, 'F1': 0.7946422239557478, 'AUROC': 0.8779268675455116, 'AUPRC': 0.8531721366134155}\n",
      "Epoch number: 53\n",
      "Loss: 0.6423579730369426\n",
      "{'Accuracy': 0.7968574635241302, 'Precision': 0.8016356201726489, 'Recall': 0.8125706214689266, 'F1': 0.7957366771159875, 'AUROC': 0.8746416614354467, 'AUPRC': 0.8487777411091268}\n",
      "Epoch number: 54\n",
      "Loss: 0.6421013897115534\n",
      "{'Accuracy': 0.7946127946127947, 'Precision': 0.7953849177155872, 'Recall': 0.8066619585687382, 'F1': 0.7928583497320103, 'AUROC': 0.87101381042059, 'AUPRC': 0.8447223166716425}\n",
      "Epoch number: 55\n",
      "Loss: 0.6417625163282666\n",
      "{'Accuracy': 0.7957351290684624, 'Precision': 0.7934535994111063, 'Recall': 0.8044726930320151, 'F1': 0.7932851650536921, 'AUROC': 0.8659892236869638, 'AUPRC': 0.8387843949896969}\n",
      "Epoch number: 56\n",
      "Loss: 0.6415161981917264\n",
      "{'Accuracy': 0.7946127946127947, 'Precision': 0.7908129260287806, 'Recall': 0.8012947269303201, 'F1': 0.7916641644679261, 'AUROC': 0.8602976564134757, 'AUPRC': 0.8322468781931343}\n",
      "Epoch number: 57\n",
      "Loss: 0.6412822018409597\n",
      "{'Accuracy': 0.7957351290684624, 'Precision': 0.7909202180928007, 'Recall': 0.800894538606403, 'F1': 0.792395968823933, 'AUROC': 0.8554980121364302, 'AUPRC': 0.8259714409204539}\n",
      "Epoch number: 58\n",
      "Loss: 0.6409688652571985\n",
      "{'Accuracy': 0.7957351290684624, 'Precision': 0.7906553643724696, 'Recall': 0.8004472693032014, 'F1': 0.7922747023016541, 'AUROC': 0.8507271395689475, 'AUPRC': 0.8201038208177981}\n",
      "Epoch number: 59\n",
      "Loss: 0.6407287150621415\n",
      "{'Accuracy': 0.7934904601571269, 'Precision': 0.7886669633915656, 'Recall': 0.7985640301318266, 'F1': 0.7901146058439763, 'AUROC': 0.8472614563716258, 'AUPRC': 0.8154824067209452}\n",
      "Epoch number: 60\n",
      "Loss: 0.6405153860811328\n",
      "{'Accuracy': 0.7912457912457912, 'Precision': 0.7858900738310091, 'Recall': 0.7953389830508475, 'F1': 0.7875830564784054, 'AUROC': 0.8453075957313245, 'AUPRC': 0.8129814190062219}\n",
      "Epoch number: 61\n",
      "Loss: 0.6402336897388581\n",
      "{'Accuracy': 0.7912457912457912, 'Precision': 0.7858900738310091, 'Recall': 0.7953389830508475, 'F1': 0.7875830564784054, 'AUROC': 0.8445490688428541, 'AUPRC': 0.8122737877667012}\n",
      "Epoch number: 62\n",
      "Loss: 0.6399741607999044\n",
      "{'Accuracy': 0.7901234567901234, 'Precision': 0.7848891363774426, 'Recall': 0.79439736346516, 'F1': 0.7865047890572445, 'AUROC': 0.8439527097719188, 'AUPRC': 0.8116101714943541}\n",
      "Epoch number: 63\n",
      "Loss: 0.6397232981398702\n",
      "{'Accuracy': 0.7822671156004489, 'Precision': 0.77828421073896, 'Recall': 0.78825329566855, 'F1': 0.7790811214265265, 'AUROC': 0.8441410336890562, 'AUPRC': 0.812002368724569}\n",
      "Epoch number: 64\n",
      "Loss: 0.6394757894369272\n",
      "{'Accuracy': 0.7822671156004489, 'Precision': 0.7789280595870087, 'Recall': 0.7891478342749529, 'F1': 0.7793180402210215, 'AUROC': 0.8455403850177861, 'AUPRC': 0.8141944000339568}\n",
      "Epoch number: 65\n",
      "Loss: 0.6392688073895194\n",
      "{'Accuracy': 0.7890011223344556, 'Precision': 0.7844404003639673, 'Recall': 0.7943502824858757, 'F1': 0.7856748042376785, 'AUROC': 0.846152437748483, 'AUPRC': 0.8155607425703699}\n",
      "Epoch number: 66\n",
      "Loss: 0.6390589110886873\n",
      "{'Accuracy': 0.7890011223344556, 'Precision': 0.78363412633306, 'Recall': 0.7930084745762711, 'F1': 0.7852990033222591, 'AUROC': 0.8460870474994769, 'AUPRC': 0.815788217639715}\n",
      "Epoch number: 67\n",
      "Loss: 0.6388138234615326\n",
      "{'Accuracy': 0.7991021324354658, 'Precision': 0.792798353909465, 'Recall': 0.8014830508474576, 'F1': 0.795002602811036, 'AUROC': 0.8465918602218037, 'AUPRC': 0.8173397607437545}\n",
      "Epoch number: 68\n",
      "Loss: 0.6385884837827821\n",
      "{'Accuracy': 0.8035914702581369, 'Precision': 0.7962864450127878, 'Recall': 0.8030131826741996, 'F1': 0.7986196225917981, 'AUROC': 0.8469763548859595, 'AUPRC': 0.8180172544008396}\n",
      "Epoch number: 69\n",
      "Loss: 0.6382564229624612\n",
      "{'Accuracy': 0.8103254769921436, 'Precision': 0.8028232355420324, 'Recall': 0.8082156308851225, 'F1': 0.8049436706015853, 'AUROC': 0.8478525842226408, 'AUPRC': 0.8195196791831276}\n",
      "Epoch number: 70\n",
      "Loss: 0.6380336150317125\n",
      "{'Accuracy': 0.8114478114478114, 'Precision': 0.8038741608829219, 'Recall': 0.8073681732580038, 'F1': 0.8054059113505418, 'AUROC': 0.8499084536513916, 'AUPRC': 0.8224495344592578}\n",
      "Epoch number: 71\n",
      "Loss: 0.6378005362219281\n",
      "{'Accuracy': 0.8125701459034792, 'Precision': 0.8050232558139534, 'Recall': 0.8087570621468927, 'F1': 0.8066428863809134, 'AUROC': 0.8517263025737603, 'AUPRC': 0.8246294534337231}\n",
      "Epoch number: 72\n",
      "Loss: 0.6375679406401229\n",
      "{'Accuracy': 0.8125701459034792, 'Precision': 0.8050268864370569, 'Recall': 0.8092043314500941, 'F1': 0.8067985431693208, 'AUROC': 0.8533453651391505, 'AUPRC': 0.8266880219719288}\n",
      "Epoch number: 73\n",
      "Loss: 0.6373786136910722\n",
      "{'Accuracy': 0.813692480359147, 'Precision': 0.8061738277215451, 'Recall': 0.8101459510357816, 'F1': 0.8078783564718597, 'AUROC': 0.8550088930738649, 'AUPRC': 0.8289518983625304}\n",
      "Epoch number: 74\n",
      "Loss: 0.6371141640345256\n",
      "{'Accuracy': 0.8159371492704826, 'Precision': 0.8085823842380913, 'Recall': 0.8106873822975518, 'F1': 0.8095637758825615, 'AUROC': 0.8562486921950201, 'AUPRC': 0.8310328069157156}\n",
      "Epoch number: 75\n",
      "Loss: 0.6368967678986097\n",
      "{'Accuracy': 0.8181818181818182, 'Precision': 0.8108971028348159, 'Recall': 0.813017890772128, 'F1': 0.8118861688596035, 'AUROC': 0.8567378112575854, 'AUPRC': 0.83174600932158}\n",
      "Epoch number: 76\n",
      "Loss: 0.6367027612475605\n",
      "{'Accuracy': 0.813692480359147, 'Precision': 0.8061952265523028, 'Recall': 0.8092514124293786, 'F1': 0.8075644028103045, 'AUROC': 0.8570490688428543, 'AUPRC': 0.8320852088049031}\n",
      "Epoch number: 77\n",
      "Loss: 0.6364794969558716\n",
      "{'Accuracy': 0.8125701459034792, 'Precision': 0.8051355117831811, 'Recall': 0.8069679849340866, 'F1': 0.8059975097296557, 'AUROC': 0.8572897049591965, 'AUPRC': 0.8327840409046636}\n",
      "Epoch number: 78\n",
      "Loss: 0.6362069596218157\n",
      "{'Accuracy': 0.8114478114478114, 'Precision': 0.8040692703880559, 'Recall': 0.8051318267419962, 'F1': 0.8045828154863236, 'AUROC': 0.8571981586105879, 'AUPRC': 0.8324454470347423}\n",
      "Epoch number: 79\n",
      "Loss: 0.6360064640641212\n",
      "{'Accuracy': 0.8114478114478114, 'Precision': 0.8039529470446422, 'Recall': 0.8060263653483992, 'F1': 0.8049189899284777, 'AUROC': 0.8578572923205692, 'AUPRC': 0.8334167950871787}\n",
      "Epoch number: 80\n",
      "Loss: 0.6357781923847434\n",
      "{'Accuracy': 0.8148148148148148, 'Precision': 0.8073259090299207, 'Recall': 0.8115348399246705, 'F1': 0.8091123330714847, 'AUROC': 0.8585569679849341, 'AUPRC': 0.833961527008448}\n",
      "Epoch number: 81\n",
      "Loss: 0.6355684232421037\n",
      "{'Accuracy': 0.8114478114478114, 'Precision': 0.8039087444638995, 'Recall': 0.8087099811676083, 'F1': 0.8058722830315921, 'AUROC': 0.8584798074911069, 'AUPRC': 0.8338758356189242}\n",
      "Epoch number: 82\n",
      "Loss: 0.6354207813021648\n",
      "{'Accuracy': 0.8092031425364759, 'Precision': 0.8017058062130178, 'Recall': 0.807274011299435, 'F1': 0.8038644415439121, 'AUROC': 0.8580299225779452, 'AUPRC': 0.8335304976154889}\n",
      "Epoch number: 83\n",
      "Loss: 0.6352351946490151\n",
      "{'Accuracy': 0.8103254769921436, 'Precision': 0.8028797289666856, 'Recall': 0.8086629001883239, 'F1': 0.8050921281704452, 'AUROC': 0.8565756434400502, 'AUPRC': 0.8317843227533618}\n",
      "Epoch number: 84\n",
      "Loss: 0.6350052454892327\n",
      "{'Accuracy': 0.8092031425364759, 'Precision': 0.8017058062130178, 'Recall': 0.807274011299435, 'F1': 0.8038644415439121, 'AUROC': 0.8544413057124921, 'AUPRC': 0.8288781725606726}\n",
      "Epoch number: 85\n",
      "Loss: 0.6347674062085706\n",
      "{'Accuracy': 0.8069584736251403, 'Precision': 0.7992718446601942, 'Recall': 0.8031544256120527, 'F1': 0.800934200681686, 'AUROC': 0.8522154216363256, 'AUPRC': 0.8254903584276154}\n",
      "Epoch number: 86\n",
      "Loss: 0.6345737836826807\n",
      "{'Accuracy': 0.8047138047138047, 'Precision': 0.7969808580173263, 'Recall': 0.7994821092278719, 'F1': 0.798122298036356, 'AUROC': 0.851056706423938, 'AUPRC': 0.8238604104475957}\n",
      "Epoch number: 87\n",
      "Loss: 0.6344229592518373\n",
      "{'Accuracy': 0.8035914702581369, 'Precision': 0.7960408717921915, 'Recall': 0.796304143126177, 'F1': 0.7961714081787652, 'AUROC': 0.8490505335844319, 'AUPRC': 0.8205824268408393}\n",
      "Epoch number: 88\n",
      "Loss: 0.6342521899201897\n",
      "{'Accuracy': 0.8035914702581369, 'Precision': 0.7963264662602481, 'Recall': 0.7949623352165724, 'F1': 0.7956167543796411, 'AUROC': 0.8471829880728186, 'AUPRC': 0.8178900066031427}\n",
      "Epoch number: 89\n",
      "Loss: 0.6341313342253367\n",
      "{'Accuracy': 0.8013468013468014, 'Precision': 0.7948782745632142, 'Recall': 0.7899482109227871, 'F1': 0.7920905638090165, 'AUROC': 0.8448394015484411, 'AUPRC': 0.8146736766036784}\n",
      "Epoch number: 90\n",
      "Loss: 0.6339987195455111\n",
      "{'Accuracy': 0.8013468013468014, 'Precision': 0.7955039689766361, 'Recall': 0.7886064030131827, 'F1': 0.7914604394078638, 'AUROC': 0.8430634023854363, 'AUPRC': 0.8121055629315507}\n",
      "Epoch number: 91\n",
      "Loss: 0.6338784532702487\n",
      "{'Accuracy': 0.7991021324354658, 'Precision': 0.794121623814211, 'Recall': 0.7844868173258004, 'F1': 0.7882168755651813, 'AUROC': 0.8421165515798283, 'AUPRC': 0.8106000856800102}\n",
      "Epoch number: 92\n",
      "Loss: 0.6337467688386158\n",
      "{'Accuracy': 0.7991021324354658, 'Precision': 0.794121623814211, 'Recall': 0.7844868173258004, 'F1': 0.7882168755651813, 'AUROC': 0.8424500418497594, 'AUPRC': 0.8103362977333716}\n",
      "Epoch number: 93\n",
      "Loss: 0.6336021822817782\n",
      "{'Accuracy': 0.8024691358024691, 'Precision': 0.7968146718146718, 'Recall': 0.78954802259887, 'F1': 0.7925319108401601, 'AUROC': 0.8438193136639465, 'AUPRC': 0.8114053741961138}\n",
      "Epoch number: 94\n",
      "Loss: 0.6333636472099706\n",
      "{'Accuracy': 0.8002244668911336, 'Precision': 0.7932701466946085, 'Recall': 0.7899011299435028, 'F1': 0.791426001325632, 'AUROC': 0.8449754132663737, 'AUPRC': 0.8120520800836953}\n",
      "Epoch number: 95\n",
      "Loss: 0.6331874566773573\n",
      "{'Accuracy': 0.8024691358024691, 'Precision': 0.7950019390610752, 'Recall': 0.7944679849340865, 'F1': 0.7947305589879992, 'AUROC': 0.8460504289600335, 'AUPRC': 0.8126439286722105}\n",
      "Epoch number: 96\n",
      "Loss: 0.6330602396394789\n",
      "{'Accuracy': 0.8024691358024691, 'Precision': 0.7948411993858944, 'Recall': 0.7953625235404896, 'F1': 0.7950974755657764, 'AUROC': 0.8475596359070935, 'AUPRC': 0.8139501314146119}\n",
      "Epoch number: 97\n",
      "Loss: 0.6329025802563648\n",
      "{'Accuracy': 0.8002244668911336, 'Precision': 0.7924573055028463, 'Recall': 0.7934792843691149, 'F1': 0.7929508402176524, 'AUROC': 0.8484620213433772, 'AUPRC': 0.8146414454327009}\n",
      "Epoch number: 98\n",
      "Loss: 0.6327313094428091\n",
      "{'Accuracy': 0.8047138047138047, 'Precision': 0.797440407434632, 'Recall': 0.7963512241054613, 'F1': 0.7968781116689551, 'AUROC': 0.8479192822766269, 'AUPRC': 0.8132440074364019}\n",
      "Epoch number: 99\n",
      "Loss: 0.6325609284639359\n",
      "{'Accuracy': 0.797979797979798, 'Precision': 0.7920366795366796, 'Recall': 0.7848870056497175, 'F1': 0.7878167269956182, 'AUROC': 0.8464493094789705, 'AUPRC': 0.810409618295845}\n",
      "Finetune for 0.01 fraction of validation set\n",
      "{'Accuracy': 0.8810325476992144, 'Precision': 0.8930984555984556, 'Recall': 0.8621704331450094, 'F1': 0.8721380453147338, 'AUROC': 0.5962544465369324, 'AUPRC': 0.7131472447914439}\n",
      "Finetune for 0.01 fraction of test set\n",
      "{'Accuracy': 0.9933065595716198, 'Precision': 0.9940334128878281, 'Recall': 0.9924924924924925, 'F1': 0.9932166512595961, 'AUROC': 0.9930129404767086, 'AUPRC': 0.9894176665294445}\n",
      "\n",
      "Duration: 0:02:26.767009\n"
     ]
    }
   ],
   "source": [
    "seed_everything(RANDOM_SEED)\n",
    "epoch_loss_list, epoch_f1_list = finetune_fit(finetune_model, X_train, y_train[:, 0], X_val, y_val[:, 0], batch_size=configs.finetune_batch_size_100, finetune_epochs=configs.finetune_epochs_100, num_classes=configs.num_classes, finetune_lr=configs.finetune_lr_100, fraction=configs.fraction_100, device=device, callback=finetune_callback)"
   ]
  },
  {
   "cell_type": "code",
   "execution_count": 26,
   "metadata": {
    "ExecuteTime": {
     "end_time": "2023-11-09T02:38:32.396519900Z",
     "start_time": "2023-11-09T02:38:31.621606700Z"
    },
    "collapsed": false
   },
   "outputs": [],
   "source": [
    "finetune_model.load_state_dict(torch.load(f\"{working_directory}seed{RANDOM_SEED}_max_f1_{configs.fraction_100}_finetune_model.pt\"))\n",
    "start_logging(RANDOM_SEED, logging_directory)\n",
    "print(f\"Finetune for {configs.fraction_100} fraction of validation set\")\n",
    "finetune_predict(finetune_model, X_val, y_val[:,0])\n",
    "print(f\"Finetune for {configs.fraction_100} fraction of test set\")\n",
    "finetune_predict(finetune_model, X_test, y_test[:,0])\n",
    "print()\n",
    "stop_logging()"
   ]
  },
  {
   "cell_type": "code",
   "execution_count": 27,
   "metadata": {
    "ExecuteTime": {
     "end_time": "2023-11-09T02:38:32.834496600Z",
     "start_time": "2023-11-09T02:38:32.396519900Z"
    },
    "collapsed": false
   },
   "outputs": [
    {
     "data": {
      "image/png": "[encoded data removed]",
      "text/plain": [
       "<Figure size 800x800 with 2 Axes>"
      ]
     },
     "metadata": {},
     "output_type": "display_data"
    }
   ],
   "source": [
    "plt.figure(1, figsize=(8, 8))\n",
    "plt.subplot(121)\n",
    "plt.plot(epoch_loss_list)\n",
    "plt.title('Loss')\n",
    "plt.subplot(122)\n",
    "plt.plot(epoch_f1_list)\n",
    "plt.title('Accuracy')\n",
    "plt.show()"
   ]
  },
  {
   "cell_type": "markdown",
   "metadata": {
    "collapsed": false
   },
   "source": [
    "## Semi-supervised"
   ]
  },
  {
   "cell_type": "markdown",
   "metadata": {
    "collapsed": false
   },
   "source": [
    "### 10% label"
   ]
  },
  {
   "cell_type": "code",
   "execution_count": 28,
   "metadata": {
    "ExecuteTime": {
     "end_time": "2023-11-09T02:38:33.163219500Z",
     "start_time": "2023-11-09T02:38:32.834496600Z"
    },
    "collapsed": false
   },
   "outputs": [
    {
     "data": {
      "text/plain": [
       "<All keys matched successfully>"
      ]
     },
     "execution_count": 28,
     "metadata": {},
     "output_type": "execute_result"
    }
   ],
   "source": [
    "seed_everything(RANDOM_SEED)\n",
    "finetune_model = FTClassifier(input_dims=configs.input_dims, output_dims=configs.output_dims, depth=configs.depth, p_output_dims=configs.num_classes, device=device, flag_use_multi_gpu=configs.flag_use_multi_gpu)\n",
    "finetune_model.net.load_state_dict(torch.load(f\"{working_directory}seed{RANDOM_SEED}_pretrain_model.pt\"))"
   ]
  },
  {
   "cell_type": "code",
   "execution_count": 29,
   "metadata": {
    "ExecuteTime": {
     "end_time": "2023-11-09T02:39:10.549066700Z",
     "start_time": "2023-11-09T02:38:33.158459600Z"
    },
    "collapsed": false
   },
   "outputs": [],
   "source": [
    "seed_everything(RANDOM_SEED)\n",
    "epoch_loss_list, epoch_f1_list = finetune_fit(finetune_model, X_train, y_train[:, 0], X_val, y_val[:, 0], batch_size=configs.finetune_batch_size_10,finetune_epochs=configs.finetune_epochs_10, num_classes=configs.num_classes, finetune_lr=configs.finetune_lr_10, fraction=configs.fraction_10, device=device, callback=finetune_callback)"
   ]
  },
  {
   "cell_type": "code",
   "execution_count": 30,
   "metadata": {
    "ExecuteTime": {
     "end_time": "2023-11-09T02:39:11.209845900Z",
     "start_time": "2023-11-09T02:39:10.549066700Z"
    },
    "collapsed": false
   },
   "outputs": [],
   "source": [
    "finetune_model.load_state_dict(torch.load(f\"{working_directory}seed{RANDOM_SEED}_max_f1_{configs.fraction_10}_finetune_model.pt\"))\n",
    "start_logging(RANDOM_SEED, logging_directory)\n",
    "print(f\"Finetune for {configs.fraction_10} fraction of validation set\")\n",
    "finetune_predict(finetune_model, X_val, y_val[:,0])\n",
    "print(f\"Finetune for {configs.fraction_10} fraction of test set\")\n",
    "finetune_predict(finetune_model, X_test, y_test[:,0])\n",
    "print()\n",
    "stop_logging()"
   ]
  },
  {
   "cell_type": "code",
   "execution_count": 31,
   "metadata": {
    "ExecuteTime": {
     "end_time": "2023-11-09T02:39:11.665719100Z",
     "start_time": "2023-11-09T02:39:11.209845900Z"
    },
    "collapsed": false
   },
   "outputs": [
    {
     "data": {
      "image/png": "[encoded data removed]",
      "text/plain": [
       "<Figure size 800x800 with 2 Axes>"
      ]
     },
     "metadata": {},
     "output_type": "display_data"
    }
   ],
   "source": [
    "plt.figure(1, figsize=(8, 8))\n",
    "plt.subplot(121)\n",
    "plt.plot(epoch_loss_list)\n",
    "plt.title('Loss')\n",
    "plt.subplot(122)\n",
    "plt.plot(epoch_f1_list)\n",
    "plt.title('Accuracy')\n",
    "plt.show()"
   ]
  },
  {
   "cell_type": "markdown",
   "metadata": {
    "collapsed": false
   },
   "source": [
    "### 1% label"
   ]
  },
  {
   "cell_type": "code",
   "execution_count": 32,
   "metadata": {
    "ExecuteTime": {
     "end_time": "2023-11-09T02:39:11.948221500Z",
     "start_time": "2023-11-09T02:39:11.665719100Z"
    },
    "collapsed": false
   },
   "outputs": [
    {
     "data": {
      "text/plain": [
       "<All keys matched successfully>"
      ]
     },
     "execution_count": 32,
     "metadata": {},
     "output_type": "execute_result"
    }
   ],
   "source": [
    "seed_everything(RANDOM_SEED)\n",
    "finetune_model = FTClassifier(input_dims=configs.input_dims, output_dims=configs.output_dims, depth=configs.depth, p_output_dims=configs.num_classes, device=device, flag_use_multi_gpu=configs.flag_use_multi_gpu)\n",
    "finetune_model.net.load_state_dict(torch.load(f\"{working_directory}seed{RANDOM_SEED}_pretrain_model.pt\"))"
   ]
  },
  {
   "cell_type": "code",
   "execution_count": 33,
   "metadata": {
    "ExecuteTime": {
     "end_time": "2023-11-09T02:39:29.896383Z",
     "start_time": "2023-11-09T02:39:11.932603700Z"
    },
    "collapsed": false
   },
   "outputs": [],
   "source": [
    "seed_everything(RANDOM_SEED)\n",
    "epoch_loss_list, epoch_f1_list = finetune_fit(finetune_model, X_train, y_train[:, 0], X_val, y_val[:, 0], batch_size=configs.finetune_batch_size_1,finetune_epochs=configs.finetune_epochs_1, num_classes=configs.num_classes, finetune_lr=configs.finetune_lr_1, fraction=configs.fraction_1, device=device, callback=finetune_callback)"
   ]
  },
  {
   "cell_type": "code",
   "execution_count": 34,
   "metadata": {
    "ExecuteTime": {
     "end_time": "2023-11-09T02:39:30.459776100Z",
     "start_time": "2023-11-09T02:39:29.896383Z"
    },
    "collapsed": false
   },
   "outputs": [],
   "source": [
    "finetune_model.load_state_dict(torch.load(f\"{working_directory}seed{RANDOM_SEED}_max_f1_{configs.fraction_1}_finetune_model.pt\"))\n",
    "start_logging(RANDOM_SEED, logging_directory)\n",
    "print(f\"Finetune for {configs.fraction_1} fraction of validation set\")\n",
    "finetune_predict(finetune_model, X_val, y_val[:,0])\n",
    "print(f\"Finetune for {configs.fraction_1} fraction of test set\")\n",
    "finetune_predict(finetune_model, X_test, y_test[:,0])\n",
    "print()\n",
    "stop_logging()"
   ]
  },
  {
   "cell_type": "code",
   "execution_count": 35,
   "metadata": {
    "ExecuteTime": {
     "end_time": "2023-11-09T02:39:30.904193900Z",
     "start_time": "2023-11-09T02:39:30.459776100Z"
    },
    "collapsed": false
   },
   "outputs": [
    {
     "data": {
      "image/png": "[encoded data removed]",
      "text/plain": [
       "<Figure size 800x800 with 2 Axes>"
      ]
     },
     "metadata": {},
     "output_type": "display_data"
    }
   ],
   "source": [
    "plt.figure(1, figsize=(8, 8))\n",
    "plt.subplot(121)\n",
    "plt.plot(epoch_loss_list)\n",
    "plt.title('Loss')\n",
    "plt.subplot(122)\n",
    "plt.plot(epoch_f1_list)\n",
    "plt.title('Accuracy')\n",
    "plt.show()"
   ]
  },
  {
   "cell_type": "code",
   "execution_count": 36,
   "metadata": {
    "ExecuteTime": {
     "end_time": "2023-11-09T02:39:31.095064300Z",
     "start_time": "2023-11-09T02:39:30.872558700Z"
    },
    "collapsed": false
   },
   "outputs": [],
   "source": [
    "end_time = datetime.now()\n",
    "print(f'Duration: {end_time - start_time}')"
   ]
  },
  {
   "cell_type": "code",
   "execution_count": null,
   "metadata": {
    "ExecuteTime": {
     "end_time": "2023-11-09T02:39:31.108070700Z",
     "start_time": "2023-11-09T02:39:31.095064300Z"
    },
    "collapsed": false
   },
   "outputs": [],
   "source": []
  }
 ],
 "metadata": {
  "accelerator": "GPU",
  "colab": {
   "authorship_tag": "ABX9TyPJ0yeKiuGHJFdmAGX+ukV4",
   "provenance": []
  },
  "gpuClass": "premium",
  "kernelspec": {
   "display_name": "Python 3",
   "language": "python",
   "name": "python3"
  },
  "language_info": {
   "codemirror_mode": {
    "name": "ipython",
    "version": 3
   },
   "file_extension": ".py",
   "mimetype": "text/x-python",
   "name": "python",
   "nbconvert_exporter": "python",
   "pygments_lexer": "ipython3",
   "version": "3.11.5"
  }
 },
 "nbformat": 4,
 "nbformat_minor": 0
}
